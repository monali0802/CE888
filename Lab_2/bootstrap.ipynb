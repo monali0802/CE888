{
  "nbformat": 4,
  "nbformat_minor": 0,
  "metadata": {
    "colab": {
      "name": "bootstrap.ipynb",
      "provenance": [],
      "collapsed_sections": [],
      "include_colab_link": true
    },
    "kernelspec": {
      "display_name": "Python 3",
      "language": "python",
      "name": "python3"
    },
    "language_info": {
      "codemirror_mode": {
        "name": "ipython",
        "version": 3
      },
      "file_extension": ".py",
      "mimetype": "text/x-python",
      "name": "python",
      "nbconvert_exporter": "python",
      "pygments_lexer": "ipython3",
      "version": "3.7.6"
    },
    "pycharm": {
      "stem_cell": {
        "cell_type": "raw",
        "metadata": {
          "collapsed": false
        },
        "source": []
      }
    },
    "accelerator": "GPU"
  },
  "cells": [
    {
      "cell_type": "markdown",
      "metadata": {
        "id": "view-in-github",
        "colab_type": "text"
      },
      "source": [
        "<a href=\"https://colab.research.google.com/github/monali0802/CE888/blob/main/Lab_2/bootstrap.ipynb\" target=\"_parent\"><img src=\"https://colab.research.google.com/assets/colab-badge.svg\" alt=\"Open In Colab\"/></a>"
      ]
    },
    {
      "cell_type": "markdown",
      "metadata": {
        "id": "nCi_99yMYIb1"
      },
      "source": [
        "In this notebook you'll create your own bootstrap function following the bootstrap algorithm (check the lecture notes!)"
      ]
    },
    {
      "cell_type": "code",
      "metadata": {
        "id": "LY5zujI2YC37",
        "pycharm": {
          "name": "#%%# Imports\n"
        }
      },
      "source": [
        "import matplotlib\n",
        "import pandas as pd\n",
        "import seaborn as sns\n",
        "import numpy as np\n",
        "\n"
      ],
      "execution_count": 1,
      "outputs": []
    },
    {
      "cell_type": "code",
      "metadata": {
        "id": "Eqkwj4SMY38t",
        "colab": {
          "base_uri": "https://localhost:8080/"
        },
        "outputId": "872a8223-dc5a-4297-8914-4e93f4d01c63"
      },
      "source": [
        "# Load the data\n",
        "df = pd.read_csv('https://raw.githubusercontent.com/albanda/CE888/master/lab2%20-%20bootstrap/customers.csv')\n",
        "data = df.values.T[1]\n",
        "print(data.shape[0])"
      ],
      "execution_count": 2,
      "outputs": [
        {
          "output_type": "stream",
          "text": [
            "14\n"
          ],
          "name": "stdout"
        }
      ]
    },
    {
      "cell_type": "code",
      "metadata": {
        "id": "Gxvc_bScYC4H",
        "pycharm": {
          "name": "#%%\n"
        }
      },
      "source": [
        "# Checking the notes from the lecture, create here your own bootstrap function:\n",
        "# 1. Sample from the input array x to create an array of samples of shape (n_bootstraps, sample_size)\n",
        "# Hint: Check the function random.choice() on Numpy\n",
        "# 2. Calculate and save the mean of the array (this is \"data_mean\" that is returned by the function)\n",
        "# 3. Calculate the mean from each bootstrap (i.e., row) and store it.\n",
        "# (This should be an array of n_bootstraps values)\n",
        "# 4. Calculate the lower and upper bounds for a 95% CI (hint: check the percentile function on Numpy)\n",
        "# 5. Return data_mean, and the lower and upper bounds of your interval\n",
        "def bootstrap_mean(x, sample_size, n_bootstraps):\n",
        "  data_mean = np.mean(x)\n",
        "  final_arr =[0]*n_bootstraps\n",
        "  i = 0\n",
        "  while i < n_bootstraps:\n",
        "    random_choice = np.random.choice(x, sample_size)\n",
        "    final_arr[i] = np.mean(random_choice)\n",
        "    i+= 1\n",
        "  # calculate 95% confidence intervals (100 - alpha)\n",
        "  alpha = 5.0\n",
        "  # calculate lower percentile (e.g. 2.5)\n",
        "  lower_p = alpha / 2.0\n",
        "  # retrieve observation at lower percentile\n",
        "  lower = np.percentile(final_arr, lower_p)\n",
        "  # calculate upper percentile (e.g. 97.5)\n",
        "  upper_p = (100 - alpha) + (alpha / 2.0)\n",
        "  # retrieve observation at upper percentile\n",
        "  upper = np.percentile(final_arr, upper_p)\n",
        "  return data_mean, lower, upper\n"
      ],
      "execution_count": 3,
      "outputs": []
    },
    {
      "cell_type": "code",
      "metadata": {
        "id": "AN7sEOcMYC4P",
        "pycharm": {
          "name": "#%%\n"
        },
        "colab": {
          "base_uri": "https://localhost:8080/",
          "height": 454
        },
        "outputId": "77c3f541-05dc-4dd1-dbdb-dd0c0cb2ab02"
      },
      "source": [
        "# Call your bootstrap function and plot the results\n",
        "\n",
        "boots = []\n",
        "for i in range(100, 50000, 1000):\n",
        "    boot = bootstrap_mean(data, data.shape[0], i)\n",
        "    boots.append([i, boot[0], \"mean\"])\n",
        "    boots.append([i, boot[1], \"lower\"])\n",
        "    boots.append([i, boot[2], \"upper\"])\n",
        "\n",
        "df_boot = pd.DataFrame(boots, columns=['Bootstrap Iterations', 'Mean', \"Value\"])\n",
        "sns_plot = sns.lmplot(df_boot.columns[0], df_boot.columns[1], data=df_boot, fit_reg=False, hue=\"Value\")\n",
        "\n",
        "sns_plot.axes[0, 0].set_ylim(0,)\n",
        "sns_plot.axes[0, 0].set_xlim(0, 100000)\n"
      ],
      "execution_count": 4,
      "outputs": [
        {
          "output_type": "stream",
          "text": [
            "/usr/local/lib/python3.6/dist-packages/seaborn/_decorators.py:43: FutureWarning: Pass the following variables as keyword args: x, y. From version 0.12, the only valid positional argument will be `data`, and passing other arguments without an explicit keyword will result in an error or misinterpretation.\n",
            "  FutureWarning\n"
          ],
          "name": "stderr"
        },
        {
          "output_type": "execute_result",
          "data": {
            "text/plain": [
              "(0.0, 100000.0)"
            ]
          },
          "metadata": {
            "tags": []
          },
          "execution_count": 4
        },
        {
          "output_type": "display_data",
          "data": {
            "image/png": "[encoded data removed]",
            "text/plain": [
              "<Figure size 425.125x360 with 1 Axes>"
            ]
          },
          "metadata": {
            "tags": [],
            "needs_background": "light"
          }
        }
      ]
    },
    {
      "cell_type": "markdown",
      "metadata": {
        "id": "MjtP4e2_YC4V"
      },
      "source": [
        "\n",
        "Now, modify the bootstrap function you created above so that you can pass your desired confidence interval as a parameter.\n",
        "\n"
      ]
    },
    {
      "cell_type": "code",
      "metadata": {
        "id": "3K9j0FuGYhHs"
      },
      "source": [
        "def bootstrap_mean_ci(sample, sample_size, n_bootstraps, ci):\n",
        "  data_mean = np.mean(sample)\n",
        "  final_arr =[0] * n_bootstraps\n",
        "  i = 0\n",
        "  while i < n_bootstraps:\n",
        "    random_choice = np.random.choice(sample, sample_size)\n",
        "    final_arr[i] = np.mean(random_choice)\n",
        "    i += 1\n",
        "  alpha = 100 - ci\n",
        "  lower_p = alpha / 2.0\n",
        "  upper_p = (100 - alpha) + (alpha / 2.0)\n",
        "  lower = np.percentile(final_arr, lower_p)\n",
        "  upper = np.percentile(final_arr, upper_p)\n",
        "  return data_mean, lower, upper"
      ],
      "execution_count": 5,
      "outputs": []
    },
    {
      "cell_type": "code",
      "metadata": {
        "id": "uDnjq08GYl-C",
        "colab": {
          "base_uri": "https://localhost:8080/",
          "height": 455
        },
        "outputId": "417516ea-a481-4cf1-d3ab-96dc9fb4c500"
      },
      "source": [
        "boots = []\n",
        "for i in range(100, 50000, 1000):\n",
        "    boot = bootstrap_mean_ci(data, data.shape[0], i, 80)\n",
        "    boots.append([i, boot[0], \"mean\"])\n",
        "    boots.append([i, boot[1], \"lower\"])\n",
        "    boots.append([i, boot[2], \"upper\"])\n",
        "\n",
        "df_boot = pd.DataFrame(boots, columns=['Boostrap Iterations', 'Mean', \"Value\"])\n",
        "sns_plot = sns.lmplot(df_boot.columns[0], df_boot.columns[1], data=df_boot, fit_reg=False, hue=\"Value\")\n",
        "\n",
        "sns_plot.axes[0, 0].set_ylim(0,)\n",
        "sns_plot.axes[0, 0].set_xlim(0, 100000)\n",
        "\n",
        "#sns_plot.savefig(\"bootstrap_confidence_80.pdf\", bbox_inches='tight')\n"
      ],
      "execution_count": 6,
      "outputs": [
        {
          "output_type": "stream",
          "text": [
            "/usr/local/lib/python3.6/dist-packages/seaborn/_decorators.py:43: FutureWarning: Pass the following variables as keyword args: x, y. From version 0.12, the only valid positional argument will be `data`, and passing other arguments without an explicit keyword will result in an error or misinterpretation.\n",
            "  FutureWarning\n"
          ],
          "name": "stderr"
        },
        {
          "output_type": "execute_result",
          "data": {
            "text/plain": [
              "(0.0, 100000.0)"
            ]
          },
          "metadata": {
            "tags": []
          },
          "execution_count": 6
        },
        {
          "output_type": "display_data",
          "data": {
            "image/png": "[encoded data removed]",
            "text/plain": [
              "<Figure size 425.125x360 with 1 Axes>"
            ]
          },
          "metadata": {
            "tags": [],
            "needs_background": "light"
          }
        }
      ]
    },
    {
      "cell_type": "markdown",
      "metadata": {
        "id": "qjNgXW6wdd7r"
      },
      "source": [
        "# Vehicles dataset\n",
        "\n",
        "Now let's work on a different dataset, which is stored in the vehicles.csv file.\n"
      ]
    },
    {
      "cell_type": "code",
      "metadata": {
        "id": "avWv4ipFdpka"
      },
      "source": [
        "# Load and visualise the vehicles dataset\n",
        "# To load the dataset: https://neptune.ai/blog/google-colab-dealing-with-files (check section \"Load individual files directly from GitHub\")\n",
        "\n",
        "\n",
        "# Note that the current and new fleets are in different columns and have different lengths, so bear this in mind when you're plotting.\n",
        "# You can create separate scatterplots for the two fleets, as you would with the histograms, \n",
        "# or plot them both in one plot (but not one against the other).\n",
        "vehicle = pd.read_csv('https://raw.githubusercontent.com/albanda/CE888/master/lab2%20-%20bootstrap/vehicles.csv')\n",
        "vehicle_data = vehicle\n",
        "# print(len(vehicle_data[\"Current fleet\"]))\n",
        "# vehicle_data = vehicle_data.dropna()\n",
        "vehicle_cur_array = np.array(vehicle_data[\"Current fleet\"].dropna())\n",
        "vehicle_new_array = np.array(vehicle_data[\"New Fleet\"].dropna())\n",
        "# Note: you can add more cells as needed to organise your code and your plots\n"
      ],
      "execution_count": 26,
      "outputs": []
    },
    {
      "cell_type": "markdown",
      "metadata": {
        "id": "B5d0tXDpIEj8"
      },
      "source": [
        "## Compare the two fleets\r\n",
        "\r\n",
        "The business analysts come up a comparison algorithm that requires the upper and lower bounds for the mean in order to say which fleet is better.\r\n",
        "1. Calculate the mean of both samples.\r\n",
        "2. Using the bootstrap function that you created:\r\n",
        "    - Construct the 95% CI of the mean of the current fleet.\r\n",
        "    - Construct the 95% CI of the mean of the new fleet.\r\n",
        "    - Are they comparable? (i.e., is one better than the other?) -- you can do this with a permutation test (check the lecture notes!)"
      ]
    },
    {
      "cell_type": "code",
      "metadata": {
        "id": "po4mp6zRHC0m",
        "colab": {
          "base_uri": "https://localhost:8080/"
        },
        "outputId": "ee6dfeee-4439-4384-d103-00c74fec5d8a"
      },
      "source": [
        "# <---INSERT YOUR CODE HERE--->\n",
        "def permutation_loop(concatenate, current_len):\n",
        "  perm = np.random.permutation(concatenate)\n",
        "    \n",
        "  perm_current = perm[:current_len]\n",
        "  perm_new = perm[current_len:]\n",
        "  \n",
        "  perm_new_mean = np.mean(perm_new)\n",
        "  perm_current_mean = np.mean(perm_current)\n",
        "  # print(\"perm_new_mean\",perm_new_mean)\n",
        "  # print(\"perm_current_mean\",perm_current_mean)\n",
        "  t_perm = perm_new_mean - perm_current_mean\n",
        "  return t_perm\n",
        "\n",
        "def boostrap_mean_vehicle(vehicle_cur_array, vehicle_new_array, ci_v, iteration):\n",
        "  currentList = vehicle_cur_array\n",
        "  newList = vehicle_new_array\n",
        "  \n",
        "  current_len = len(currentList)\n",
        "  new_len = len(newList)\n",
        "\n",
        "  current_mean = np.mean(currentList)\n",
        "  new_mean = np.mean(newList)\n",
        "\n",
        "  ci_cur_mean = bootstrap_mean_ci(currentList, current_len, 10000, ci_v)\n",
        "  print(\"95% current fleet mean: \",ci_cur_mean[0],\"Lower: \", ci_cur_mean[1],\"Upper: \", ci_cur_mean[2])\n",
        "  ci_new_mean = bootstrap_mean_ci(newList, new_len, 10000, ci_v)\n",
        "  print(\"95% new fleet mean \",ci_new_mean[0],\"Lower: \", ci_new_mean[1],\"Upper: \", ci_new_mean[2])\n",
        "  \n",
        "  t_mean = new_mean - current_mean\n",
        "\n",
        "  concatenate = np.concatenate((currentList, newList))\n",
        " \n",
        "  i = 0\n",
        "  for check in range(iteration):\n",
        "    t_perm = permutation_loop(concatenate, current_len)\n",
        "    \n",
        "    if t_perm > t_mean:\n",
        "      i += 1\n",
        "  p_value = i/iteration\n",
        "  print(\"This many time perm value greater than observe \",i)\n",
        "  return p_value\n",
        "\n",
        "print(\"p_value\",boostrap_mean_vehicle(vehicle_cur_array, vehicle_new_array, 95, 20000))\n"
      ],
      "execution_count": 27,
      "outputs": [
        {
          "output_type": "stream",
          "text": [
            "95% current fleet mean:  20.14457831325301 Lower:  19.373393574297186 Upper:  20.95983935742972\n",
            "95% new fleet mean  30.481012658227847 Lower:  29.139240506329113 Upper:  31.82278481012658\n",
            "This many time perm value greater than observe  0\n",
            "p_value 0.0\n"
          ],
          "name": "stdout"
        }
      ]
    },
    {
      "cell_type": "code",
      "metadata": {
        "id": "MkxvDZG4HC0n"
      },
      "source": [
        "# Create your own function for a permutation test here (you will need it for the lab quiz!):\n",
        "def permut_test(sample1, sample2, n_permutations):\n",
        "    \"\"\"\n",
        "    sample1: 1D array\n",
        "    sample2: 1D array (note that the size of the two arrays can be different)\n",
        "    n_permutations: number of permutations to calculate the p-value\n",
        "    \"\"\"\n",
        "    return pvalue"
      ],
      "execution_count": 9,
      "outputs": []
    },
    {
      "cell_type": "code",
      "metadata": {
        "colab": {
          "base_uri": "https://localhost:8080/"
        },
        "id": "nw7qkGEfp9TC",
        "outputId": "ef5ba54a-b958-4fbb-e077-67c073fac906"
      },
      "source": [
        "# 90% interval of mean with 10000 iteration of customer data in quiz\r\n",
        "def bootstrap_mean(x, sample_size, n_bootstraps, c_interval):\r\n",
        "  data_mean = np.mean(x)\r\n",
        "  final_arr =[0]*n_bootstraps\r\n",
        "  i = 0\r\n",
        "  while i < n_bootstraps:\r\n",
        "    random_choice = np.random.choice(x, sample_size)\r\n",
        "    final_arr[i] = np.mean(random_choice)\r\n",
        "    i+= 1\r\n",
        "  # calculate 95% confidence intervals (100 - alpha)\r\n",
        "  alpha = 100 - c_interval\r\n",
        "  # calculate lower percentile (e.g. 2.5)\r\n",
        "  lower_p = alpha / 2.0\r\n",
        "  # retrieve observation at lower percentile\r\n",
        "  lower = np.percentile(final_arr, lower_p)\r\n",
        "  # calculate upper percentile (e.g. 97.5)\r\n",
        "  upper_p = (100 - alpha) + (alpha / 2.0)\r\n",
        "  # retrieve observation at upper percentile\r\n",
        "  upper = np.percentile(final_arr, upper_p)\r\n",
        "  return data_mean, lower, upper\r\n",
        "\r\n",
        "\r\n",
        "print(bootstrap_mean(data, data.shape[0], 10000, 90))"
      ],
      "execution_count": 13,
      "outputs": [
        {
          "output_type": "stream",
          "text": [
            "(9.214285714285714, 6.785714285714286, 11.789285714285663)\n"
          ],
          "name": "stdout"
        }
      ]
    },
    {
      "cell_type": "code",
      "metadata": {
        "colab": {
          "base_uri": "https://localhost:8080/"
        },
        "id": "jo2vhVw2qeIl",
        "outputId": "22777a48-f174-40d6-a860-90c850dd1653"
      },
      "source": [
        "# 95% interval of standard deviation with 10000 iteration of customer data in quiz\r\n",
        "def bootstrap_std(x, sample_size, n_bootstraps, c_interval):\r\n",
        "  data_mean = np.std(x)\r\n",
        "  final_arr =[0]*n_bootstraps\r\n",
        "  i = 0\r\n",
        "  while i < n_bootstraps:\r\n",
        "    random_choice = np.random.choice(x, sample_size)\r\n",
        "    final_arr[i] = np.std(random_choice)\r\n",
        "    i+= 1\r\n",
        "  # calculate 95% confidence intervals (100 - alpha)\r\n",
        "  alpha = 100 - c_interval\r\n",
        "  # calculate lower percentile (e.g. 2.5)\r\n",
        "  lower_p = alpha / 2.0\r\n",
        "  # retrieve observation at lower percentile\r\n",
        "  lower = np.percentile(final_arr, lower_p)\r\n",
        "  # calculate upper percentile (e.g. 97.5)\r\n",
        "  upper_p = (100 - alpha) + (alpha / 2.0)\r\n",
        "  # retrieve observation at upper percentile\r\n",
        "  upper = np.percentile(final_arr, upper_p)\r\n",
        "  return data_mean, lower, upper\r\n",
        "\r\n",
        "\r\n",
        "print(bootstrap_std(data, data.shape[0], 10000, 95))"
      ],
      "execution_count": 28,
      "outputs": [
        {
          "output_type": "stream",
          "text": [
            "(5.684296305594556, 2.7188870140180184, 7.401427051768994)\n"
          ],
          "name": "stdout"
        }
      ]
    },
    {
      "cell_type": "code",
      "metadata": {
        "colab": {
          "base_uri": "https://localhost:8080/"
        },
        "id": "Ev6yx8Nmrf0D",
        "outputId": "b2d6293d-1b33-41b1-b317-a7097c4a7d64"
      },
      "source": [
        " cur_len = len(vehicle_cur_array)\r\n",
        " print(bootstrap_mean_ci(vehicle_cur_array, cur_len, 10000, 85))"
      ],
      "execution_count": 25,
      "outputs": [
        {
          "output_type": "stream",
          "text": [
            "(20.14457831325301, 19.562248995983936, 20.72690763052209)\n"
          ],
          "name": "stdout"
        }
      ]
    },
    {
      "cell_type": "code",
      "metadata": {
        "colab": {
          "base_uri": "https://localhost:8080/"
        },
        "id": "hoEtA-nWtIV_",
        "outputId": "213c58ce-d16c-49fe-9108-0e264a686850"
      },
      "source": [
        "def bootstrap_std_ci(sample, sample_size, n_bootstraps, ci):\r\n",
        "  data_mean = np.std(sample)\r\n",
        "  final_arr =[0] * n_bootstraps\r\n",
        "  i = 0\r\n",
        "  while i < n_bootstraps:\r\n",
        "    random_choice = np.random.choice(sample, sample_size)\r\n",
        "    final_arr[i] = np.std(random_choice)\r\n",
        "    i += 1\r\n",
        "  alpha = 100 - ci\r\n",
        "  lower_p = alpha / 2.0\r\n",
        "  upper_p = (100 - alpha) + (alpha / 2.0)\r\n",
        "  lower = np.percentile(final_arr, lower_p)\r\n",
        "  upper = np.percentile(final_arr, upper_p)\r\n",
        "  return data_mean, lower, upper\r\n",
        "\r\n",
        "cur_len = len(vehicle_cur_array)\r\n",
        "print(bootstrap_std_ci(vehicle_cur_array, cur_len, 10000, 99))"
      ],
      "execution_count": 29,
      "outputs": [
        {
          "output_type": "stream",
          "text": [
            "(6.401805462179708, 5.619820923444959, 7.113067533949266)\n"
          ],
          "name": "stdout"
        }
      ]
    },
    {
      "cell_type": "code",
      "metadata": {
        "colab": {
          "base_uri": "https://localhost:8080/"
        },
        "id": "Y9ZHvMPWtprH",
        "outputId": "30ab8257-b008-4fc8-a5f2-440eb4ecaff2"
      },
      "source": [
        "dem_share_PA = [60.08, 40.64, 36.07, 41.21, 31.04, 43.78, 44.08, 46.85, 44.71, 46.15, 63.10, 52.20, 43.18, 40.24, 39.92, 47.87, 37.77, 40.11, 49.85, 48.61, 38.62, 54.25, 34.84, 47.75, 43.82, 55.97, 58.23, 42.97, 42.38, 36.11, 37.53, 42.65, 50.96, 47.43, 56.24, 45.60, 46.39, 35.22, 48.56, 32.97, 57.88, 36.05, 37.72, 50.36, 32.12, 41.55, 54.66, 57.81, 54.58, 32.88, 54.37, 40.45, 47.61, 60.49, 43.11, 27.32, 44.03, 33.56, 37.26, 54.64, 43.12, 25.34, 49.79, 83.56, 40.09, 60.81, 49.81]\r\n",
        "dem_share_OH = [56.94, 50.46, 65.99, 45.88, 42.23, 45.26, 57.01, 53.61, 59.10, 61.48, 43.43, 44.69, 54.59, 48.36, 45.89, 48.62, 43.92, 38.23, 28.79, 63.57, 38.07, 40.18, 43.05, 41.56, 42.49, 36.06, 52.76, 46.07, 39.43, 39.26, 47.47, 27.92, 38.01, 45.45, 29.07, 28.94, 51.28, 50.10, 39.84, 36.43, 35.71, 31.47, 47.01, 40.10, 48.76, 31.56, 39.86, 45.31, 35.47, 51.38, 46.33, 48.73, 41.77, 41.32, 48.46, 53.14, 34.01, 54.74, 40.67, 38.96, 46.29, 38.25, 6.80, 31.75, 46.33, 44.90, 33.57, 38.10, 39.67, 40.47, 49.44, 37.62, 36.71, 46.73, 42.20, 53.16, 52.40, 58.36, 68.02, 38.53, 34.58, 69.64, 60.50, 53.53, 36.54, 49.58, 41.97, 38.11]\r\n",
        "\r\n",
        "def permutation_loop(concatenate, current_len):\r\n",
        "  perm = np.random.permutation(concatenate)\r\n",
        "    \r\n",
        "  perm_current = perm[:current_len]\r\n",
        "  perm_new = perm[current_len:]\r\n",
        "  \r\n",
        "  perm_new_mean = np.mean(perm_new)\r\n",
        "  perm_current_mean = np.mean(perm_current)\r\n",
        "  # print(\"perm_new_mean\",perm_new_mean)\r\n",
        "  # print(\"perm_current_mean\",perm_current_mean)\r\n",
        "  t_perm = perm_new_mean - perm_current_mean\r\n",
        "  return t_perm\r\n",
        "\r\n",
        "def boostrap_mean_OH_PA(dem_share_OH, dem_share_PA, ci_v, iteration):\r\n",
        "  oh_len = len(dem_share_OH)\r\n",
        "  pa_len = len(dem_share_PA)\r\n",
        "\r\n",
        "  oh_mean = np.mean(dem_share_OH)\r\n",
        "  pa_mean = np.mean(dem_share_PA)\r\n",
        "  \r\n",
        "  print(\"OH \", oh_mean) \r\n",
        "  print(\"PA \", pa_mean)\r\n",
        "  ci_oh_mean = bootstrap_mean_ci(dem_share_OH, oh_len, 100000 , ci_v)\r\n",
        "  print(\"dem_share_OH mean: \",ci_oh_mean[0],\"Lower: \", ci_oh_mean[1],\"Upper: \", ci_oh_mean[2])\r\n",
        "  ci_pa_mean = bootstrap_mean_ci(dem_share_PA, pa_len, 100000 , ci_v)\r\n",
        "  print(\"dem_share_PA mean \",ci_pa_mean[0],\"Lower: \", ci_pa_mean[1],\"Upper: \", ci_pa_mean[2])\r\n",
        "  \r\n",
        "  t_mean = pa_mean - oh_mean\r\n",
        "\r\n",
        "  concatenate = np.concatenate((dem_share_OH, dem_share_PA))\r\n",
        " \r\n",
        "  i = 0\r\n",
        "  for check in range(iteration):\r\n",
        "    t_perm = permutation_loop(concatenate, oh_len)\r\n",
        "    \r\n",
        "    if t_perm > t_mean:\r\n",
        "      i += 1\r\n",
        "  p_value = i/iteration\r\n",
        "  print(\"This many time perm value greater than observe \",i)\r\n",
        "  return p_value\r\n",
        "\r\n",
        "print(\"p_value\",boostrap_mean_OH_PA(dem_share_OH, dem_share_PA, 90, 25000))"
      ],
      "execution_count": 35,
      "outputs": [
        {
          "output_type": "stream",
          "text": [
            "OH  44.31818181818182\n",
            "PA  45.476417910447765\n",
            "dem_share_OH mean:  44.31818181818182 Lower:  42.579772727272726 Upper:  46.04342045454545\n",
            "dem_share_PA mean  45.476417910447765 Lower:  43.55820895522388 Upper:  47.46373880597014\n",
            "This many time perm value greater than observe  5805\n",
            "p_value 0.2322\n"
          ],
          "name": "stdout"
        }
      ]
    }
  ]
}
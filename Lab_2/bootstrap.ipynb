{
  "nbformat": 4,
  "nbformat_minor": 0,
  "metadata": {
    "colab": {
      "name": "bootstrap.ipynb",
      "provenance": [],
      "collapsed_sections": [],
      "include_colab_link": true
    },
    "kernelspec": {
      "display_name": "Python 3",
      "language": "python",
      "name": "python3"
    },
    "language_info": {
      "codemirror_mode": {
        "name": "ipython",
        "version": 3
      },
      "file_extension": ".py",
      "mimetype": "text/x-python",
      "name": "python",
      "nbconvert_exporter": "python",
      "pygments_lexer": "ipython3",
      "version": "3.7.6"
    },
    "pycharm": {
      "stem_cell": {
        "cell_type": "raw",
        "metadata": {
          "collapsed": false
        },
        "source": []
      }
    }
  },
  "cells": [
    {
      "cell_type": "markdown",
      "metadata": {
        "id": "view-in-github",
        "colab_type": "text"
      },
      "source": [
        "<a href=\"https://colab.research.google.com/github/monali0802/CE888/blob/main/Lab_2/bootstrap.ipynb\" target=\"_parent\"><img src=\"https://colab.research.google.com/assets/colab-badge.svg\" alt=\"Open In Colab\"/></a>"
      ]
    },
    {
      "cell_type": "markdown",
      "metadata": {
        "id": "nCi_99yMYIb1"
      },
      "source": [
        "In this notebook you'll create your own bootstrap function following the bootstrap algorithm (check the lecture notes!)"
      ]
    },
    {
      "cell_type": "code",
      "metadata": {
        "id": "LY5zujI2YC37",
        "pycharm": {
          "name": "#%%# Imports\n"
        }
      },
      "source": [
        "import matplotlib\n",
        "import pandas as pd\n",
        "import seaborn as sns\n",
        "import numpy as np\n",
        "\n"
      ],
      "execution_count": null,
      "outputs": []
    },
    {
      "cell_type": "code",
      "metadata": {
        "id": "Eqkwj4SMY38t",
        "colab": {
          "base_uri": "https://localhost:8080/"
        },
        "outputId": "72aca6b3-66d2-42e5-db27-5e6f5b71a62d"
      },
      "source": [
        "# Load the data\n",
        "df = pd.read_csv('https://raw.githubusercontent.com/albanda/CE888/master/lab2%20-%20bootstrap/customers.csv')\n",
        "data = df.values.T[1]\n",
        "print(data.shape[0])"
      ],
      "execution_count": null,
      "outputs": [
        {
          "output_type": "stream",
          "text": [
            "14\n"
          ],
          "name": "stdout"
        }
      ]
    },
    {
      "cell_type": "code",
      "metadata": {
        "id": "Gxvc_bScYC4H",
        "pycharm": {
          "name": "#%%\n"
        }
      },
      "source": [
        "# Checking the notes from the lecture, create here your own bootstrap function:\n",
        "# 1. Sample from the input array x to create an array of samples of shape (n_bootstraps, sample_size)\n",
        "# Hint: Check the function random.choice() on Numpy\n",
        "# 2. Calculate and save the mean of the array (this is \"data_mean\" that is returned by the function)\n",
        "# 3. Calculate the mean from each bootstrap (i.e., row) and store it.\n",
        "# (This should be an array of n_bootstraps values)\n",
        "# 4. Calculate the lower and upper bounds for a 95% CI (hint: check the percentile function on Numpy)\n",
        "# 5. Return data_mean, and the lower and upper bounds of your interval\n",
        "def bootstrap_mean(x, sample_size, n_bootstraps):\n",
        "  data_mean = np.mean(x)\n",
        "  final_arr =[0]*n_bootstraps\n",
        "  i = 0\n",
        "  while i < n_bootstraps:\n",
        "    random_choice = np.random.choice(x, sample_size)\n",
        "    final_arr[i] = np.mean(random_choice)\n",
        "    i+= 1\n",
        "  # calculate 95% confidence intervals (100 - alpha)\n",
        "  alpha = 5.0\n",
        "  # calculate lower percentile (e.g. 2.5)\n",
        "  lower_p = alpha / 2.0\n",
        "  # retrieve observation at lower percentile\n",
        "  lower = np.percentile(final_arr, lower_p)\n",
        "  # calculate upper percentile (e.g. 97.5)\n",
        "  upper_p = (100 - alpha) + (alpha / 2.0)\n",
        "  # retrieve observation at upper percentile\n",
        "  upper = np.percentile(final_arr, upper_p)\n",
        "  return data_mean, lower, upper\n"
      ],
      "execution_count": null,
      "outputs": []
    },
    {
      "cell_type": "code",
      "metadata": {
        "id": "AN7sEOcMYC4P",
        "pycharm": {
          "name": "#%%\n"
        },
        "colab": {
          "base_uri": "https://localhost:8080/",
          "height": 454
        },
        "outputId": "ce4b6747-9ac1-4297-f499-72be9ccde3d7"
      },
      "source": [
        "# Call your bootstrap function and plot the results\n",
        "\n",
        "boots = []\n",
        "for i in range(100, 50000, 1000):\n",
        "    boot = bootstrap_mean(data, data.shape[0], i)\n",
        "    boots.append([i, boot[0], \"mean\"])\n",
        "    boots.append([i, boot[1], \"lower\"])\n",
        "    boots.append([i, boot[2], \"upper\"])\n",
        "\n",
        "df_boot = pd.DataFrame(boots, columns=['Bootstrap Iterations', 'Mean', \"Value\"])\n",
        "sns_plot = sns.lmplot(df_boot.columns[0], df_boot.columns[1], data=df_boot, fit_reg=False, hue=\"Value\")\n",
        "\n",
        "sns_plot.axes[0, 0].set_ylim(0,)\n",
        "sns_plot.axes[0, 0].set_xlim(0, 100000)\n"
      ],
      "execution_count": null,
      "outputs": [
        {
          "output_type": "stream",
          "text": [
            "/usr/local/lib/python3.6/dist-packages/seaborn/_decorators.py:43: FutureWarning: Pass the following variables as keyword args: x, y. From version 0.12, the only valid positional argument will be `data`, and passing other arguments without an explicit keyword will result in an error or misinterpretation.\n",
            "  FutureWarning\n"
          ],
          "name": "stderr"
        },
        {
          "output_type": "execute_result",
          "data": {
            "text/plain": [
              "(0.0, 100000.0)"
            ]
          },
          "metadata": {
            "tags": []
          },
          "execution_count": 76
        },
        {
          "output_type": "display_data",
          "data": {
            "image/png": "[encoded data removed]",
            "text/plain": [
              "<Figure size 425.125x360 with 1 Axes>"
            ]
          },
          "metadata": {
            "tags": [],
            "needs_background": "light"
          }
        }
      ]
    },
    {
      "cell_type": "markdown",
      "metadata": {
        "id": "MjtP4e2_YC4V"
      },
      "source": [
        "\n",
        "Now, modify the bootstrap function you created above so that you can pass your desired confidence interval as a parameter.\n",
        "\n"
      ]
    },
    {
      "cell_type": "code",
      "metadata": {
        "id": "3K9j0FuGYhHs"
      },
      "source": [
        "def bootstrap_mean_ci(sample, sample_size, n_bootstraps, ci):\n",
        "  data_mean = np.mean(sample)\n",
        "  final_arr =[0] * n_bootstraps\n",
        "  i = 0\n",
        "  while i < n_bootstraps:\n",
        "    random_choice = np.random.choice(sample, sample_size)\n",
        "    final_arr[i] = np.mean(random_choice)\n",
        "    i += 1\n",
        "  alpha = 100 - ci\n",
        "  lower_p = alpha / 2.0\n",
        "  upper_p = (100 - alpha) + (alpha / 2.0)\n",
        "  lower = np.percentile(final_arr, lower_p)\n",
        "  upper = np.percentile(final_arr, upper_p)\n",
        "  return data_mean, lower, upper"
      ],
      "execution_count": null,
      "outputs": []
    },
    {
      "cell_type": "code",
      "metadata": {
        "id": "uDnjq08GYl-C",
        "colab": {
          "base_uri": "https://localhost:8080/",
          "height": 454
        },
        "outputId": "41fa5843-f518-4209-e709-386963fa5f0b"
      },
      "source": [
        "boots = []\n",
        "for i in range(100, 50000, 1000):\n",
        "    boot = bootstrap_mean_ci(data, data.shape[0], i, 80)\n",
        "    boots.append([i, boot[0], \"mean\"])\n",
        "    boots.append([i, boot[1], \"lower\"])\n",
        "    boots.append([i, boot[2], \"upper\"])\n",
        "\n",
        "df_boot = pd.DataFrame(boots, columns=['Boostrap Iterations', 'Mean', \"Value\"])\n",
        "sns_plot = sns.lmplot(df_boot.columns[0], df_boot.columns[1], data=df_boot, fit_reg=False, hue=\"Value\")\n",
        "\n",
        "sns_plot.axes[0, 0].set_ylim(0,)\n",
        "sns_plot.axes[0, 0].set_xlim(0, 100000)\n",
        "\n",
        "#sns_plot.savefig(\"bootstrap_confidence_80.pdf\", bbox_inches='tight')\n"
      ],
      "execution_count": null,
      "outputs": [
        {
          "output_type": "stream",
          "text": [
            "/usr/local/lib/python3.6/dist-packages/seaborn/_decorators.py:43: FutureWarning: Pass the following variables as keyword args: x, y. From version 0.12, the only valid positional argument will be `data`, and passing other arguments without an explicit keyword will result in an error or misinterpretation.\n",
            "  FutureWarning\n"
          ],
          "name": "stderr"
        },
        {
          "output_type": "execute_result",
          "data": {
            "text/plain": [
              "(0.0, 100000.0)"
            ]
          },
          "metadata": {
            "tags": []
          },
          "execution_count": 104
        },
        {
          "output_type": "display_data",
          "data": {
            "image/png": "[encoded data removed]",
            "text/plain": [
              "<Figure size 425.125x360 with 1 Axes>"
            ]
          },
          "metadata": {
            "tags": [],
            "needs_background": "light"
          }
        }
      ]
    },
    {
      "cell_type": "markdown",
      "metadata": {
        "id": "qjNgXW6wdd7r"
      },
      "source": [
        "# Vehicles dataset\n",
        "\n",
        "Now let's work on a different dataset, which is stored in the vehicles.csv file.\n"
      ]
    },
    {
      "cell_type": "code",
      "metadata": {
        "id": "avWv4ipFdpka"
      },
      "source": [
        "# Load and visualise the vehicles dataset\n",
        "# To load the dataset: https://neptune.ai/blog/google-colab-dealing-with-files (check section \"Load individual files directly from GitHub\")\n",
        "\n",
        "\n",
        "# Note that the current and new fleets are in different columns and have different lengths, so bear this in mind when you're plotting.\n",
        "# You can create separate scatterplots for the two fleets, as you would with the histograms, \n",
        "# or plot them both in one plot (but not one against the other).\n",
        "vehicle = pd.read_csv('https://raw.githubusercontent.com/albanda/CE888/master/lab2%20-%20bootstrap/vehicles.csv')\n",
        "vehicle_data = vehicle\n",
        "# Note: you can add more cells as needed to organise your code and your plots\n"
      ],
      "execution_count": null,
      "outputs": []
    },
    {
      "cell_type": "markdown",
      "metadata": {
        "id": "B5d0tXDpIEj8"
      },
      "source": [
        "## Compare the two fleets\r\n",
        "\r\n",
        "The business analysts come up a comparison algorithm that requires the upper and lower bounds for the mean in order to say which fleet is better.\r\n",
        "1. Calculate the mean of both samples.\r\n",
        "2. Using the bootstrap function that you created:\r\n",
        "    - Construct the 95% CI of the mean of the current fleet.\r\n",
        "    - Construct the 95% CI of the mean of the new fleet.\r\n",
        "    - Are they comparable? (i.e., is one better than the other?) -- you can do this with a permutation test (check the lecture notes!)"
      ]
    },
    {
      "cell_type": "code",
      "metadata": {
        "id": "po4mp6zRHC0m",
        "colab": {
          "base_uri": "https://localhost:8080/"
        },
        "outputId": "bc13ed12-b2e3-4a19-c64b-528451d74d6e"
      },
      "source": [
        "# <---INSERT YOUR CODE HERE--->\n",
        "def permutation_loop(concatenate, current_len):\n",
        "  perm = np.random.permutation(concatenate)\n",
        "    \n",
        "  perm_current = perm[:current_len]\n",
        "  perm_new = perm[current_len:]\n",
        "  \n",
        "  perm_new_mean = np.mean(perm_new)\n",
        "  perm_current_mean = np.mean(perm_current)\n",
        " \n",
        "  t_perm = perm_new_mean - perm_current_mean\n",
        "  print(t_perm)\n",
        "  return t_perm\n",
        "\n",
        "def boostrap_mean_vehicle(vehicle_data, ci_v):\n",
        "  where_are_NaNs = np.isnan(vehicle_data[\"Current fleet\"])\n",
        "  vehicle_data[\"Current fleet\"][where_are_NaNs] = 0\n",
        "\n",
        "  where_are_NaNs = np.isnan(vehicle_data[\"New Fleet\"])\n",
        "  vehicle_data[\"New Fleet\"][where_are_NaNs] = 0\n",
        "\n",
        "  current_len = len(vehicle_data[\"Current fleet\"])\n",
        "\n",
        "  current_mean = np.mean(vehicle_data[\"Current fleet\"])\n",
        "  new_mean = np.mean(vehicle_data['New Fleet'])\n",
        "\n",
        "  # i = 0\n",
        "\n",
        "  # final_arr_cur =[0] * n_bootstraps\n",
        "  # while i < n_bootstraps:\n",
        "  #   random_choice = np.random.choice(vehicle_data[\"Current fleet\"], len(vehicle_data[\"Current fleet\"]))\n",
        "  #   final_arr_cur[i] = np.mean(random_choice)\n",
        "  #   i += 1\n",
        "\n",
        "  # final_arr_new =[0] * n_bootstraps\n",
        "  # while i < n_bootstraps:\n",
        "  #   random_choice = np.random.choice(vehicle_data[\"New fleet\"], len(vehicle_data['New Fleet']))\n",
        "  #   final_arr_new[i] = np.mean(random_choice)\n",
        "  #   i += 1\n",
        "\n",
        "  # alpha_veh = 100 - ci_v\n",
        "  # lower_p_v = alpha_veh / 2.0\n",
        "  # upper_p_v = (100 - alpha_veh) + (alpha_veh / 2.0)\n",
        "\n",
        "  # lower_cur = np.percentile(final_arr_cur, lower_p_v)\n",
        "  # upper_cur = np.percentile(final_arr_cur, upper_p_v)\n",
        "\n",
        "  # lower_new = np.percentile(final_arr_new, lower_p_v)\n",
        "  # upper_new = np.percentile(final_arr_new, upper_p_v) \n",
        "\n",
        "  t_mean = new_mean - current_mean\n",
        "\n",
        "  concatenate = np.concatenate((vehicle_data[\"Current fleet\"], vehicle_data['New Fleet']))\n",
        "  perm = np.random.permutation(concatenate)\n",
        "    \n",
        "  perm_current = perm[:current_len]\n",
        "  perm_new = perm[current_len:]\n",
        "  \n",
        "  perm_new_mean = np.mean(perm_new)\n",
        "  perm_current_mean = np.mean(perm_current)\n",
        "  \n",
        "  t_perm = perm_new_mean - perm_current_mean\n",
        "  print(t_mean)\n",
        "  print(t_perm)\n",
        "  i = 0\n",
        "  # while t_perm < t_mean:\n",
        "  #   t_perm = permutation_loop(concatenate, current_len)\n",
        "  #   print(i)\n",
        "  #   i += 1\n",
        "  print(i)\n",
        "  print(t_perm)\n",
        "  return current_mean, new_mean\n",
        "\n",
        "boostrap_mean_vehicle(vehicle_data, 95)"
      ],
      "execution_count": 32,
      "outputs": [
        {
          "output_type": "stream",
          "text": [
            "-10.473895582329316\n",
            "0.29718875502008046\n",
            "0\n",
            "0.29718875502008046\n"
          ],
          "name": "stdout"
        },
        {
          "output_type": "stream",
          "text": [
            "/usr/local/lib/python3.6/dist-packages/ipykernel_launcher.py:17: SettingWithCopyWarning: \n",
            "A value is trying to be set on a copy of a slice from a DataFrame\n",
            "\n",
            "See the caveats in the documentation: https://pandas.pydata.org/pandas-docs/stable/user_guide/indexing.html#returning-a-view-versus-a-copy\n",
            "/usr/local/lib/python3.6/dist-packages/ipykernel_launcher.py:20: SettingWithCopyWarning: \n",
            "A value is trying to be set on a copy of a slice from a DataFrame\n",
            "\n",
            "See the caveats in the documentation: https://pandas.pydata.org/pandas-docs/stable/user_guide/indexing.html#returning-a-view-versus-a-copy\n"
          ],
          "name": "stderr"
        },
        {
          "output_type": "execute_result",
          "data": {
            "text/plain": [
              "(20.14457831325301, 9.670682730923694)"
            ]
          },
          "metadata": {
            "tags": []
          },
          "execution_count": 32
        }
      ]
    },
    {
      "cell_type": "code",
      "metadata": {
        "id": "MkxvDZG4HC0n"
      },
      "source": [
        "# Create your own function for a permutation test here (you will need it for the lab quiz!):\n",
        "def permut_test(sample1, sample2, n_permutations):\n",
        "    \"\"\"\n",
        "    sample1: 1D array\n",
        "    sample2: 1D array (note that the size of the two arrays can be different)\n",
        "    n_permutations: number of permutations to calculate the p-value\n",
        "    \"\"\"\n",
        "    return pvalue"
      ],
      "execution_count": null,
      "outputs": []
    }
  ]
}
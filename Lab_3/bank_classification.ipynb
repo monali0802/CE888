{
  "nbformat": 4,
  "nbformat_minor": 0,
  "metadata": {
    "accelerator": "GPU",
    "colab": {
      "name": "bank_classification.ipynb",
      "provenance": [],
      "collapsed_sections": [],
      "mount_file_id": "1HYyNFwpEEnB49Wfr6pPuqXebzr_hkD7f",
      "authorship_tag": "ABX9TyPreU6abTsSUXu1WO/HFB2S",
      "include_colab_link": true
    },
    "kernelspec": {
      "display_name": "Python 3",
      "name": "python3"
    }
  },
  "cells": [
    {
      "cell_type": "markdown",
      "metadata": {
        "id": "view-in-github",
        "colab_type": "text"
      },
      "source": [
        "<a href=\"https://colab.research.google.com/github/monali0802/CE888/blob/main/Lab_3/bank_classification.ipynb\" target=\"_parent\"><img src=\"https://colab.research.google.com/assets/colab-badge.svg\" alt=\"Open In Colab\"/></a>"
      ]
    },
    {
      "cell_type": "code",
      "metadata": {
        "id": "DFzKQNqUgdcE"
      },
      "source": [
        "%matplotlib inline\r\n",
        "import matplotlib\r\n",
        "import numpy as np\r\n",
        "import matplotlib.pyplot as plt\r\n",
        "import pandas as pd\r\n",
        "import seaborn as sns\r\n",
        "import itertools\r\n",
        "\r\n",
        "from sklearn.tree import DecisionTreeRegressor\r\n",
        "from sklearn.ensemble import RandomForestClassifier, ExtraTreesClassifier\r\n",
        "from sklearn.model_selection import cross_val_score\r\n",
        "from sklearn.model_selection import train_test_split\r\n",
        "from sklearn.model_selection import GridSearchCV\r\n",
        "from sklearn.metrics import mean_squared_error as mse\r\n",
        "from sklearn.metrics import mean_absolute_error as mae\r\n",
        "from sklearn.metrics import accuracy_score as acc\r\n",
        "# from sklearn.metrics import fbeta_score, Scorer\r\n",
        "from sklearn.metrics import balanced_accuracy_score \r\n",
        "from sklearn.metrics import f1_score\r\n",
        "from sklearn.metrics import make_scorer, confusion_matrix\r\n",
        "from sklearn.dummy import DummyRegressor, DummyClassifier\r\n",
        "from sklearn.preprocessing import LabelEncoder"
      ],
      "execution_count": 1,
      "outputs": []
    },
    {
      "cell_type": "code",
      "metadata": {
        "colab": {
          "base_uri": "https://localhost:8080/",
          "height": 439
        },
        "id": "2bvrTSHDlLJY",
        "outputId": "2f4d1c2d-8d1c-42b7-a478-4fdf07a25921"
      },
      "source": [
        "df = pd.read_csv(\"https://raw.githubusercontent.com/albanda/ce888/master/lab3/bank-additional-full.csv\", delimiter=\";\")\r\n",
        "df"
      ],
      "execution_count": 2,
      "outputs": [
        {
          "output_type": "execute_result",
          "data": {
            "text/html": [
              "<div>\n",
              "<style scoped>\n",
              "    .dataframe tbody tr th:only-of-type {\n",
              "        vertical-align: middle;\n",
              "    }\n",
              "\n",
              "    .dataframe tbody tr th {\n",
              "        vertical-align: top;\n",
              "    }\n",
              "\n",
              "    .dataframe thead th {\n",
              "        text-align: right;\n",
              "    }\n",
              "</style>\n",
              "<table border=\"1\" class=\"dataframe\">\n",
              "  <thead>\n",
              "    <tr style=\"text-align: right;\">\n",
              "      <th></th>\n",
              "      <th>age</th>\n",
              "      <th>job</th>\n",
              "      <th>marital</th>\n",
              "      <th>education</th>\n",
              "      <th>default</th>\n",
              "      <th>housing</th>\n",
              "      <th>loan</th>\n",
              "      <th>contact</th>\n",
              "      <th>month</th>\n",
              "      <th>day_of_week</th>\n",
              "      <th>duration</th>\n",
              "      <th>campaign</th>\n",
              "      <th>pdays</th>\n",
              "      <th>previous</th>\n",
              "      <th>poutcome</th>\n",
              "      <th>emp.var.rate</th>\n",
              "      <th>cons.price.idx</th>\n",
              "      <th>cons.conf.idx</th>\n",
              "      <th>euribor3m</th>\n",
              "      <th>nr.employed</th>\n",
              "      <th>y</th>\n",
              "    </tr>\n",
              "  </thead>\n",
              "  <tbody>\n",
              "    <tr>\n",
              "      <th>0</th>\n",
              "      <td>56</td>\n",
              "      <td>housemaid</td>\n",
              "      <td>married</td>\n",
              "      <td>basic.4y</td>\n",
              "      <td>no</td>\n",
              "      <td>no</td>\n",
              "      <td>no</td>\n",
              "      <td>telephone</td>\n",
              "      <td>may</td>\n",
              "      <td>mon</td>\n",
              "      <td>261</td>\n",
              "      <td>1</td>\n",
              "      <td>999</td>\n",
              "      <td>0</td>\n",
              "      <td>nonexistent</td>\n",
              "      <td>1.1</td>\n",
              "      <td>93.994</td>\n",
              "      <td>-36.4</td>\n",
              "      <td>4.857</td>\n",
              "      <td>5191.0</td>\n",
              "      <td>no</td>\n",
              "    </tr>\n",
              "    <tr>\n",
              "      <th>1</th>\n",
              "      <td>57</td>\n",
              "      <td>services</td>\n",
              "      <td>married</td>\n",
              "      <td>high.school</td>\n",
              "      <td>unknown</td>\n",
              "      <td>no</td>\n",
              "      <td>no</td>\n",
              "      <td>telephone</td>\n",
              "      <td>may</td>\n",
              "      <td>mon</td>\n",
              "      <td>149</td>\n",
              "      <td>1</td>\n",
              "      <td>999</td>\n",
              "      <td>0</td>\n",
              "      <td>nonexistent</td>\n",
              "      <td>1.1</td>\n",
              "      <td>93.994</td>\n",
              "      <td>-36.4</td>\n",
              "      <td>4.857</td>\n",
              "      <td>5191.0</td>\n",
              "      <td>no</td>\n",
              "    </tr>\n",
              "    <tr>\n",
              "      <th>2</th>\n",
              "      <td>37</td>\n",
              "      <td>services</td>\n",
              "      <td>married</td>\n",
              "      <td>high.school</td>\n",
              "      <td>no</td>\n",
              "      <td>yes</td>\n",
              "      <td>no</td>\n",
              "      <td>telephone</td>\n",
              "      <td>may</td>\n",
              "      <td>mon</td>\n",
              "      <td>226</td>\n",
              "      <td>1</td>\n",
              "      <td>999</td>\n",
              "      <td>0</td>\n",
              "      <td>nonexistent</td>\n",
              "      <td>1.1</td>\n",
              "      <td>93.994</td>\n",
              "      <td>-36.4</td>\n",
              "      <td>4.857</td>\n",
              "      <td>5191.0</td>\n",
              "      <td>no</td>\n",
              "    </tr>\n",
              "    <tr>\n",
              "      <th>3</th>\n",
              "      <td>40</td>\n",
              "      <td>admin.</td>\n",
              "      <td>married</td>\n",
              "      <td>basic.6y</td>\n",
              "      <td>no</td>\n",
              "      <td>no</td>\n",
              "      <td>no</td>\n",
              "      <td>telephone</td>\n",
              "      <td>may</td>\n",
              "      <td>mon</td>\n",
              "      <td>151</td>\n",
              "      <td>1</td>\n",
              "      <td>999</td>\n",
              "      <td>0</td>\n",
              "      <td>nonexistent</td>\n",
              "      <td>1.1</td>\n",
              "      <td>93.994</td>\n",
              "      <td>-36.4</td>\n",
              "      <td>4.857</td>\n",
              "      <td>5191.0</td>\n",
              "      <td>no</td>\n",
              "    </tr>\n",
              "    <tr>\n",
              "      <th>4</th>\n",
              "      <td>56</td>\n",
              "      <td>services</td>\n",
              "      <td>married</td>\n",
              "      <td>high.school</td>\n",
              "      <td>no</td>\n",
              "      <td>no</td>\n",
              "      <td>yes</td>\n",
              "      <td>telephone</td>\n",
              "      <td>may</td>\n",
              "      <td>mon</td>\n",
              "      <td>307</td>\n",
              "      <td>1</td>\n",
              "      <td>999</td>\n",
              "      <td>0</td>\n",
              "      <td>nonexistent</td>\n",
              "      <td>1.1</td>\n",
              "      <td>93.994</td>\n",
              "      <td>-36.4</td>\n",
              "      <td>4.857</td>\n",
              "      <td>5191.0</td>\n",
              "      <td>no</td>\n",
              "    </tr>\n",
              "    <tr>\n",
              "      <th>...</th>\n",
              "      <td>...</td>\n",
              "      <td>...</td>\n",
              "      <td>...</td>\n",
              "      <td>...</td>\n",
              "      <td>...</td>\n",
              "      <td>...</td>\n",
              "      <td>...</td>\n",
              "      <td>...</td>\n",
              "      <td>...</td>\n",
              "      <td>...</td>\n",
              "      <td>...</td>\n",
              "      <td>...</td>\n",
              "      <td>...</td>\n",
              "      <td>...</td>\n",
              "      <td>...</td>\n",
              "      <td>...</td>\n",
              "      <td>...</td>\n",
              "      <td>...</td>\n",
              "      <td>...</td>\n",
              "      <td>...</td>\n",
              "      <td>...</td>\n",
              "    </tr>\n",
              "    <tr>\n",
              "      <th>41183</th>\n",
              "      <td>73</td>\n",
              "      <td>retired</td>\n",
              "      <td>married</td>\n",
              "      <td>professional.course</td>\n",
              "      <td>no</td>\n",
              "      <td>yes</td>\n",
              "      <td>no</td>\n",
              "      <td>cellular</td>\n",
              "      <td>nov</td>\n",
              "      <td>fri</td>\n",
              "      <td>334</td>\n",
              "      <td>1</td>\n",
              "      <td>999</td>\n",
              "      <td>0</td>\n",
              "      <td>nonexistent</td>\n",
              "      <td>-1.1</td>\n",
              "      <td>94.767</td>\n",
              "      <td>-50.8</td>\n",
              "      <td>1.028</td>\n",
              "      <td>4963.6</td>\n",
              "      <td>yes</td>\n",
              "    </tr>\n",
              "    <tr>\n",
              "      <th>41184</th>\n",
              "      <td>46</td>\n",
              "      <td>blue-collar</td>\n",
              "      <td>married</td>\n",
              "      <td>professional.course</td>\n",
              "      <td>no</td>\n",
              "      <td>no</td>\n",
              "      <td>no</td>\n",
              "      <td>cellular</td>\n",
              "      <td>nov</td>\n",
              "      <td>fri</td>\n",
              "      <td>383</td>\n",
              "      <td>1</td>\n",
              "      <td>999</td>\n",
              "      <td>0</td>\n",
              "      <td>nonexistent</td>\n",
              "      <td>-1.1</td>\n",
              "      <td>94.767</td>\n",
              "      <td>-50.8</td>\n",
              "      <td>1.028</td>\n",
              "      <td>4963.6</td>\n",
              "      <td>no</td>\n",
              "    </tr>\n",
              "    <tr>\n",
              "      <th>41185</th>\n",
              "      <td>56</td>\n",
              "      <td>retired</td>\n",
              "      <td>married</td>\n",
              "      <td>university.degree</td>\n",
              "      <td>no</td>\n",
              "      <td>yes</td>\n",
              "      <td>no</td>\n",
              "      <td>cellular</td>\n",
              "      <td>nov</td>\n",
              "      <td>fri</td>\n",
              "      <td>189</td>\n",
              "      <td>2</td>\n",
              "      <td>999</td>\n",
              "      <td>0</td>\n",
              "      <td>nonexistent</td>\n",
              "      <td>-1.1</td>\n",
              "      <td>94.767</td>\n",
              "      <td>-50.8</td>\n",
              "      <td>1.028</td>\n",
              "      <td>4963.6</td>\n",
              "      <td>no</td>\n",
              "    </tr>\n",
              "    <tr>\n",
              "      <th>41186</th>\n",
              "      <td>44</td>\n",
              "      <td>technician</td>\n",
              "      <td>married</td>\n",
              "      <td>professional.course</td>\n",
              "      <td>no</td>\n",
              "      <td>no</td>\n",
              "      <td>no</td>\n",
              "      <td>cellular</td>\n",
              "      <td>nov</td>\n",
              "      <td>fri</td>\n",
              "      <td>442</td>\n",
              "      <td>1</td>\n",
              "      <td>999</td>\n",
              "      <td>0</td>\n",
              "      <td>nonexistent</td>\n",
              "      <td>-1.1</td>\n",
              "      <td>94.767</td>\n",
              "      <td>-50.8</td>\n",
              "      <td>1.028</td>\n",
              "      <td>4963.6</td>\n",
              "      <td>yes</td>\n",
              "    </tr>\n",
              "    <tr>\n",
              "      <th>41187</th>\n",
              "      <td>74</td>\n",
              "      <td>retired</td>\n",
              "      <td>married</td>\n",
              "      <td>professional.course</td>\n",
              "      <td>no</td>\n",
              "      <td>yes</td>\n",
              "      <td>no</td>\n",
              "      <td>cellular</td>\n",
              "      <td>nov</td>\n",
              "      <td>fri</td>\n",
              "      <td>239</td>\n",
              "      <td>3</td>\n",
              "      <td>999</td>\n",
              "      <td>1</td>\n",
              "      <td>failure</td>\n",
              "      <td>-1.1</td>\n",
              "      <td>94.767</td>\n",
              "      <td>-50.8</td>\n",
              "      <td>1.028</td>\n",
              "      <td>4963.6</td>\n",
              "      <td>no</td>\n",
              "    </tr>\n",
              "  </tbody>\n",
              "</table>\n",
              "<p>41188 rows × 21 columns</p>\n",
              "</div>"
            ],
            "text/plain": [
              "       age          job  marital  ... euribor3m nr.employed    y\n",
              "0       56    housemaid  married  ...     4.857      5191.0   no\n",
              "1       57     services  married  ...     4.857      5191.0   no\n",
              "2       37     services  married  ...     4.857      5191.0   no\n",
              "3       40       admin.  married  ...     4.857      5191.0   no\n",
              "4       56     services  married  ...     4.857      5191.0   no\n",
              "...    ...          ...      ...  ...       ...         ...  ...\n",
              "41183   73      retired  married  ...     1.028      4963.6  yes\n",
              "41184   46  blue-collar  married  ...     1.028      4963.6   no\n",
              "41185   56      retired  married  ...     1.028      4963.6   no\n",
              "41186   44   technician  married  ...     1.028      4963.6  yes\n",
              "41187   74      retired  married  ...     1.028      4963.6   no\n",
              "\n",
              "[41188 rows x 21 columns]"
            ]
          },
          "metadata": {
            "tags": []
          },
          "execution_count": 2
        }
      ]
    },
    {
      "cell_type": "code",
      "metadata": {
        "colab": {
          "base_uri": "https://localhost:8080/"
        },
        "id": "JnqxS8UflV3r",
        "outputId": "c292f96a-9a1b-49a3-c575-c29555f0119e"
      },
      "source": [
        "print(df.columns)\r\n",
        "features = ['age', 'job', 'marital', 'education', 'default', 'housing', 'loan',\r\n",
        "       'contact', 'month', 'day_of_week', 'duration', 'campaign', 'pdays',\r\n",
        "       'previous', 'poutcome', 'emp.var.rate', 'cons.price.idx',\r\n",
        "       'cons.conf.idx', 'euribor3m', 'nr.employed']\r\n",
        "\r\n",
        "\r\n",
        "print(df[features].head())"
      ],
      "execution_count": 3,
      "outputs": [
        {
          "output_type": "stream",
          "text": [
            "Index(['age', 'job', 'marital', 'education', 'default', 'housing', 'loan',\n",
            "       'contact', 'month', 'day_of_week', 'duration', 'campaign', 'pdays',\n",
            "       'previous', 'poutcome', 'emp.var.rate', 'cons.price.idx',\n",
            "       'cons.conf.idx', 'euribor3m', 'nr.employed', 'y'],\n",
            "      dtype='object')\n",
            "   age        job  marital  ... cons.conf.idx euribor3m nr.employed\n",
            "0   56  housemaid  married  ...         -36.4     4.857      5191.0\n",
            "1   57   services  married  ...         -36.4     4.857      5191.0\n",
            "2   37   services  married  ...         -36.4     4.857      5191.0\n",
            "3   40     admin.  married  ...         -36.4     4.857      5191.0\n",
            "4   56   services  married  ...         -36.4     4.857      5191.0\n",
            "\n",
            "[5 rows x 20 columns]\n"
          ],
          "name": "stdout"
        }
      ]
    },
    {
      "cell_type": "code",
      "metadata": {
        "colab": {
          "base_uri": "https://localhost:8080/"
        },
        "id": "mconPBOXl9Ga",
        "outputId": "576e4ae9-7a6c-4a52-f9b6-6377ec80e44f"
      },
      "source": [
        "print(\"Number of rows before dropping NaNs: %d\" % len(df))\r\n",
        "df = df.dropna()\r\n",
        "print(\"Number of rows after dropping NaNs: %d\" % len(df))"
      ],
      "execution_count": 4,
      "outputs": [
        {
          "output_type": "stream",
          "text": [
            "Number of rows before dropping NaNs: 41188\n",
            "Number of rows after dropping NaNs: 41188\n"
          ],
          "name": "stdout"
        }
      ]
    },
    {
      "cell_type": "code",
      "metadata": {
        "colab": {
          "base_uri": "https://localhost:8080/",
          "height": 204
        },
        "id": "MCpO8Jp4mBNL",
        "outputId": "45215653-1908-49b6-bcc0-98c614ddd13b"
      },
      "source": [
        "outcomes=  ['y']\r\n",
        "\r\n",
        "df[outcomes].head()"
      ],
      "execution_count": 5,
      "outputs": [
        {
          "output_type": "execute_result",
          "data": {
            "text/html": [
              "<div>\n",
              "<style scoped>\n",
              "    .dataframe tbody tr th:only-of-type {\n",
              "        vertical-align: middle;\n",
              "    }\n",
              "\n",
              "    .dataframe tbody tr th {\n",
              "        vertical-align: top;\n",
              "    }\n",
              "\n",
              "    .dataframe thead th {\n",
              "        text-align: right;\n",
              "    }\n",
              "</style>\n",
              "<table border=\"1\" class=\"dataframe\">\n",
              "  <thead>\n",
              "    <tr style=\"text-align: right;\">\n",
              "      <th></th>\n",
              "      <th>y</th>\n",
              "    </tr>\n",
              "  </thead>\n",
              "  <tbody>\n",
              "    <tr>\n",
              "      <th>0</th>\n",
              "      <td>no</td>\n",
              "    </tr>\n",
              "    <tr>\n",
              "      <th>1</th>\n",
              "      <td>no</td>\n",
              "    </tr>\n",
              "    <tr>\n",
              "      <th>2</th>\n",
              "      <td>no</td>\n",
              "    </tr>\n",
              "    <tr>\n",
              "      <th>3</th>\n",
              "      <td>no</td>\n",
              "    </tr>\n",
              "    <tr>\n",
              "      <th>4</th>\n",
              "      <td>no</td>\n",
              "    </tr>\n",
              "  </tbody>\n",
              "</table>\n",
              "</div>"
            ],
            "text/plain": [
              "    y\n",
              "0  no\n",
              "1  no\n",
              "2  no\n",
              "3  no\n",
              "4  no"
            ]
          },
          "metadata": {
            "tags": []
          },
          "execution_count": 5
        }
      ]
    },
    {
      "cell_type": "code",
      "metadata": {
        "colab": {
          "base_uri": "https://localhost:8080/",
          "height": 224
        },
        "id": "hxZIM1svmNpJ",
        "outputId": "4ffea5f4-505c-420f-ca83-2692f80c3711"
      },
      "source": [
        "df[[\"y\"]] = df[[\"y\"]].apply(LabelEncoder().fit_transform)\r\n",
        "\r\n",
        "df.head()"
      ],
      "execution_count": 6,
      "outputs": [
        {
          "output_type": "execute_result",
          "data": {
            "text/html": [
              "<div>\n",
              "<style scoped>\n",
              "    .dataframe tbody tr th:only-of-type {\n",
              "        vertical-align: middle;\n",
              "    }\n",
              "\n",
              "    .dataframe tbody tr th {\n",
              "        vertical-align: top;\n",
              "    }\n",
              "\n",
              "    .dataframe thead th {\n",
              "        text-align: right;\n",
              "    }\n",
              "</style>\n",
              "<table border=\"1\" class=\"dataframe\">\n",
              "  <thead>\n",
              "    <tr style=\"text-align: right;\">\n",
              "      <th></th>\n",
              "      <th>age</th>\n",
              "      <th>job</th>\n",
              "      <th>marital</th>\n",
              "      <th>education</th>\n",
              "      <th>default</th>\n",
              "      <th>housing</th>\n",
              "      <th>loan</th>\n",
              "      <th>contact</th>\n",
              "      <th>month</th>\n",
              "      <th>day_of_week</th>\n",
              "      <th>duration</th>\n",
              "      <th>campaign</th>\n",
              "      <th>pdays</th>\n",
              "      <th>previous</th>\n",
              "      <th>poutcome</th>\n",
              "      <th>emp.var.rate</th>\n",
              "      <th>cons.price.idx</th>\n",
              "      <th>cons.conf.idx</th>\n",
              "      <th>euribor3m</th>\n",
              "      <th>nr.employed</th>\n",
              "      <th>y</th>\n",
              "    </tr>\n",
              "  </thead>\n",
              "  <tbody>\n",
              "    <tr>\n",
              "      <th>0</th>\n",
              "      <td>56</td>\n",
              "      <td>housemaid</td>\n",
              "      <td>married</td>\n",
              "      <td>basic.4y</td>\n",
              "      <td>no</td>\n",
              "      <td>no</td>\n",
              "      <td>no</td>\n",
              "      <td>telephone</td>\n",
              "      <td>may</td>\n",
              "      <td>mon</td>\n",
              "      <td>261</td>\n",
              "      <td>1</td>\n",
              "      <td>999</td>\n",
              "      <td>0</td>\n",
              "      <td>nonexistent</td>\n",
              "      <td>1.1</td>\n",
              "      <td>93.994</td>\n",
              "      <td>-36.4</td>\n",
              "      <td>4.857</td>\n",
              "      <td>5191.0</td>\n",
              "      <td>0</td>\n",
              "    </tr>\n",
              "    <tr>\n",
              "      <th>1</th>\n",
              "      <td>57</td>\n",
              "      <td>services</td>\n",
              "      <td>married</td>\n",
              "      <td>high.school</td>\n",
              "      <td>unknown</td>\n",
              "      <td>no</td>\n",
              "      <td>no</td>\n",
              "      <td>telephone</td>\n",
              "      <td>may</td>\n",
              "      <td>mon</td>\n",
              "      <td>149</td>\n",
              "      <td>1</td>\n",
              "      <td>999</td>\n",
              "      <td>0</td>\n",
              "      <td>nonexistent</td>\n",
              "      <td>1.1</td>\n",
              "      <td>93.994</td>\n",
              "      <td>-36.4</td>\n",
              "      <td>4.857</td>\n",
              "      <td>5191.0</td>\n",
              "      <td>0</td>\n",
              "    </tr>\n",
              "    <tr>\n",
              "      <th>2</th>\n",
              "      <td>37</td>\n",
              "      <td>services</td>\n",
              "      <td>married</td>\n",
              "      <td>high.school</td>\n",
              "      <td>no</td>\n",
              "      <td>yes</td>\n",
              "      <td>no</td>\n",
              "      <td>telephone</td>\n",
              "      <td>may</td>\n",
              "      <td>mon</td>\n",
              "      <td>226</td>\n",
              "      <td>1</td>\n",
              "      <td>999</td>\n",
              "      <td>0</td>\n",
              "      <td>nonexistent</td>\n",
              "      <td>1.1</td>\n",
              "      <td>93.994</td>\n",
              "      <td>-36.4</td>\n",
              "      <td>4.857</td>\n",
              "      <td>5191.0</td>\n",
              "      <td>0</td>\n",
              "    </tr>\n",
              "    <tr>\n",
              "      <th>3</th>\n",
              "      <td>40</td>\n",
              "      <td>admin.</td>\n",
              "      <td>married</td>\n",
              "      <td>basic.6y</td>\n",
              "      <td>no</td>\n",
              "      <td>no</td>\n",
              "      <td>no</td>\n",
              "      <td>telephone</td>\n",
              "      <td>may</td>\n",
              "      <td>mon</td>\n",
              "      <td>151</td>\n",
              "      <td>1</td>\n",
              "      <td>999</td>\n",
              "      <td>0</td>\n",
              "      <td>nonexistent</td>\n",
              "      <td>1.1</td>\n",
              "      <td>93.994</td>\n",
              "      <td>-36.4</td>\n",
              "      <td>4.857</td>\n",
              "      <td>5191.0</td>\n",
              "      <td>0</td>\n",
              "    </tr>\n",
              "    <tr>\n",
              "      <th>4</th>\n",
              "      <td>56</td>\n",
              "      <td>services</td>\n",
              "      <td>married</td>\n",
              "      <td>high.school</td>\n",
              "      <td>no</td>\n",
              "      <td>no</td>\n",
              "      <td>yes</td>\n",
              "      <td>telephone</td>\n",
              "      <td>may</td>\n",
              "      <td>mon</td>\n",
              "      <td>307</td>\n",
              "      <td>1</td>\n",
              "      <td>999</td>\n",
              "      <td>0</td>\n",
              "      <td>nonexistent</td>\n",
              "      <td>1.1</td>\n",
              "      <td>93.994</td>\n",
              "      <td>-36.4</td>\n",
              "      <td>4.857</td>\n",
              "      <td>5191.0</td>\n",
              "      <td>0</td>\n",
              "    </tr>\n",
              "  </tbody>\n",
              "</table>\n",
              "</div>"
            ],
            "text/plain": [
              "   age        job  marital  ... euribor3m nr.employed  y\n",
              "0   56  housemaid  married  ...     4.857      5191.0  0\n",
              "1   57   services  married  ...     4.857      5191.0  0\n",
              "2   37   services  married  ...     4.857      5191.0  0\n",
              "3   40     admin.  married  ...     4.857      5191.0  0\n",
              "4   56   services  married  ...     4.857      5191.0  0\n",
              "\n",
              "[5 rows x 21 columns]"
            ]
          },
          "metadata": {
            "tags": []
          },
          "execution_count": 6
        }
      ]
    },
    {
      "cell_type": "code",
      "metadata": {
        "colab": {
          "base_uri": "https://localhost:8080/"
        },
        "id": "cibh5hGdnvY5",
        "outputId": "0aa4a46e-e6bf-4ebe-dfd3-70c5e3ca526f"
      },
      "source": [
        "outcomes_of_interest = [\"y\"]\r\n",
        "\r\n",
        "X_df = df[features].copy()\r\n",
        "y_df = df[outcomes_of_interest].copy()\r\n",
        "\r\n",
        "cat_features = ['job', 'marital', 'education', 'default', 'housing', 'loan',\r\n",
        "       'contact', 'month', 'day_of_week', 'poutcome']\r\n",
        "#print(X_df.head())\r\n",
        "#print(set(X_df[\"Category\"]))\r\n",
        "#print(pd.get_dummies(X_df, columns=[\"Category\"]).head())\r\n",
        "\r\n",
        "X_df = pd.get_dummies(X_df, columns=cat_features)\r\n",
        "X_df = X_df.drop(columns=['duration'])\r\n",
        "print(X_df.head())"
      ],
      "execution_count": 7,
      "outputs": [
        {
          "output_type": "stream",
          "text": [
            "   age  campaign  ...  poutcome_nonexistent  poutcome_success\n",
            "0   56         1  ...                     1                 0\n",
            "1   57         1  ...                     1                 0\n",
            "2   37         1  ...                     1                 0\n",
            "3   40         1  ...                     1                 0\n",
            "4   56         1  ...                     1                 0\n",
            "\n",
            "[5 rows x 62 columns]\n"
          ],
          "name": "stdout"
        }
      ]
    },
    {
      "cell_type": "code",
      "metadata": {
        "id": "DZi8sSbvpBD2"
      },
      "source": [
        "X = X_df.values\r\n",
        "y = y_df.values"
      ],
      "execution_count": 8,
      "outputs": []
    },
    {
      "cell_type": "code",
      "metadata": {
        "colab": {
          "base_uri": "https://localhost:8080/",
          "height": 265
        },
        "id": "L5HC6amvo96f",
        "outputId": "c7bd02e0-fe87-4105-9f7f-cda2b3d44194"
      },
      "source": [
        "sns_plot = sns.histplot(y, kde=False)"
      ],
      "execution_count": 9,
      "outputs": [
        {
          "output_type": "display_data",
          "data": {
            "image/png": "[encoded data removed]",
            "text/plain": [
              "<Figure size 432x288 with 1 Axes>"
            ]
          },
          "metadata": {
            "tags": [],
            "needs_background": "light"
          }
        }
      ]
    },
    {
      "cell_type": "code",
      "metadata": {
        "id": "W-gN-tvpuF_8"
      },
      "source": [
        "X_train, X_test, y_train, y_test = train_test_split(X, y, test_size=0.20, random_state=50)\r\n",
        "y_train = y_train.ravel()#reshape((-1,))\r\n"
      ],
      "execution_count": 10,
      "outputs": []
    },
    {
      "cell_type": "code",
      "metadata": {
        "colab": {
          "base_uri": "https://localhost:8080/"
        },
        "id": "aAjrTRfX1afU",
        "outputId": "d1e5945d-a2ba-44ce-a67a-6f4e03cec382"
      },
      "source": [
        "clf = RandomForestClassifier(n_estimators=100, max_depth=3, random_state=50)\r\n",
        "clf.fit(X_train, y_train)"
      ],
      "execution_count": 11,
      "outputs": [
        {
          "output_type": "execute_result",
          "data": {
            "text/plain": [
              "RandomForestClassifier(bootstrap=True, ccp_alpha=0.0, class_weight=None,\n",
              "                       criterion='gini', max_depth=3, max_features='auto',\n",
              "                       max_leaf_nodes=None, max_samples=None,\n",
              "                       min_impurity_decrease=0.0, min_impurity_split=None,\n",
              "                       min_samples_leaf=1, min_samples_split=2,\n",
              "                       min_weight_fraction_leaf=0.0, n_estimators=100,\n",
              "                       n_jobs=None, oob_score=False, random_state=50, verbose=0,\n",
              "                       warm_start=False)"
            ]
          },
          "metadata": {
            "tags": []
          },
          "execution_count": 11
        }
      ]
    },
    {
      "cell_type": "code",
      "metadata": {
        "id": "vJs7rtpf2urq"
      },
      "source": [
        "dummy_clf = DummyClassifier(strategy='stratified')\r\n",
        "dummy_clf.fit(X_train, y_train)\r\n",
        "\r\n",
        "dummy_scores = cross_val_score(dummy_clf, X_train, y_train, cv=10, scoring = make_scorer(f1_score))"
      ],
      "execution_count": 12,
      "outputs": []
    },
    {
      "cell_type": "code",
      "metadata": {
        "id": "u8-DiNfS2RU1"
      },
      "source": [
        "scores = cross_val_score(clf, X_train, y_train, cv=10, scoring = make_scorer(f1_score))"
      ],
      "execution_count": 13,
      "outputs": []
    },
    {
      "cell_type": "code",
      "metadata": {
        "colab": {
          "base_uri": "https://localhost:8080/"
        },
        "id": "43nz-LPe20F2",
        "outputId": "81b1417a-1f30-4a84-f8ed-4df442b0b2e5"
      },
      "source": [
        "# print(\"Dummy ACC: %.2f\" % acc(y, dummy_clf.predict(X)))\r\n",
        "# print(\"ACC: %.2f +/- %.2f\" % (scores.mean(), scores.std()))\r\n",
        "\r\n",
        "print(\"MSE: %0.8f +/- %0.8f\" % (scores.mean(), scores.std()))\r\n",
        "print(\"Dummy MSE: %0.8f +/- %0.8f\" % (dummy_scores.mean(), dummy_scores.std()))"
      ],
      "execution_count": 14,
      "outputs": [
        {
          "output_type": "stream",
          "text": [
            "MSE: 0.26579964 +/- 0.01659055\n",
            "Dummy MSE: 0.11779441 +/- 0.01535413\n"
          ],
          "name": "stdout"
        }
      ]
    },
    {
      "cell_type": "code",
      "metadata": {
        "colab": {
          "base_uri": "https://localhost:8080/"
        },
        "id": "ppUAYsTY8cCY",
        "outputId": "7abbd4e5-0320-416b-fa7b-64afb046e894"
      },
      "source": [
        "param_grid = {\r\n",
        "    'n_estimators': [100, 300],\r\n",
        "    'max_features':['auto', 'sqrt', 'log2']\r\n",
        "}\r\n",
        "CV_rfc = GridSearchCV(estimator=clf, param_grid=param_grid, cv= 10)\r\n",
        "\r\n",
        "CV_rfc.fit(X_train, y_train)\r\n",
        "print(CV_rfc.best_params_)\r\n",
        "print(CV_rfc.best_estimator_.feature_importances_)"
      ],
      "execution_count": 15,
      "outputs": [
        {
          "output_type": "stream",
          "text": [
            "{'max_features': 'auto', 'n_estimators': 100}\n",
            "[2.81194157e-02 1.90655949e-03 1.59727625e-01 3.24662285e-02\n",
            " 8.50564582e-02 7.13884929e-02 5.99584765e-02 1.94724086e-01\n",
            " 1.47180089e-01 1.34888011e-04 5.20019001e-04 5.38017601e-05\n",
            " 2.91606619e-05 7.57787390e-05 7.94438973e-04 1.47034241e-04\n",
            " 0.00000000e+00 4.41118313e-03 1.85403285e-04 0.00000000e+00\n",
            " 8.22245538e-05 3.73024979e-05 1.97590465e-04 1.15225367e-03\n",
            " 0.00000000e+00 6.52840385e-05 2.54967082e-05 4.40613091e-04\n",
            " 5.07774427e-05 0.00000000e+00 6.42132434e-05 1.98929446e-04\n",
            " 4.68330131e-05 3.50452375e-03 2.54406253e-03 0.00000000e+00\n",
            " 3.47948337e-05 5.43141988e-05 1.42846609e-04 7.26564671e-05\n",
            " 4.36949360e-05 0.00000000e+00 1.36812216e-02 1.08056141e-02\n",
            " 3.62346997e-03 9.71651337e-04 5.91545603e-04 1.70575706e-04\n",
            " 1.75879322e-04 1.43565124e-02 8.98573620e-03 1.41182725e-06\n",
            " 1.44782301e-02 9.47384600e-03 1.11899941e-04 8.58417891e-04\n",
            " 2.05471146e-04 2.53865325e-04 8.87157758e-05 5.33875977e-03\n",
            " 1.25684774e-02 1.07621148e-01]\n"
          ],
          "name": "stdout"
        }
      ]
    },
    {
      "cell_type": "code",
      "metadata": {
        "colab": {
          "base_uri": "https://localhost:8080/"
        },
        "id": "mOSx_4A5o7v-",
        "outputId": "7ea953fc-5da0-4120-8bad-da1020232a4e"
      },
      "source": [
        "clf = RandomForestClassifier(n_estimators=100,max_features='auto', random_state=50)\r\n",
        "scores = cross_val_score(clf, X_train, y_train, cv=10, scoring = make_scorer(f1_score))\r\n",
        "print(scores.mean())\r\n",
        "\r\n",
        "clf.fit(X_train, y_train)"
      ],
      "execution_count": 16,
      "outputs": [
        {
          "output_type": "stream",
          "text": [
            "0.37877973895924766\n"
          ],
          "name": "stdout"
        },
        {
          "output_type": "execute_result",
          "data": {
            "text/plain": [
              "RandomForestClassifier(bootstrap=True, ccp_alpha=0.0, class_weight=None,\n",
              "                       criterion='gini', max_depth=None, max_features='auto',\n",
              "                       max_leaf_nodes=None, max_samples=None,\n",
              "                       min_impurity_decrease=0.0, min_impurity_split=None,\n",
              "                       min_samples_leaf=1, min_samples_split=2,\n",
              "                       min_weight_fraction_leaf=0.0, n_estimators=100,\n",
              "                       n_jobs=None, oob_score=False, random_state=50, verbose=0,\n",
              "                       warm_start=False)"
            ]
          },
          "metadata": {
            "tags": []
          },
          "execution_count": 16
        }
      ]
    },
    {
      "cell_type": "code",
      "metadata": {
        "colab": {
          "base_uri": "https://localhost:8080/",
          "height": 1000
        },
        "id": "pDVW1KaGtWor",
        "outputId": "c295ca3b-bdf6-42b3-8923-b033dac9b384"
      },
      "source": [
        "\r\n",
        "importances = CV_rfc.best_estimator_.feature_importances_\r\n",
        "std = np.std([tree.feature_importances_ for tree in clf.estimators_],\r\n",
        "             axis=0)\r\n",
        "indices = np.argsort(importances)[::-1]\r\n",
        "\r\n",
        "# Print the feature ranking\r\n",
        "print(\"Feature ranking:\")\r\n",
        "\r\n",
        "for f in range(X.shape[1]):\r\n",
        "    print(\"%d. %s (%f)\" % (f + 1, X_df.columns[indices[f]],  importances[indices[f]]))\r\n",
        "\r\n",
        "# Plot the feature importances of the forest\r\n",
        "fig = plt.figure()\r\n",
        "plt.title(\"Feature importances\")\r\n",
        "plt.bar(range(X.shape[1]), importances[indices],\r\n",
        "       color=\"r\", yerr=std[indices], align=\"center\")\r\n",
        "plt.xticks(range(X.shape[1]), np.array(X_df.columns)[indices])\r\n",
        "plt.xlim([-1, X.shape[1]])\r\n",
        "plt.ylim([0, None])\r\n",
        "\r\n",
        "fig.set_size_inches(15, 8)"
      ],
      "execution_count": 17,
      "outputs": [
        {
          "output_type": "stream",
          "text": [
            "Feature ranking:\n",
            "1. euribor3m (0.194724)\n",
            "2. pdays (0.159728)\n",
            "3. nr.employed (0.147180)\n",
            "4. poutcome_success (0.107621)\n",
            "5. emp.var.rate (0.085056)\n",
            "6. cons.price.idx (0.071388)\n",
            "7. cons.conf.idx (0.059958)\n",
            "8. previous (0.032466)\n",
            "9. age (0.028119)\n",
            "10. month_oct (0.014478)\n",
            "11. month_mar (0.014357)\n",
            "12. contact_cellular (0.013681)\n",
            "13. poutcome_nonexistent (0.012568)\n",
            "14. contact_telephone (0.010806)\n",
            "15. month_sep (0.009474)\n",
            "16. month_may (0.008986)\n",
            "17. poutcome_failure (0.005339)\n",
            "18. job_student (0.004411)\n",
            "19. month_apr (0.003623)\n",
            "20. default_no (0.003505)\n",
            "21. default_unknown (0.002544)\n",
            "22. campaign (0.001907)\n",
            "23. marital_single (0.001152)\n",
            "24. month_aug (0.000972)\n",
            "25. day_of_week_mon (0.000858)\n",
            "26. job_retired (0.000794)\n",
            "27. month_dec (0.000592)\n",
            "28. job_blue-collar (0.000520)\n",
            "29. education_basic.9y (0.000441)\n",
            "30. day_of_week_tue (0.000254)\n",
            "31. day_of_week_thu (0.000205)\n",
            "32. education_university.degree (0.000199)\n",
            "33. marital_married (0.000198)\n",
            "34. job_technician (0.000185)\n",
            "35. month_jun (0.000176)\n",
            "36. month_jul (0.000171)\n",
            "37. job_self-employed (0.000147)\n",
            "38. housing_yes (0.000143)\n",
            "39. job_admin. (0.000135)\n",
            "40. day_of_week_fri (0.000112)\n",
            "41. day_of_week_wed (0.000089)\n",
            "42. job_unknown (0.000082)\n",
            "43. job_management (0.000076)\n",
            "44. loan_no (0.000073)\n",
            "45. education_basic.4y (0.000065)\n",
            "46. education_professional.course (0.000064)\n",
            "47. housing_unknown (0.000054)\n",
            "48. job_entrepreneur (0.000054)\n",
            "49. education_high.school (0.000051)\n",
            "50. education_unknown (0.000047)\n",
            "51. loan_unknown (0.000044)\n",
            "52. marital_divorced (0.000037)\n",
            "53. housing_no (0.000035)\n",
            "54. job_housemaid (0.000029)\n",
            "55. education_basic.6y (0.000025)\n",
            "56. month_nov (0.000001)\n",
            "57. job_services (0.000000)\n",
            "58. job_unemployed (0.000000)\n",
            "59. marital_unknown (0.000000)\n",
            "60. education_illiterate (0.000000)\n",
            "61. default_yes (0.000000)\n",
            "62. loan_yes (0.000000)\n"
          ],
          "name": "stdout"
        },
        {
          "output_type": "display_data",
          "data": {
            "image/png": "[encoded data removed]",
            "text/plain": [
              "<Figure size 1080x576 with 1 Axes>"
            ]
          },
          "metadata": {
            "tags": [],
            "needs_background": "light"
          }
        }
      ]
    },
    {
      "cell_type": "code",
      "metadata": {
        "id": "2YZ3sTmXIz5U"
      },
      "source": [
        "y_predict = CV_rfc.best_estimator_.predict(X_test)\r\n"
      ],
      "execution_count": 18,
      "outputs": []
    },
    {
      "cell_type": "code",
      "metadata": {
        "id": "Eow5_duLRGv9"
      },
      "source": [
        "def plot_confusion_matrix(conf_mat, classes,\r\n",
        "                          normalize=False,\r\n",
        "                          title='Confusion matrix',\r\n",
        "                          cmap=plt.cm.Blues):\r\n",
        "    \"\"\"\r\n",
        "    This function prints and plots the confusion matrix.\r\n",
        "    Normalization can be applied by setting `normalize=True`.\r\n",
        "    conf_mat: confusion matrix\r\n",
        "    classes: names of classes to be annotated\r\n",
        "    normalize: [True/False] whether to normalise by column\r\n",
        "    \"\"\"\r\n",
        "    if normalize:\r\n",
        "        conf_mat = conf_mat.astype('float') / conf_mat.sum(axis=1)[:, np.newaxis]\r\n",
        "        print(\"Normalized confusion matrix\")\r\n",
        "    else:\r\n",
        "        print('Confusion matrix, without normalization')\r\n",
        "    plt.imshow(conf_mat, interpolation='nearest', cmap=cmap)\r\n",
        "    plt.title(title)\r\n",
        "    plt.colorbar()\r\n",
        "    tick_marks = np.arange(len(classes))\r\n",
        "    plt.xticks(tick_marks, classes, rotation=45)\r\n",
        "    plt.yticks(tick_marks, classes)\r\n",
        "    for i, j in itertools.product(range(conf_mat.shape[0]), range(conf_mat.shape[1])):\r\n",
        "        t = \"(%.2f)\" % (conf_mat[i, j])\r\n",
        "    plt.tight_layout()\r\n",
        "    plt.ylabel('True label')\r\n",
        "    plt.xlabel('Predicted label')"
      ],
      "execution_count": 19,
      "outputs": []
    },
    {
      "cell_type": "code",
      "metadata": {
        "colab": {
          "base_uri": "https://localhost:8080/",
          "height": 328
        },
        "id": "jy422ppURIR1",
        "outputId": "72e39223-0feb-4dd0-f596-2b34d0f67e3b"
      },
      "source": [
        "\r\n",
        "cnf_matrix = confusion_matrix(y_test, y_predict)\r\n",
        "np.set_printoptions(precision=2)\r\n",
        "\r\n",
        "# Plot non-normalized confusion matrix\r\n",
        "plt.figure()\r\n",
        "y_test = y_test[:,0]\r\n",
        "plot_confusion_matrix(cnf_matrix, classes=range(len(set(y_test))), normalize=True,\r\n",
        "                      title='Confusion matrix')"
      ],
      "execution_count": 20,
      "outputs": [
        {
          "output_type": "stream",
          "text": [
            "Normalized confusion matrix\n"
          ],
          "name": "stdout"
        },
        {
          "output_type": "display_data",
          "data": {
            "image/png": "[encoded data removed]",
            "text/plain": [
              "<Figure size 432x288 with 2 Axes>"
            ]
          },
          "metadata": {
            "tags": [],
            "needs_background": "light"
          }
        }
      ]
    },
    {
      "cell_type": "code",
      "metadata": {
        "colab": {
          "base_uri": "https://localhost:8080/"
        },
        "id": "rXAWp625Bi6P",
        "outputId": "b3a71a6a-8501-44c6-8a9b-63ffb716e9e9"
      },
      "source": [
        "X_train, X_test, y_train, y_test = train_test_split(X, y, test_size=0.20, random_state=50)\r\n",
        "y_train = y_train.ravel()#reshape((-1,))\r\n",
        "\r\n",
        "clf = RandomForestClassifier(n_estimators=250, max_depth=6, random_state=50)\r\n",
        "clf.fit(X_train, y_train)\r\n",
        "\r\n",
        "dummy_clf = DummyClassifier(strategy='stratified')\r\n",
        "dummy_clf.fit(X_train, y_train)\r\n",
        "\r\n",
        "dummy_scores = cross_val_score(dummy_clf, X_train, y_train, cv=10, scoring = make_scorer(f1_score))\r\n",
        "\r\n",
        "scores = cross_val_score(clf, X_train, y_train, cv=10, scoring = make_scorer(f1_score))\r\n",
        "\r\n",
        "\r\n",
        "print(\"MSE: %0.8f +/- %0.8f\" % (scores.mean(), scores.std()))\r\n",
        "print(\"Dummy MSE: %0.8f +/- %0.8f\" % (dummy_scores.mean(), dummy_scores.std()))\r\n",
        "\r\n",
        "# param_grid = {\r\n",
        "#     'n_estimators': [100,250,300],\r\n",
        "#     'max_features':['auto', 'sqrt', 'log2']\r\n",
        "# }\r\n",
        "# CV_rfc = GridSearchCV(estimator=clf, param_grid=param_grid, cv= 10)\r\n",
        "\r\n",
        "# CV_rfc.fit(X_train, y_train)\r\n",
        "# print(CV_rfc.best_params_)\r\n"
      ],
      "execution_count": 21,
      "outputs": [
        {
          "output_type": "stream",
          "text": [
            "MSE: 0.29016593 +/- 0.01820527\n",
            "Dummy MSE: 0.10201228 +/- 0.01611300\n"
          ],
          "name": "stdout"
        }
      ]
    },
    {
      "cell_type": "code",
      "metadata": {
        "colab": {
          "base_uri": "https://localhost:8080/"
        },
        "id": "ypyUEGqCB3nf",
        "outputId": "a392f665-431d-4d89-9890-f7cfff4d60fc"
      },
      "source": [
        "\r\n",
        "clf = RandomForestClassifier(n_estimators=250,max_features='auto', random_state=50)\r\n",
        "scores = cross_val_score(clf, X_train, y_train, cv=10, scoring = make_scorer(f1_score))\r\n",
        "print(scores.mean())\r\n",
        "\r\n",
        "clf.fit(X_train, y_train)\r\n"
      ],
      "execution_count": 22,
      "outputs": [
        {
          "output_type": "stream",
          "text": [
            "0.37948858101527283\n"
          ],
          "name": "stdout"
        },
        {
          "output_type": "execute_result",
          "data": {
            "text/plain": [
              "RandomForestClassifier(bootstrap=True, ccp_alpha=0.0, class_weight=None,\n",
              "                       criterion='gini', max_depth=None, max_features='auto',\n",
              "                       max_leaf_nodes=None, max_samples=None,\n",
              "                       min_impurity_decrease=0.0, min_impurity_split=None,\n",
              "                       min_samples_leaf=1, min_samples_split=2,\n",
              "                       min_weight_fraction_leaf=0.0, n_estimators=250,\n",
              "                       n_jobs=None, oob_score=False, random_state=50, verbose=0,\n",
              "                       warm_start=False)"
            ]
          },
          "metadata": {
            "tags": []
          },
          "execution_count": 22
        }
      ]
    },
    {
      "cell_type": "code",
      "metadata": {
        "colab": {
          "base_uri": "https://localhost:8080/"
        },
        "id": "2dDcPF8LGOJj",
        "outputId": "7e309ed3-1f7c-4c2c-ad79-a824ab400540"
      },
      "source": [
        "X_train, X_test, y_train, y_test = train_test_split(X, y, test_size=0.20, random_state=50)\r\n",
        "y_train = y_train.ravel()#reshape((-1,))\r\n",
        "\r\n",
        "clf = RandomForestClassifier(n_estimators=100, max_depth=8, random_state=50)\r\n",
        "clf.fit(X_train, y_train)\r\n",
        "\r\n",
        "dummy_clf = DummyClassifier(strategy='stratified')\r\n",
        "dummy_clf.fit(X_train, y_train)\r\n",
        "\r\n",
        "dummy_scores = cross_val_score(dummy_clf, X_train, y_train, cv=10, scoring = make_scorer(f1_score))\r\n",
        "\r\n",
        "scores = cross_val_score(clf, X_train, y_train, cv=10, scoring = make_scorer(f1_score))\r\n",
        "\r\n",
        "\r\n",
        "print(\"MSE: %0.8f +/- %0.8f\" % (scores.mean(), scores.std()))\r\n",
        "print(\"Dummy MSE: %0.8f +/- %0.8f\" % (dummy_scores.mean(), dummy_scores.std()))\r\n",
        "\r\n",
        "# param_grid = {\r\n",
        "#     'n_estimators': [100,200,300],\r\n",
        "#     'max_features':['auto', 'sqrt', 'log2']\r\n",
        "# }\r\n",
        "# CV_rfc = GridSearchCV(estimator=clf, param_grid=param_grid, cv= 10)\r\n",
        "\r\n",
        "# CV_rfc.fit(X_train, y_train)\r\n",
        "# print(CV_rfc.best_params_)"
      ],
      "execution_count": 23,
      "outputs": [
        {
          "output_type": "stream",
          "text": [
            "MSE: 0.30374742 +/- 0.01824864\n",
            "Dummy MSE: 0.10572300 +/- 0.01341715\n"
          ],
          "name": "stdout"
        }
      ]
    },
    {
      "cell_type": "code",
      "metadata": {
        "colab": {
          "base_uri": "https://localhost:8080/"
        },
        "id": "qDY0eu0NGYah",
        "outputId": "68057c66-7722-4942-9bd8-880f163fa0ad"
      },
      "source": [
        "clf = RandomForestClassifier(n_estimators=200,max_features='auto', random_state=50)\r\n",
        "scores = cross_val_score(clf, X_train, y_train, cv=10, scoring = make_scorer(f1_score))\r\n",
        "print(scores.mean())\r\n",
        "\r\n",
        "clf.fit(X_train, y_train)"
      ],
      "execution_count": 24,
      "outputs": [
        {
          "output_type": "stream",
          "text": [
            "0.3796825590028243\n"
          ],
          "name": "stdout"
        },
        {
          "output_type": "execute_result",
          "data": {
            "text/plain": [
              "RandomForestClassifier(bootstrap=True, ccp_alpha=0.0, class_weight=None,\n",
              "                       criterion='gini', max_depth=None, max_features='auto',\n",
              "                       max_leaf_nodes=None, max_samples=None,\n",
              "                       min_impurity_decrease=0.0, min_impurity_split=None,\n",
              "                       min_samples_leaf=1, min_samples_split=2,\n",
              "                       min_weight_fraction_leaf=0.0, n_estimators=200,\n",
              "                       n_jobs=None, oob_score=False, random_state=50, verbose=0,\n",
              "                       warm_start=False)"
            ]
          },
          "metadata": {
            "tags": []
          },
          "execution_count": 24
        }
      ]
    },
    {
      "cell_type": "code",
      "metadata": {
        "colab": {
          "base_uri": "https://localhost:8080/"
        },
        "id": "Ldv9Ix76Ia2d",
        "outputId": "57055533-f29b-419b-8518-b98ff2db9dde"
      },
      "source": [
        "X_train, X_test, y_train, y_test = train_test_split(X, y, test_size=0.20, random_state=50)\r\n",
        "y_train = y_train.ravel()#reshape((-1,))\r\n",
        "\r\n",
        "clf = RandomForestClassifier(n_estimators=150, max_depth=6, random_state=50)\r\n",
        "clf.fit(X_train, y_train)\r\n",
        "\r\n",
        "dummy_clf = DummyClassifier(strategy='stratified')\r\n",
        "dummy_clf.fit(X_train, y_train)\r\n",
        "\r\n",
        "dummy_scores = cross_val_score(dummy_clf, X_train, y_train, cv=10, scoring = make_scorer(f1_score))\r\n",
        "\r\n",
        "scores = cross_val_score(clf, X_train, y_train, cv=10, scoring = make_scorer(f1_score))\r\n",
        "\r\n",
        "\r\n",
        "print(\"MSE: %0.8f +/- %0.8f\" % (scores.mean(), scores.std()))\r\n",
        "print(\"Dummy MSE: %0.8f +/- %0.8f\" % (dummy_scores.mean(), dummy_scores.std()))\r\n",
        "\r\n",
        "# param_grid = {\r\n",
        "#     'n_estimators': [100,150,300],\r\n",
        "#     'max_features':['auto', 'sqrt', 'log2']\r\n",
        "# }\r\n",
        "# CV_rfc = GridSearchCV(estimator=clf, param_grid=param_grid, cv= 10)\r\n",
        "\r\n",
        "# CV_rfc.fit(X_train, y_train)\r\n",
        "# print(CV_rfc.best_params_)"
      ],
      "execution_count": 25,
      "outputs": [
        {
          "output_type": "stream",
          "text": [
            "MSE: 0.29028312 +/- 0.01871217\n",
            "Dummy MSE: 0.11159944 +/- 0.01293484\n"
          ],
          "name": "stdout"
        }
      ]
    },
    {
      "cell_type": "code",
      "metadata": {
        "colab": {
          "base_uri": "https://localhost:8080/",
          "height": 1000
        },
        "id": "RixlYzCpCbjb",
        "outputId": "a22e21c4-85f7-45b0-96a3-845591e34ec9"
      },
      "source": [
        "X_train, X_test, y_train, y_test = train_test_split(X, y, test_size=0.20, random_state=50)\r\n",
        "y_train = y_train.ravel()#reshape((-1,))\r\n",
        "\r\n",
        "clf = RandomForestClassifier(n_estimators=1000, max_depth=6, random_state=60)\r\n",
        "clf.fit(X_train, y_train)\r\n",
        "\r\n",
        "dummy_clf = DummyClassifier(strategy='stratified')\r\n",
        "dummy_clf.fit(X_train, y_train)\r\n",
        "\r\n",
        "dummy_scores = cross_val_score(dummy_clf, X_train, y_train, cv=10, scoring = make_scorer(f1_score))\r\n",
        "\r\n",
        "scores = cross_val_score(clf, X_train, y_train, cv=10, scoring = make_scorer(f1_score))\r\n",
        "\r\n",
        "\r\n",
        "print(\"MSE: %0.8f +/- %0.8f\" % (scores.mean(), scores.std()))\r\n",
        "print(\"Dummy MSE: %0.8f +/- %0.8f\" % (dummy_scores.mean(), dummy_scores.std()))\r\n",
        "\r\n",
        "param_grid = {\r\n",
        "    'n_estimators': [100, 300,1000],\r\n",
        "    'max_features':['auto', 'sqrt', 'log2']\r\n",
        "}\r\n",
        "CV_rfc2 = GridSearchCV(estimator=clf, param_grid=param_grid, cv= 10)\r\n",
        "\r\n",
        "CV_rfc2.fit(X_train, y_train)\r\n",
        "print(CV_rfc2.best_params_)\r\n",
        "clf = RandomForestClassifier(n_estimators=1000,max_features='auto', random_state=60)\r\n",
        "scores = cross_val_score(clf, X_train, y_train, cv=10, scoring = make_scorer(f1_score))\r\n",
        "print(scores.mean())\r\n",
        "\r\n",
        "clf.fit(X_train, y_train)\r\n",
        "\r\n",
        "importances = CV_rfc2.best_estimator_.feature_importances_\r\n",
        "std = np.std([tree.feature_importances_ for tree in clf.estimators_],\r\n",
        "             axis=0)\r\n",
        "indices = np.argsort(importances)[::-1]\r\n",
        "\r\n",
        "# Print the feature ranking\r\n",
        "print(\"Feature ranking:\")\r\n",
        "for f in range(X.shape[1]):\r\n",
        "    print(\"%d. %s (%f)\" % (f + 1, X_df.columns[indices[f]],  importances[indices[f]]))\r\n",
        "\r\n",
        "# Plot the feature importances of the forest\r\n",
        "fig = plt.figure()\r\n",
        "plt.title(\"Feature importances\")\r\n",
        "plt.bar(range(X.shape[1]), importances[indices],\r\n",
        "       color=\"r\", yerr=std[indices], align=\"center\")\r\n",
        "plt.xticks(range(X.shape[1]), np.array(X_df.columns)[indices])\r\n",
        "plt.xlim([-1, X.shape[1]])\r\n",
        "plt.ylim([0, None])\r\n",
        "\r\n",
        "fig.set_size_inches(15, 8)\r\n"
      ],
      "execution_count": 26,
      "outputs": [
        {
          "output_type": "stream",
          "text": [
            "MSE: 0.28825128 +/- 0.01811964\n",
            "Dummy MSE: 0.11358246 +/- 0.01491225\n",
            "{'max_features': 'auto', 'n_estimators': 1000}\n",
            "0.3797400228639732\n",
            "Feature ranking:\n",
            "1. nr.employed (0.191388)\n",
            "2. euribor3m (0.160413)\n",
            "3. pdays (0.118457)\n",
            "4. poutcome_success (0.098544)\n",
            "5. emp.var.rate (0.079317)\n",
            "6. cons.conf.idx (0.075000)\n",
            "7. cons.price.idx (0.060702)\n",
            "8. previous (0.024857)\n",
            "9. age (0.022766)\n",
            "10. poutcome_nonexistent (0.019791)\n",
            "11. month_mar (0.016740)\n",
            "12. poutcome_failure (0.015688)\n",
            "13. month_oct (0.013353)\n",
            "14. contact_cellular (0.012838)\n",
            "15. month_may (0.011110)\n",
            "16. contact_telephone (0.010233)\n",
            "17. month_apr (0.006946)\n",
            "18. campaign (0.005084)\n",
            "19. month_sep (0.005044)\n",
            "20. month_jun (0.003757)\n",
            "21. day_of_week_mon (0.003462)\n",
            "22. default_unknown (0.003257)\n",
            "23. job_student (0.003108)\n",
            "24. default_no (0.002954)\n",
            "25. job_retired (0.002529)\n",
            "26. job_blue-collar (0.002389)\n",
            "27. marital_single (0.001697)\n",
            "28. education_university.degree (0.001546)\n",
            "29. month_aug (0.001500)\n",
            "30. day_of_week_tue (0.001446)\n",
            "31. day_of_week_thu (0.001399)\n",
            "32. education_basic.9y (0.001239)\n",
            "33. month_dec (0.001238)\n",
            "34. month_nov (0.001196)\n",
            "35. marital_married (0.001099)\n",
            "36. day_of_week_fri (0.001053)\n",
            "37. month_jul (0.001028)\n",
            "38. education_professional.course (0.000992)\n",
            "39. job_admin. (0.000977)\n",
            "40. day_of_week_wed (0.000959)\n",
            "41. education_high.school (0.000927)\n",
            "42. job_technician (0.000913)\n",
            "43. education_unknown (0.000885)\n",
            "44. loan_no (0.000860)\n",
            "45. housing_no (0.000853)\n",
            "46. loan_yes (0.000839)\n",
            "47. housing_yes (0.000802)\n",
            "48. marital_divorced (0.000796)\n",
            "49. job_self-employed (0.000705)\n",
            "50. education_basic.4y (0.000665)\n",
            "51. job_management (0.000629)\n",
            "52. education_basic.6y (0.000586)\n",
            "53. job_services (0.000584)\n",
            "54. job_unknown (0.000556)\n",
            "55. loan_unknown (0.000518)\n",
            "56. housing_unknown (0.000485)\n",
            "57. job_entrepreneur (0.000433)\n",
            "58. job_unemployed (0.000388)\n",
            "59. job_housemaid (0.000348)\n",
            "60. marital_unknown (0.000091)\n",
            "61. education_illiterate (0.000043)\n",
            "62. default_yes (0.000000)\n"
          ],
          "name": "stdout"
        },
        {
          "output_type": "display_data",
          "data": {
            "image/png": "[encoded data removed]",
            "text/plain": [
              "<Figure size 1080x576 with 1 Axes>"
            ]
          },
          "metadata": {
            "tags": [],
            "needs_background": "light"
          }
        }
      ]
    },
    {
      "cell_type": "code",
      "metadata": {
        "colab": {
          "base_uri": "https://localhost:8080/",
          "height": 362
        },
        "id": "9FC4-FbFkrpF",
        "outputId": "94870164-da72-4cf2-c130-ab16bc033e21"
      },
      "source": [
        "\r\n",
        "y_predict = CV_rfc.best_estimator_.predict(X_test)\r\n",
        "print(y_predict)\r\n",
        "print(y_train)\r\n",
        "def plot_confusion_matrix(conf_mat, classes,\r\n",
        "                          normalize=False,\r\n",
        "                          title='Confusion matrix',\r\n",
        "                          cmap=plt.cm.Blues):\r\n",
        "    \"\"\"\r\n",
        "    This function prints and plots the confusion matrix.\r\n",
        "    Normalization can be applied by setting `normalize=True`.\r\n",
        "    conf_mat: confusion matrix\r\n",
        "    classes: names of classes to be annotated\r\n",
        "    normalize: [True/False] whether to normalise by column\r\n",
        "    \"\"\"\r\n",
        "    if normalize:\r\n",
        "        conf_mat = conf_mat.astype('float') / conf_mat.sum(axis=1)[:, np.newaxis]\r\n",
        "        print(\"Normalized confusion matrix\")\r\n",
        "    else:\r\n",
        "        print('Confusion matrix, without normalization')\r\n",
        "    plt.imshow(conf_mat, interpolation='nearest', cmap=cmap)\r\n",
        "    plt.title(title)\r\n",
        "    plt.colorbar()\r\n",
        "    tick_marks = np.arange(len(classes))\r\n",
        "    plt.xticks(tick_marks, classes, rotation=45)\r\n",
        "    plt.yticks(tick_marks, classes)\r\n",
        "    for i, j in itertools.product(range(conf_mat.shape[0]), range(conf_mat.shape[1])):\r\n",
        "        t = \"(%.2f)\" % (conf_mat[i, j])\r\n",
        "    plt.tight_layout()\r\n",
        "    plt.ylabel('True label')\r\n",
        "    plt.xlabel('Predicted label')\r\n",
        "\r\n",
        "cnf_matrix = confusion_matrix(y_test, y_predict)\r\n",
        "np.set_printoptions(precision=2)\r\n",
        "\r\n",
        "# Plot non-normalized confusion matrix\r\n",
        "plt.figure()\r\n",
        "y_test = y_test[:,0]\r\n",
        "plot_confusion_matrix(cnf_matrix, classes=range(len(set(y_test))), normalize=True,\r\n",
        "                      title='Confusion matrix')"
      ],
      "execution_count": 27,
      "outputs": [
        {
          "output_type": "stream",
          "text": [
            "[0 0 0 ... 0 0 0]\n",
            "[1 0 0 ... 0 0 1]\n",
            "Normalized confusion matrix\n"
          ],
          "name": "stdout"
        },
        {
          "output_type": "display_data",
          "data": {
            "image/png": "[encoded data removed]",
            "text/plain": [
              "<Figure size 432x288 with 2 Axes>"
            ]
          },
          "metadata": {
            "tags": [],
            "needs_background": "light"
          }
        }
      ]
    },
    {
      "cell_type": "code",
      "metadata": {
        "id": "snsBh14ELAgS",
        "colab": {
          "base_uri": "https://localhost:8080/",
          "height": 1000
        },
        "outputId": "a109cfbb-536b-4027-9546-7f0bb2358114"
      },
      "source": [
        "X_train, X_test, y_train, y_test = train_test_split(X, y, test_size=0.20, random_state=50)\r\n",
        "y_train = y_train.ravel()#reshape((-1,))\r\n",
        "\r\n",
        "clf = RandomForestClassifier(n_estimators=750, max_depth=6, random_state=60)\r\n",
        "clf.fit(X_train, y_train)\r\n",
        "\r\n",
        "dummy_clf = DummyClassifier(strategy='stratified')\r\n",
        "dummy_clf.fit(X_train, y_train)\r\n",
        "\r\n",
        "dummy_scores = cross_val_score(dummy_clf, X_train, y_train, cv=10, scoring = make_scorer(f1_score))\r\n",
        "\r\n",
        "scores = cross_val_score(clf, X_train, y_train, cv=10, scoring = make_scorer(f1_score))\r\n",
        "\r\n",
        "\r\n",
        "print(\"MSE: %0.8f +/- %0.8f\" % (scores.mean(), scores.std()))\r\n",
        "print(\"Dummy MSE: %0.8f +/- %0.8f\" % (dummy_scores.mean(), dummy_scores.std()))\r\n",
        "\r\n",
        "param_grid = {\r\n",
        "    'n_estimators': [100, 300, 750],\r\n",
        "    'max_features':['auto', 'sqrt', 'log2']\r\n",
        "}\r\n",
        "CV_rfc = GridSearchCV(estimator=clf, param_grid=param_grid, cv= 10)\r\n",
        "\r\n",
        "CV_rfc.fit(X_train, y_train)\r\n",
        "print(CV_rfc.best_params_)\r\n",
        "clf = RandomForestClassifier(n_estimators=750,max_features='auto', random_state=60)\r\n",
        "scores = cross_val_score(clf, X_train, y_train, cv=10, scoring = make_scorer(f1_score))\r\n",
        "print(scores.mean())\r\n",
        "\r\n",
        "clf.fit(X_train, y_train)\r\n",
        "\r\n",
        "importances = CV_rfc.best_estimator_.feature_importances_\r\n",
        "std = np.std([tree.feature_importances_ for tree in clf.estimators_],\r\n",
        "             axis=0)\r\n",
        "indices = np.argsort(importances)[::-1]\r\n",
        "\r\n",
        "# Print the feature ranking\r\n",
        "print(\"Feature ranking:\")\r\n",
        "for f in range(X.shape[1]):\r\n",
        "    print(\"%d. %s (%f)\" % (f + 1, X_df.columns[indices[f]],  importances[indices[f]]))\r\n",
        "\r\n",
        "# Plot the feature importances of the forest\r\n",
        "fig = plt.figure()\r\n",
        "plt.title(\"Feature importances\")\r\n",
        "plt.bar(range(X.shape[1]), importances[indices],\r\n",
        "       color=\"r\", yerr=std[indices], align=\"center\")\r\n",
        "plt.xticks(range(X.shape[1]), np.array(X_df.columns)[indices])\r\n",
        "plt.xlim([-1, X.shape[1]])\r\n",
        "plt.ylim([0, None])\r\n",
        "\r\n",
        "fig.set_size_inches(15, 8)\r\n",
        "\r\n",
        "y_predict = CV_rfc.best_estimator_.predict(X_test)\r\n",
        "\r\n",
        "def plot_confusion_matrix(conf_mat, classes,\r\n",
        "                          normalize=False,\r\n",
        "                          title='Confusion matrix',\r\n",
        "                          cmap=plt.cm.Blues):\r\n",
        "    \"\"\"\r\n",
        "    This function prints and plots the confusion matrix.\r\n",
        "    Normalization can be applied by setting `normalize=True`.\r\n",
        "    conf_mat: confusion matrix\r\n",
        "    classes: names of classes to be annotated\r\n",
        "    normalize: [True/False] whether to normalise by column\r\n",
        "    \"\"\"\r\n",
        "    if normalize:\r\n",
        "        conf_mat = conf_mat.astype('float') / conf_mat.sum(axis=1)[:, np.newaxis]\r\n",
        "        print(\"Normalized confusion matrix\")\r\n",
        "    else:\r\n",
        "        print('Confusion matrix, without normalization')\r\n",
        "    plt.imshow(conf_mat, interpolation='nearest', cmap=cmap)\r\n",
        "    plt.title(title)\r\n",
        "    plt.colorbar()\r\n",
        "    tick_marks = np.arange(len(classes))\r\n",
        "    plt.xticks(tick_marks, classes, rotation=45)\r\n",
        "    plt.yticks(tick_marks, classes)\r\n",
        "    for i, j in itertools.product(range(conf_mat.shape[0]), range(conf_mat.shape[1])):\r\n",
        "        t = \"(%.2f)\" % (conf_mat[i, j])\r\n",
        "    plt.tight_layout()\r\n",
        "    plt.ylabel('True label')\r\n",
        "    plt.xlabel('Predicted label')\r\n",
        "\r\n",
        "cnf_matrix = confusion_matrix(y_test, y_predict)\r\n",
        "np.set_printoptions(precision=2)\r\n",
        "\r\n",
        "# Plot non-normalized confusion matrix\r\n",
        "plt.figure()\r\n",
        "y_test = y_test[:,0]\r\n",
        "plot_confusion_matrix(cnf_matrix, classes=range(len(set(y_test))), normalize=True,\r\n",
        "                      title='Confusion matrix')"
      ],
      "execution_count": 28,
      "outputs": [
        {
          "output_type": "stream",
          "text": [
            "MSE: 0.28792315 +/- 0.01818844\n",
            "Dummy MSE: 0.10895826 +/- 0.01152891\n",
            "{'max_features': 'auto', 'n_estimators': 750}\n",
            "0.37932546697410496\n",
            "Feature ranking:\n",
            "1. nr.employed (0.193401)\n",
            "2. euribor3m (0.158868)\n",
            "3. pdays (0.113349)\n",
            "4. poutcome_success (0.098633)\n",
            "5. emp.var.rate (0.082884)\n",
            "6. cons.conf.idx (0.073327)\n",
            "7. cons.price.idx (0.060669)\n",
            "8. previous (0.025557)\n",
            "9. age (0.023143)\n",
            "10. poutcome_nonexistent (0.020216)\n",
            "11. month_mar (0.017005)\n",
            "12. poutcome_failure (0.016326)\n",
            "13. month_oct (0.013526)\n",
            "14. contact_cellular (0.012063)\n",
            "15. month_may (0.011861)\n",
            "16. contact_telephone (0.009952)\n",
            "17. month_apr (0.007178)\n",
            "18. month_sep (0.005470)\n",
            "19. campaign (0.005110)\n",
            "20. day_of_week_mon (0.003559)\n",
            "21. month_jun (0.003530)\n",
            "22. default_unknown (0.003201)\n",
            "23. default_no (0.003022)\n",
            "24. job_student (0.002945)\n",
            "25. job_retired (0.002548)\n",
            "26. job_blue-collar (0.002470)\n",
            "27. marital_single (0.001700)\n",
            "28. education_university.degree (0.001555)\n",
            "29. month_aug (0.001520)\n",
            "30. day_of_week_tue (0.001498)\n",
            "31. day_of_week_thu (0.001382)\n",
            "32. education_basic.9y (0.001291)\n",
            "33. month_nov (0.001273)\n",
            "34. month_dec (0.001180)\n",
            "35. marital_married (0.001063)\n",
            "36. day_of_week_fri (0.001044)\n",
            "37. education_professional.course (0.001020)\n",
            "38. day_of_week_wed (0.000972)\n",
            "39. education_high.school (0.000970)\n",
            "40. month_jul (0.000940)\n",
            "41. job_admin. (0.000926)\n",
            "42. job_technician (0.000897)\n",
            "43. education_unknown (0.000872)\n",
            "44. loan_no (0.000872)\n",
            "45. housing_no (0.000832)\n",
            "46. marital_divorced (0.000818)\n",
            "47. housing_yes (0.000806)\n",
            "48. loan_yes (0.000761)\n",
            "49. job_self-employed (0.000690)\n",
            "50. education_basic.4y (0.000669)\n",
            "51. job_management (0.000629)\n",
            "52. education_basic.6y (0.000595)\n",
            "53. job_services (0.000591)\n",
            "54. job_unknown (0.000534)\n",
            "55. loan_unknown (0.000515)\n",
            "56. housing_unknown (0.000471)\n",
            "57. job_entrepreneur (0.000440)\n",
            "58. job_unemployed (0.000391)\n",
            "59. job_housemaid (0.000340)\n",
            "60. marital_unknown (0.000089)\n",
            "61. education_illiterate (0.000042)\n",
            "62. default_yes (0.000000)\n",
            "Normalized confusion matrix\n"
          ],
          "name": "stdout"
        },
        {
          "output_type": "display_data",
          "data": {
            "image/png": "[encoded data removed]",
            "text/plain": [
              "<Figure size 1080x576 with 1 Axes>"
            ]
          },
          "metadata": {
            "tags": [],
            "needs_background": "light"
          }
        },
        {
          "output_type": "display_data",
          "data": {
            "image/png": "[encoded data removed]",
            "text/plain": [
              "<Figure size 432x288 with 2 Axes>"
            ]
          },
          "metadata": {
            "tags": [],
            "needs_background": "light"
          }
        }
      ]
    }
  ]
}
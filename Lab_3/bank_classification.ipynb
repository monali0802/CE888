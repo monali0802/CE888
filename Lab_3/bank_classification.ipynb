{
  "nbformat": 4,
  "nbformat_minor": 0,
  "metadata": {
    "accelerator": "GPU",
    "colab": {
      "name": "bank_classification.ipynb",
      "provenance": [],
      "collapsed_sections": [],
      "mount_file_id": "1HYyNFwpEEnB49Wfr6pPuqXebzr_hkD7f",
      "authorship_tag": "ABX9TyOBycbDUYVJEliidNFs1uBf",
      "include_colab_link": true
    },
    "kernelspec": {
      "display_name": "Python 3",
      "name": "python3"
    }
  },
  "cells": [
    {
      "cell_type": "markdown",
      "metadata": {
        "id": "view-in-github",
        "colab_type": "text"
      },
      "source": [
        "<a href=\"https://colab.research.google.com/github/monali0802/CE888/blob/main/Lab_3/bank_classification.ipynb\" target=\"_parent\"><img src=\"https://colab.research.google.com/assets/colab-badge.svg\" alt=\"Open In Colab\"/></a>"
      ]
    },
    {
      "cell_type": "code",
      "metadata": {
        "id": "DFzKQNqUgdcE"
      },
      "source": [
        "%matplotlib inline\r\n",
        "import matplotlib\r\n",
        "import numpy as np\r\n",
        "import matplotlib.pyplot as plt\r\n",
        "import pandas as pd\r\n",
        "import seaborn as sns\r\n",
        "import itertools\r\n",
        "\r\n",
        "from sklearn.tree import DecisionTreeRegressor\r\n",
        "from sklearn.ensemble import RandomForestClassifier, ExtraTreesClassifier\r\n",
        "from sklearn.model_selection import cross_val_score\r\n",
        "from sklearn.model_selection import train_test_split\r\n",
        "from sklearn.model_selection import GridSearchCV\r\n",
        "from sklearn.metrics import mean_squared_error as mse\r\n",
        "from sklearn.metrics import mean_absolute_error as mae\r\n",
        "from sklearn.metrics import accuracy_score as acc\r\n",
        "# from sklearn.metrics import fbeta_score, Scorer\r\n",
        "from sklearn.metrics import balanced_accuracy_score \r\n",
        "from sklearn.metrics import f1_score\r\n",
        "from sklearn.metrics import make_scorer, confusion_matrix\r\n",
        "from sklearn.dummy import DummyRegressor, DummyClassifier\r\n",
        "from sklearn.preprocessing import LabelEncoder"
      ],
      "execution_count": null,
      "outputs": []
    },
    {
      "cell_type": "code",
      "metadata": {
        "colab": {
          "base_uri": "https://localhost:8080/",
          "height": 439
        },
        "id": "2bvrTSHDlLJY",
        "outputId": "e60cace0-14d6-4930-a2f5-8b26f7dc0d79"
      },
      "source": [
        "df = pd.read_csv(\"https://raw.githubusercontent.com/albanda/ce888/master/lab3/bank-additional-full.csv\", delimiter=\";\")\r\n",
        "df"
      ],
      "execution_count": null,
      "outputs": [
        {
          "output_type": "execute_result",
          "data": {
            "text/html": [
              "<div>\n",
              "<style scoped>\n",
              "    .dataframe tbody tr th:only-of-type {\n",
              "        vertical-align: middle;\n",
              "    }\n",
              "\n",
              "    .dataframe tbody tr th {\n",
              "        vertical-align: top;\n",
              "    }\n",
              "\n",
              "    .dataframe thead th {\n",
              "        text-align: right;\n",
              "    }\n",
              "</style>\n",
              "<table border=\"1\" class=\"dataframe\">\n",
              "  <thead>\n",
              "    <tr style=\"text-align: right;\">\n",
              "      <th></th>\n",
              "      <th>age</th>\n",
              "      <th>job</th>\n",
              "      <th>marital</th>\n",
              "      <th>education</th>\n",
              "      <th>default</th>\n",
              "      <th>housing</th>\n",
              "      <th>loan</th>\n",
              "      <th>contact</th>\n",
              "      <th>month</th>\n",
              "      <th>day_of_week</th>\n",
              "      <th>duration</th>\n",
              "      <th>campaign</th>\n",
              "      <th>pdays</th>\n",
              "      <th>previous</th>\n",
              "      <th>poutcome</th>\n",
              "      <th>emp.var.rate</th>\n",
              "      <th>cons.price.idx</th>\n",
              "      <th>cons.conf.idx</th>\n",
              "      <th>euribor3m</th>\n",
              "      <th>nr.employed</th>\n",
              "      <th>y</th>\n",
              "    </tr>\n",
              "  </thead>\n",
              "  <tbody>\n",
              "    <tr>\n",
              "      <th>0</th>\n",
              "      <td>56</td>\n",
              "      <td>housemaid</td>\n",
              "      <td>married</td>\n",
              "      <td>basic.4y</td>\n",
              "      <td>no</td>\n",
              "      <td>no</td>\n",
              "      <td>no</td>\n",
              "      <td>telephone</td>\n",
              "      <td>may</td>\n",
              "      <td>mon</td>\n",
              "      <td>261</td>\n",
              "      <td>1</td>\n",
              "      <td>999</td>\n",
              "      <td>0</td>\n",
              "      <td>nonexistent</td>\n",
              "      <td>1.1</td>\n",
              "      <td>93.994</td>\n",
              "      <td>-36.4</td>\n",
              "      <td>4.857</td>\n",
              "      <td>5191.0</td>\n",
              "      <td>no</td>\n",
              "    </tr>\n",
              "    <tr>\n",
              "      <th>1</th>\n",
              "      <td>57</td>\n",
              "      <td>services</td>\n",
              "      <td>married</td>\n",
              "      <td>high.school</td>\n",
              "      <td>unknown</td>\n",
              "      <td>no</td>\n",
              "      <td>no</td>\n",
              "      <td>telephone</td>\n",
              "      <td>may</td>\n",
              "      <td>mon</td>\n",
              "      <td>149</td>\n",
              "      <td>1</td>\n",
              "      <td>999</td>\n",
              "      <td>0</td>\n",
              "      <td>nonexistent</td>\n",
              "      <td>1.1</td>\n",
              "      <td>93.994</td>\n",
              "      <td>-36.4</td>\n",
              "      <td>4.857</td>\n",
              "      <td>5191.0</td>\n",
              "      <td>no</td>\n",
              "    </tr>\n",
              "    <tr>\n",
              "      <th>2</th>\n",
              "      <td>37</td>\n",
              "      <td>services</td>\n",
              "      <td>married</td>\n",
              "      <td>high.school</td>\n",
              "      <td>no</td>\n",
              "      <td>yes</td>\n",
              "      <td>no</td>\n",
              "      <td>telephone</td>\n",
              "      <td>may</td>\n",
              "      <td>mon</td>\n",
              "      <td>226</td>\n",
              "      <td>1</td>\n",
              "      <td>999</td>\n",
              "      <td>0</td>\n",
              "      <td>nonexistent</td>\n",
              "      <td>1.1</td>\n",
              "      <td>93.994</td>\n",
              "      <td>-36.4</td>\n",
              "      <td>4.857</td>\n",
              "      <td>5191.0</td>\n",
              "      <td>no</td>\n",
              "    </tr>\n",
              "    <tr>\n",
              "      <th>3</th>\n",
              "      <td>40</td>\n",
              "      <td>admin.</td>\n",
              "      <td>married</td>\n",
              "      <td>basic.6y</td>\n",
              "      <td>no</td>\n",
              "      <td>no</td>\n",
              "      <td>no</td>\n",
              "      <td>telephone</td>\n",
              "      <td>may</td>\n",
              "      <td>mon</td>\n",
              "      <td>151</td>\n",
              "      <td>1</td>\n",
              "      <td>999</td>\n",
              "      <td>0</td>\n",
              "      <td>nonexistent</td>\n",
              "      <td>1.1</td>\n",
              "      <td>93.994</td>\n",
              "      <td>-36.4</td>\n",
              "      <td>4.857</td>\n",
              "      <td>5191.0</td>\n",
              "      <td>no</td>\n",
              "    </tr>\n",
              "    <tr>\n",
              "      <th>4</th>\n",
              "      <td>56</td>\n",
              "      <td>services</td>\n",
              "      <td>married</td>\n",
              "      <td>high.school</td>\n",
              "      <td>no</td>\n",
              "      <td>no</td>\n",
              "      <td>yes</td>\n",
              "      <td>telephone</td>\n",
              "      <td>may</td>\n",
              "      <td>mon</td>\n",
              "      <td>307</td>\n",
              "      <td>1</td>\n",
              "      <td>999</td>\n",
              "      <td>0</td>\n",
              "      <td>nonexistent</td>\n",
              "      <td>1.1</td>\n",
              "      <td>93.994</td>\n",
              "      <td>-36.4</td>\n",
              "      <td>4.857</td>\n",
              "      <td>5191.0</td>\n",
              "      <td>no</td>\n",
              "    </tr>\n",
              "    <tr>\n",
              "      <th>...</th>\n",
              "      <td>...</td>\n",
              "      <td>...</td>\n",
              "      <td>...</td>\n",
              "      <td>...</td>\n",
              "      <td>...</td>\n",
              "      <td>...</td>\n",
              "      <td>...</td>\n",
              "      <td>...</td>\n",
              "      <td>...</td>\n",
              "      <td>...</td>\n",
              "      <td>...</td>\n",
              "      <td>...</td>\n",
              "      <td>...</td>\n",
              "      <td>...</td>\n",
              "      <td>...</td>\n",
              "      <td>...</td>\n",
              "      <td>...</td>\n",
              "      <td>...</td>\n",
              "      <td>...</td>\n",
              "      <td>...</td>\n",
              "      <td>...</td>\n",
              "    </tr>\n",
              "    <tr>\n",
              "      <th>41183</th>\n",
              "      <td>73</td>\n",
              "      <td>retired</td>\n",
              "      <td>married</td>\n",
              "      <td>professional.course</td>\n",
              "      <td>no</td>\n",
              "      <td>yes</td>\n",
              "      <td>no</td>\n",
              "      <td>cellular</td>\n",
              "      <td>nov</td>\n",
              "      <td>fri</td>\n",
              "      <td>334</td>\n",
              "      <td>1</td>\n",
              "      <td>999</td>\n",
              "      <td>0</td>\n",
              "      <td>nonexistent</td>\n",
              "      <td>-1.1</td>\n",
              "      <td>94.767</td>\n",
              "      <td>-50.8</td>\n",
              "      <td>1.028</td>\n",
              "      <td>4963.6</td>\n",
              "      <td>yes</td>\n",
              "    </tr>\n",
              "    <tr>\n",
              "      <th>41184</th>\n",
              "      <td>46</td>\n",
              "      <td>blue-collar</td>\n",
              "      <td>married</td>\n",
              "      <td>professional.course</td>\n",
              "      <td>no</td>\n",
              "      <td>no</td>\n",
              "      <td>no</td>\n",
              "      <td>cellular</td>\n",
              "      <td>nov</td>\n",
              "      <td>fri</td>\n",
              "      <td>383</td>\n",
              "      <td>1</td>\n",
              "      <td>999</td>\n",
              "      <td>0</td>\n",
              "      <td>nonexistent</td>\n",
              "      <td>-1.1</td>\n",
              "      <td>94.767</td>\n",
              "      <td>-50.8</td>\n",
              "      <td>1.028</td>\n",
              "      <td>4963.6</td>\n",
              "      <td>no</td>\n",
              "    </tr>\n",
              "    <tr>\n",
              "      <th>41185</th>\n",
              "      <td>56</td>\n",
              "      <td>retired</td>\n",
              "      <td>married</td>\n",
              "      <td>university.degree</td>\n",
              "      <td>no</td>\n",
              "      <td>yes</td>\n",
              "      <td>no</td>\n",
              "      <td>cellular</td>\n",
              "      <td>nov</td>\n",
              "      <td>fri</td>\n",
              "      <td>189</td>\n",
              "      <td>2</td>\n",
              "      <td>999</td>\n",
              "      <td>0</td>\n",
              "      <td>nonexistent</td>\n",
              "      <td>-1.1</td>\n",
              "      <td>94.767</td>\n",
              "      <td>-50.8</td>\n",
              "      <td>1.028</td>\n",
              "      <td>4963.6</td>\n",
              "      <td>no</td>\n",
              "    </tr>\n",
              "    <tr>\n",
              "      <th>41186</th>\n",
              "      <td>44</td>\n",
              "      <td>technician</td>\n",
              "      <td>married</td>\n",
              "      <td>professional.course</td>\n",
              "      <td>no</td>\n",
              "      <td>no</td>\n",
              "      <td>no</td>\n",
              "      <td>cellular</td>\n",
              "      <td>nov</td>\n",
              "      <td>fri</td>\n",
              "      <td>442</td>\n",
              "      <td>1</td>\n",
              "      <td>999</td>\n",
              "      <td>0</td>\n",
              "      <td>nonexistent</td>\n",
              "      <td>-1.1</td>\n",
              "      <td>94.767</td>\n",
              "      <td>-50.8</td>\n",
              "      <td>1.028</td>\n",
              "      <td>4963.6</td>\n",
              "      <td>yes</td>\n",
              "    </tr>\n",
              "    <tr>\n",
              "      <th>41187</th>\n",
              "      <td>74</td>\n",
              "      <td>retired</td>\n",
              "      <td>married</td>\n",
              "      <td>professional.course</td>\n",
              "      <td>no</td>\n",
              "      <td>yes</td>\n",
              "      <td>no</td>\n",
              "      <td>cellular</td>\n",
              "      <td>nov</td>\n",
              "      <td>fri</td>\n",
              "      <td>239</td>\n",
              "      <td>3</td>\n",
              "      <td>999</td>\n",
              "      <td>1</td>\n",
              "      <td>failure</td>\n",
              "      <td>-1.1</td>\n",
              "      <td>94.767</td>\n",
              "      <td>-50.8</td>\n",
              "      <td>1.028</td>\n",
              "      <td>4963.6</td>\n",
              "      <td>no</td>\n",
              "    </tr>\n",
              "  </tbody>\n",
              "</table>\n",
              "<p>41188 rows × 21 columns</p>\n",
              "</div>"
            ],
            "text/plain": [
              "       age          job  marital  ... euribor3m nr.employed    y\n",
              "0       56    housemaid  married  ...     4.857      5191.0   no\n",
              "1       57     services  married  ...     4.857      5191.0   no\n",
              "2       37     services  married  ...     4.857      5191.0   no\n",
              "3       40       admin.  married  ...     4.857      5191.0   no\n",
              "4       56     services  married  ...     4.857      5191.0   no\n",
              "...    ...          ...      ...  ...       ...         ...  ...\n",
              "41183   73      retired  married  ...     1.028      4963.6  yes\n",
              "41184   46  blue-collar  married  ...     1.028      4963.6   no\n",
              "41185   56      retired  married  ...     1.028      4963.6   no\n",
              "41186   44   technician  married  ...     1.028      4963.6  yes\n",
              "41187   74      retired  married  ...     1.028      4963.6   no\n",
              "\n",
              "[41188 rows x 21 columns]"
            ]
          },
          "metadata": {
            "tags": []
          },
          "execution_count": 3
        }
      ]
    },
    {
      "cell_type": "code",
      "metadata": {
        "colab": {
          "base_uri": "https://localhost:8080/"
        },
        "id": "JnqxS8UflV3r",
        "outputId": "13f765b4-4d32-4dd2-82ef-00d08fffab72"
      },
      "source": [
        "print(df.columns)\r\n",
        "features = ['age', 'job', 'marital', 'education', 'default', 'housing', 'loan',\r\n",
        "       'contact', 'month', 'day_of_week', 'duration', 'campaign', 'pdays',\r\n",
        "       'previous', 'poutcome', 'emp.var.rate', 'cons.price.idx',\r\n",
        "       'cons.conf.idx', 'euribor3m', 'nr.employed']\r\n",
        "\r\n",
        "\r\n",
        "print(df[features].head())"
      ],
      "execution_count": null,
      "outputs": [
        {
          "output_type": "stream",
          "text": [
            "Index(['age', 'job', 'marital', 'education', 'default', 'housing', 'loan',\n",
            "       'contact', 'month', 'day_of_week', 'duration', 'campaign', 'pdays',\n",
            "       'previous', 'poutcome', 'emp.var.rate', 'cons.price.idx',\n",
            "       'cons.conf.idx', 'euribor3m', 'nr.employed', 'y'],\n",
            "      dtype='object')\n",
            "   age        job  marital  ... cons.conf.idx euribor3m nr.employed\n",
            "0   56  housemaid  married  ...         -36.4     4.857      5191.0\n",
            "1   57   services  married  ...         -36.4     4.857      5191.0\n",
            "2   37   services  married  ...         -36.4     4.857      5191.0\n",
            "3   40     admin.  married  ...         -36.4     4.857      5191.0\n",
            "4   56   services  married  ...         -36.4     4.857      5191.0\n",
            "\n",
            "[5 rows x 20 columns]\n"
          ],
          "name": "stdout"
        }
      ]
    },
    {
      "cell_type": "code",
      "metadata": {
        "colab": {
          "base_uri": "https://localhost:8080/"
        },
        "id": "mconPBOXl9Ga",
        "outputId": "8f094f4c-83e8-4127-8e37-f1c66bf45a75"
      },
      "source": [
        "print(\"Number of rows before dropping NaNs: %d\" % len(df))\r\n",
        "df = df.dropna()\r\n",
        "print(\"Number of rows after dropping NaNs: %d\" % len(df))"
      ],
      "execution_count": null,
      "outputs": [
        {
          "output_type": "stream",
          "text": [
            "Number of rows before dropping NaNs: 41188\n",
            "Number of rows after dropping NaNs: 41188\n"
          ],
          "name": "stdout"
        }
      ]
    },
    {
      "cell_type": "code",
      "metadata": {
        "colab": {
          "base_uri": "https://localhost:8080/",
          "height": 204
        },
        "id": "MCpO8Jp4mBNL",
        "outputId": "0261fbd6-7b01-4ccb-8c55-f59deadaa152"
      },
      "source": [
        "outcomes=  ['y']\r\n",
        "\r\n",
        "df[outcomes].head()"
      ],
      "execution_count": null,
      "outputs": [
        {
          "output_type": "execute_result",
          "data": {
            "text/html": [
              "<div>\n",
              "<style scoped>\n",
              "    .dataframe tbody tr th:only-of-type {\n",
              "        vertical-align: middle;\n",
              "    }\n",
              "\n",
              "    .dataframe tbody tr th {\n",
              "        vertical-align: top;\n",
              "    }\n",
              "\n",
              "    .dataframe thead th {\n",
              "        text-align: right;\n",
              "    }\n",
              "</style>\n",
              "<table border=\"1\" class=\"dataframe\">\n",
              "  <thead>\n",
              "    <tr style=\"text-align: right;\">\n",
              "      <th></th>\n",
              "      <th>y</th>\n",
              "    </tr>\n",
              "  </thead>\n",
              "  <tbody>\n",
              "    <tr>\n",
              "      <th>0</th>\n",
              "      <td>no</td>\n",
              "    </tr>\n",
              "    <tr>\n",
              "      <th>1</th>\n",
              "      <td>no</td>\n",
              "    </tr>\n",
              "    <tr>\n",
              "      <th>2</th>\n",
              "      <td>no</td>\n",
              "    </tr>\n",
              "    <tr>\n",
              "      <th>3</th>\n",
              "      <td>no</td>\n",
              "    </tr>\n",
              "    <tr>\n",
              "      <th>4</th>\n",
              "      <td>no</td>\n",
              "    </tr>\n",
              "  </tbody>\n",
              "</table>\n",
              "</div>"
            ],
            "text/plain": [
              "    y\n",
              "0  no\n",
              "1  no\n",
              "2  no\n",
              "3  no\n",
              "4  no"
            ]
          },
          "metadata": {
            "tags": []
          },
          "execution_count": 6
        }
      ]
    },
    {
      "cell_type": "code",
      "metadata": {
        "colab": {
          "base_uri": "https://localhost:8080/",
          "height": 224
        },
        "id": "hxZIM1svmNpJ",
        "outputId": "89e41d0a-8ce6-4698-acb6-5b8e0e65bf8c"
      },
      "source": [
        "df[[\"y\"]] = df[[\"y\"]].apply(LabelEncoder().fit_transform)\r\n",
        "\r\n",
        "df.head()"
      ],
      "execution_count": null,
      "outputs": [
        {
          "output_type": "execute_result",
          "data": {
            "text/html": [
              "<div>\n",
              "<style scoped>\n",
              "    .dataframe tbody tr th:only-of-type {\n",
              "        vertical-align: middle;\n",
              "    }\n",
              "\n",
              "    .dataframe tbody tr th {\n",
              "        vertical-align: top;\n",
              "    }\n",
              "\n",
              "    .dataframe thead th {\n",
              "        text-align: right;\n",
              "    }\n",
              "</style>\n",
              "<table border=\"1\" class=\"dataframe\">\n",
              "  <thead>\n",
              "    <tr style=\"text-align: right;\">\n",
              "      <th></th>\n",
              "      <th>age</th>\n",
              "      <th>job</th>\n",
              "      <th>marital</th>\n",
              "      <th>education</th>\n",
              "      <th>default</th>\n",
              "      <th>housing</th>\n",
              "      <th>loan</th>\n",
              "      <th>contact</th>\n",
              "      <th>month</th>\n",
              "      <th>day_of_week</th>\n",
              "      <th>duration</th>\n",
              "      <th>campaign</th>\n",
              "      <th>pdays</th>\n",
              "      <th>previous</th>\n",
              "      <th>poutcome</th>\n",
              "      <th>emp.var.rate</th>\n",
              "      <th>cons.price.idx</th>\n",
              "      <th>cons.conf.idx</th>\n",
              "      <th>euribor3m</th>\n",
              "      <th>nr.employed</th>\n",
              "      <th>y</th>\n",
              "    </tr>\n",
              "  </thead>\n",
              "  <tbody>\n",
              "    <tr>\n",
              "      <th>0</th>\n",
              "      <td>56</td>\n",
              "      <td>housemaid</td>\n",
              "      <td>married</td>\n",
              "      <td>basic.4y</td>\n",
              "      <td>no</td>\n",
              "      <td>no</td>\n",
              "      <td>no</td>\n",
              "      <td>telephone</td>\n",
              "      <td>may</td>\n",
              "      <td>mon</td>\n",
              "      <td>261</td>\n",
              "      <td>1</td>\n",
              "      <td>999</td>\n",
              "      <td>0</td>\n",
              "      <td>nonexistent</td>\n",
              "      <td>1.1</td>\n",
              "      <td>93.994</td>\n",
              "      <td>-36.4</td>\n",
              "      <td>4.857</td>\n",
              "      <td>5191.0</td>\n",
              "      <td>0</td>\n",
              "    </tr>\n",
              "    <tr>\n",
              "      <th>1</th>\n",
              "      <td>57</td>\n",
              "      <td>services</td>\n",
              "      <td>married</td>\n",
              "      <td>high.school</td>\n",
              "      <td>unknown</td>\n",
              "      <td>no</td>\n",
              "      <td>no</td>\n",
              "      <td>telephone</td>\n",
              "      <td>may</td>\n",
              "      <td>mon</td>\n",
              "      <td>149</td>\n",
              "      <td>1</td>\n",
              "      <td>999</td>\n",
              "      <td>0</td>\n",
              "      <td>nonexistent</td>\n",
              "      <td>1.1</td>\n",
              "      <td>93.994</td>\n",
              "      <td>-36.4</td>\n",
              "      <td>4.857</td>\n",
              "      <td>5191.0</td>\n",
              "      <td>0</td>\n",
              "    </tr>\n",
              "    <tr>\n",
              "      <th>2</th>\n",
              "      <td>37</td>\n",
              "      <td>services</td>\n",
              "      <td>married</td>\n",
              "      <td>high.school</td>\n",
              "      <td>no</td>\n",
              "      <td>yes</td>\n",
              "      <td>no</td>\n",
              "      <td>telephone</td>\n",
              "      <td>may</td>\n",
              "      <td>mon</td>\n",
              "      <td>226</td>\n",
              "      <td>1</td>\n",
              "      <td>999</td>\n",
              "      <td>0</td>\n",
              "      <td>nonexistent</td>\n",
              "      <td>1.1</td>\n",
              "      <td>93.994</td>\n",
              "      <td>-36.4</td>\n",
              "      <td>4.857</td>\n",
              "      <td>5191.0</td>\n",
              "      <td>0</td>\n",
              "    </tr>\n",
              "    <tr>\n",
              "      <th>3</th>\n",
              "      <td>40</td>\n",
              "      <td>admin.</td>\n",
              "      <td>married</td>\n",
              "      <td>basic.6y</td>\n",
              "      <td>no</td>\n",
              "      <td>no</td>\n",
              "      <td>no</td>\n",
              "      <td>telephone</td>\n",
              "      <td>may</td>\n",
              "      <td>mon</td>\n",
              "      <td>151</td>\n",
              "      <td>1</td>\n",
              "      <td>999</td>\n",
              "      <td>0</td>\n",
              "      <td>nonexistent</td>\n",
              "      <td>1.1</td>\n",
              "      <td>93.994</td>\n",
              "      <td>-36.4</td>\n",
              "      <td>4.857</td>\n",
              "      <td>5191.0</td>\n",
              "      <td>0</td>\n",
              "    </tr>\n",
              "    <tr>\n",
              "      <th>4</th>\n",
              "      <td>56</td>\n",
              "      <td>services</td>\n",
              "      <td>married</td>\n",
              "      <td>high.school</td>\n",
              "      <td>no</td>\n",
              "      <td>no</td>\n",
              "      <td>yes</td>\n",
              "      <td>telephone</td>\n",
              "      <td>may</td>\n",
              "      <td>mon</td>\n",
              "      <td>307</td>\n",
              "      <td>1</td>\n",
              "      <td>999</td>\n",
              "      <td>0</td>\n",
              "      <td>nonexistent</td>\n",
              "      <td>1.1</td>\n",
              "      <td>93.994</td>\n",
              "      <td>-36.4</td>\n",
              "      <td>4.857</td>\n",
              "      <td>5191.0</td>\n",
              "      <td>0</td>\n",
              "    </tr>\n",
              "  </tbody>\n",
              "</table>\n",
              "</div>"
            ],
            "text/plain": [
              "   age        job  marital  ... euribor3m nr.employed  y\n",
              "0   56  housemaid  married  ...     4.857      5191.0  0\n",
              "1   57   services  married  ...     4.857      5191.0  0\n",
              "2   37   services  married  ...     4.857      5191.0  0\n",
              "3   40     admin.  married  ...     4.857      5191.0  0\n",
              "4   56   services  married  ...     4.857      5191.0  0\n",
              "\n",
              "[5 rows x 21 columns]"
            ]
          },
          "metadata": {
            "tags": []
          },
          "execution_count": 7
        }
      ]
    },
    {
      "cell_type": "code",
      "metadata": {
        "colab": {
          "base_uri": "https://localhost:8080/"
        },
        "id": "cibh5hGdnvY5",
        "outputId": "40bdce41-6490-4c9d-cf36-e3cabba0e593"
      },
      "source": [
        "outcomes_of_interest = [\"y\"]\r\n",
        "\r\n",
        "X_df = df[features].copy()\r\n",
        "y_df = df[outcomes_of_interest].copy()\r\n",
        "\r\n",
        "cat_features = ['job', 'marital', 'education', 'default', 'housing', 'loan',\r\n",
        "       'contact', 'month', 'day_of_week', 'poutcome']\r\n",
        "#print(X_df.head())\r\n",
        "#print(set(X_df[\"Category\"]))\r\n",
        "#print(pd.get_dummies(X_df, columns=[\"Category\"]).head())\r\n",
        "\r\n",
        "X_df = pd.get_dummies(X_df, columns=cat_features)\r\n",
        "X_df = X_df.drop(columns=['duration'])\r\n",
        "print(X_df.head())"
      ],
      "execution_count": null,
      "outputs": [
        {
          "output_type": "stream",
          "text": [
            "   age  campaign  ...  poutcome_nonexistent  poutcome_success\n",
            "0   56         1  ...                     1                 0\n",
            "1   57         1  ...                     1                 0\n",
            "2   37         1  ...                     1                 0\n",
            "3   40         1  ...                     1                 0\n",
            "4   56         1  ...                     1                 0\n",
            "\n",
            "[5 rows x 62 columns]\n"
          ],
          "name": "stdout"
        }
      ]
    },
    {
      "cell_type": "code",
      "metadata": {
        "id": "DZi8sSbvpBD2"
      },
      "source": [
        "X = X_df.values\r\n",
        "y = y_df.values"
      ],
      "execution_count": null,
      "outputs": []
    },
    {
      "cell_type": "code",
      "metadata": {
        "colab": {
          "base_uri": "https://localhost:8080/",
          "height": 265
        },
        "id": "L5HC6amvo96f",
        "outputId": "4d449751-11ae-488a-e992-c4768f7a8236"
      },
      "source": [
        "sns_plot = sns.histplot(y, kde=False)"
      ],
      "execution_count": null,
      "outputs": [
        {
          "output_type": "display_data",
          "data": {
            "image/png": "[encoded data removed]",
            "text/plain": [
              "<Figure size 432x288 with 1 Axes>"
            ]
          },
          "metadata": {
            "tags": [],
            "needs_background": "light"
          }
        }
      ]
    },
    {
      "cell_type": "code",
      "metadata": {
        "id": "W-gN-tvpuF_8"
      },
      "source": [
        "X_train, X_test, y_train, y_test = train_test_split(X, y, test_size=0.20, random_state=50)\r\n",
        "y_train = y_train.ravel()#reshape((-1,))\r\n"
      ],
      "execution_count": null,
      "outputs": []
    },
    {
      "cell_type": "code",
      "metadata": {
        "colab": {
          "base_uri": "https://localhost:8080/"
        },
        "id": "aAjrTRfX1afU",
        "outputId": "94012298-d9d4-4e19-81fd-89f4d28b50ce"
      },
      "source": [
        "clf = RandomForestClassifier(n_estimators=100, max_depth=3, random_state=50)\r\n",
        "clf.fit(X_train, y_train)"
      ],
      "execution_count": null,
      "outputs": [
        {
          "output_type": "execute_result",
          "data": {
            "text/plain": [
              "RandomForestClassifier(bootstrap=True, ccp_alpha=0.0, class_weight=None,\n",
              "                       criterion='gini', max_depth=3, max_features='auto',\n",
              "                       max_leaf_nodes=None, max_samples=None,\n",
              "                       min_impurity_decrease=0.0, min_impurity_split=None,\n",
              "                       min_samples_leaf=1, min_samples_split=2,\n",
              "                       min_weight_fraction_leaf=0.0, n_estimators=100,\n",
              "                       n_jobs=None, oob_score=False, random_state=50, verbose=0,\n",
              "                       warm_start=False)"
            ]
          },
          "metadata": {
            "tags": []
          },
          "execution_count": 10
        }
      ]
    },
    {
      "cell_type": "code",
      "metadata": {
        "id": "vJs7rtpf2urq"
      },
      "source": [
        "dummy_clf = DummyClassifier(strategy='stratified')\r\n",
        "dummy_clf.fit(X_train, y_train)\r\n",
        "\r\n",
        "dummy_scores = cross_val_score(dummy_clf, X_train, y_train, cv=10, scoring = make_scorer(f1_score))"
      ],
      "execution_count": null,
      "outputs": []
    },
    {
      "cell_type": "code",
      "metadata": {
        "id": "u8-DiNfS2RU1"
      },
      "source": [
        "scores = cross_val_score(clf, X_train, y_train, cv=10, scoring = make_scorer(f1_score))"
      ],
      "execution_count": null,
      "outputs": []
    },
    {
      "cell_type": "code",
      "metadata": {
        "colab": {
          "base_uri": "https://localhost:8080/"
        },
        "id": "43nz-LPe20F2",
        "outputId": "2a3cf8d8-6f4e-4c4c-ce41-eac9475db057"
      },
      "source": [
        "# print(\"Dummy ACC: %.2f\" % acc(y, dummy_clf.predict(X)))\r\n",
        "# print(\"ACC: %.2f +/- %.2f\" % (scores.mean(), scores.std()))\r\n",
        "\r\n",
        "print(\"MSE: %0.8f +/- %0.8f\" % (scores.mean(), scores.std()))\r\n",
        "print(\"Dummy MSE: %0.8f +/- %0.8f\" % (dummy_scores.mean(), dummy_scores.std()))"
      ],
      "execution_count": null,
      "outputs": [
        {
          "output_type": "stream",
          "text": [
            "MSE: 0.57745838 +/- 0.00580944\n",
            "Dummy MSE: 0.50122984 +/- 0.00772547\n"
          ],
          "name": "stdout"
        }
      ]
    },
    {
      "cell_type": "code",
      "metadata": {
        "colab": {
          "base_uri": "https://localhost:8080/"
        },
        "id": "ppUAYsTY8cCY",
        "outputId": "877afec9-2a41-44eb-9646-84819c4afaaa"
      },
      "source": [
        "param_grid = {\r\n",
        "    'n_estimators': [100, 300],\r\n",
        "    'max_features':['auto', 'sqrt', 'log2']\r\n",
        "}\r\n",
        "CV_rfc = GridSearchCV(estimator=clf, param_grid=param_grid, cv= 10)\r\n",
        "\r\n",
        "CV_rfc.fit(X_train, y_train)\r\n",
        "print(CV_rfc.best_params_)\r\n"
      ],
      "execution_count": null,
      "outputs": [
        {
          "output_type": "stream",
          "text": [
            "{'max_features': 'auto', 'n_estimators': 100}\n"
          ],
          "name": "stdout"
        }
      ]
    },
    {
      "cell_type": "code",
      "metadata": {
        "colab": {
          "base_uri": "https://localhost:8080/"
        },
        "id": "mOSx_4A5o7v-",
        "outputId": "407e9ece-5bb8-4e14-979d-8b88e59af913"
      },
      "source": [
        "clf = RandomForestClassifier(n_estimators=100,max_features='auto', random_state=50)\r\n",
        "scores = cross_val_score(clf, X_train, y_train, cv=10, scoring = make_scorer(f1_score))\r\n",
        "print(scores.mean())\r\n",
        "\r\n",
        "clf.fit(X_train, y_train)"
      ],
      "execution_count": null,
      "outputs": [
        {
          "output_type": "stream",
          "text": [
            "0.6300294805750518\n"
          ],
          "name": "stdout"
        },
        {
          "output_type": "execute_result",
          "data": {
            "text/plain": [
              "RandomForestClassifier(bootstrap=True, ccp_alpha=0.0, class_weight=None,\n",
              "                       criterion='gini', max_depth=None, max_features='auto',\n",
              "                       max_leaf_nodes=None, max_samples=None,\n",
              "                       min_impurity_decrease=0.0, min_impurity_split=None,\n",
              "                       min_samples_leaf=1, min_samples_split=2,\n",
              "                       min_weight_fraction_leaf=0.0, n_estimators=100,\n",
              "                       n_jobs=None, oob_score=False, random_state=50, verbose=0,\n",
              "                       warm_start=False)"
            ]
          },
          "metadata": {
            "tags": []
          },
          "execution_count": 15
        }
      ]
    },
    {
      "cell_type": "code",
      "metadata": {
        "colab": {
          "base_uri": "https://localhost:8080/",
          "height": 1000
        },
        "id": "pDVW1KaGtWor",
        "outputId": "21d5c272-47c6-43ba-e7c5-e66dbdffeae4"
      },
      "source": [
        "\r\n",
        "importances = clf.feature_importances_\r\n",
        "std = np.std([tree.feature_importances_ for tree in clf.estimators_],\r\n",
        "             axis=0)\r\n",
        "indices = np.argsort(importances)[::-1]\r\n",
        "\r\n",
        "# Print the feature ranking\r\n",
        "print(\"Feature ranking:\")\r\n",
        "\r\n",
        "for f in range(X.shape[1]):\r\n",
        "    print(\"%d. %s (%f)\" % (f + 1, X_df.columns[indices[f]],  importances[indices[f]]))\r\n",
        "\r\n",
        "# Plot the feature importances of the forest\r\n",
        "fig = plt.figure()\r\n",
        "plt.title(\"Feature importances\")\r\n",
        "plt.bar(range(X.shape[1]), importances[indices],\r\n",
        "       color=\"r\", yerr=std[indices], align=\"center\")\r\n",
        "plt.xticks(range(X.shape[1]), np.array(X_df.columns)[indices])\r\n",
        "plt.xlim([-1, X.shape[1]])\r\n",
        "plt.ylim([0, None])\r\n",
        "\r\n",
        "fig.set_size_inches(15, 8)"
      ],
      "execution_count": null,
      "outputs": [
        {
          "output_type": "stream",
          "text": [
            "Feature ranking:\n",
            "1. age (0.160258)\n",
            "2. euribor3m (0.127230)\n",
            "3. campaign (0.081008)\n",
            "4. nr.employed (0.041200)\n",
            "5. pdays (0.040525)\n",
            "6. cons.price.idx (0.025397)\n",
            "7. cons.conf.idx (0.023860)\n",
            "8. housing_no (0.021235)\n",
            "9. poutcome_success (0.021153)\n",
            "10. housing_yes (0.020621)\n",
            "11. emp.var.rate (0.020409)\n",
            "12. job_admin. (0.018237)\n",
            "13. education_university.degree (0.016697)\n",
            "14. education_high.school (0.016659)\n",
            "15. marital_married (0.016604)\n",
            "16. marital_single (0.015293)\n",
            "17. day_of_week_mon (0.014968)\n",
            "18. day_of_week_wed (0.014602)\n",
            "19. previous (0.014558)\n",
            "20. day_of_week_tue (0.014050)\n",
            "21. job_technician (0.014041)\n",
            "22. day_of_week_thu (0.014034)\n",
            "23. day_of_week_fri (0.013655)\n",
            "24. loan_no (0.013624)\n",
            "25. loan_yes (0.013387)\n",
            "26. education_professional.course (0.012105)\n",
            "27. job_blue-collar (0.011991)\n",
            "28. education_basic.9y (0.011344)\n",
            "29. marital_divorced (0.010795)\n",
            "30. job_management (0.009199)\n",
            "31. job_services (0.009072)\n",
            "32. poutcome_failure (0.008398)\n",
            "33. education_basic.4y (0.007849)\n",
            "34. contact_telephone (0.007827)\n",
            "35. contact_cellular (0.007788)\n",
            "36. default_no (0.007634)\n",
            "37. default_unknown (0.007542)\n",
            "38. poutcome_nonexistent (0.007366)\n",
            "39. education_basic.6y (0.007204)\n",
            "40. education_unknown (0.006904)\n",
            "41. job_retired (0.006599)\n",
            "42. job_self-employed (0.006382)\n",
            "43. job_entrepreneur (0.005964)\n",
            "44. job_student (0.005487)\n",
            "45. month_oct (0.005454)\n",
            "46. job_unemployed (0.005021)\n",
            "47. month_mar (0.004939)\n",
            "48. job_housemaid (0.004375)\n",
            "49. month_may (0.004178)\n",
            "50. month_apr (0.003171)\n",
            "51. month_jun (0.003128)\n",
            "52. month_sep (0.002675)\n",
            "53. housing_unknown (0.002615)\n",
            "54. month_aug (0.002605)\n",
            "55. loan_unknown (0.002604)\n",
            "56. month_jul (0.002552)\n",
            "57. job_unknown (0.002189)\n",
            "58. month_nov (0.002152)\n",
            "59. month_dec (0.000699)\n",
            "60. marital_unknown (0.000638)\n",
            "61. education_illiterate (0.000253)\n",
            "62. default_yes (0.000000)\n"
          ],
          "name": "stdout"
        },
        {
          "output_type": "display_data",
          "data": {
            "image/png": "[encoded data removed]",
            "text/plain": [
              "<Figure size 1080x576 with 1 Axes>"
            ]
          },
          "metadata": {
            "tags": []
          }
        }
      ]
    },
    {
      "cell_type": "code",
      "metadata": {
        "id": "2YZ3sTmXIz5U"
      },
      "source": [
        "y_predict = CV_rfc.best_estimator_.predict(X_test)\r\n"
      ],
      "execution_count": null,
      "outputs": []
    },
    {
      "cell_type": "code",
      "metadata": {
        "id": "Eow5_duLRGv9"
      },
      "source": [
        "def plot_confusion_matrix(conf_mat, classes,\r\n",
        "                          normalize=False,\r\n",
        "                          title='Confusion matrix',\r\n",
        "                          cmap=plt.cm.Blues):\r\n",
        "    \"\"\"\r\n",
        "    This function prints and plots the confusion matrix.\r\n",
        "    Normalization can be applied by setting `normalize=True`.\r\n",
        "    conf_mat: confusion matrix\r\n",
        "    classes: names of classes to be annotated\r\n",
        "    normalize: [True/False] whether to normalise by column\r\n",
        "    \"\"\"\r\n",
        "    if normalize:\r\n",
        "        conf_mat = conf_mat.astype('float') / conf_mat.sum(axis=1)[:, np.newaxis]\r\n",
        "        print(\"Normalized confusion matrix\")\r\n",
        "    else:\r\n",
        "        print('Confusion matrix, without normalization')\r\n",
        "    plt.imshow(conf_mat, interpolation='nearest', cmap=cmap)\r\n",
        "    plt.title(title)\r\n",
        "    plt.colorbar()\r\n",
        "    tick_marks = np.arange(len(classes))\r\n",
        "    plt.xticks(tick_marks, classes, rotation=45)\r\n",
        "    plt.yticks(tick_marks, classes)\r\n",
        "    for i, j in itertools.product(range(conf_mat.shape[0]), range(conf_mat.shape[1])):\r\n",
        "        t = \"(%.2f)\" % (conf_mat[i, j])\r\n",
        "    plt.tight_layout()\r\n",
        "    plt.ylabel('True label')\r\n",
        "    plt.xlabel('Predicted label')"
      ],
      "execution_count": null,
      "outputs": []
    },
    {
      "cell_type": "code",
      "metadata": {
        "colab": {
          "base_uri": "https://localhost:8080/",
          "height": 328
        },
        "id": "jy422ppURIR1",
        "outputId": "32173dde-984d-44aa-878e-ce1631ae25ff"
      },
      "source": [
        "\r\n",
        "cnf_matrix = confusion_matrix(y_test, y_predict)\r\n",
        "np.set_printoptions(precision=2)\r\n",
        "\r\n",
        "# Plot non-normalized confusion matrix\r\n",
        "plt.figure()\r\n",
        "y_test = y_test[:,0]\r\n",
        "plot_confusion_matrix(cnf_matrix, classes=range(len(set(y_test))), normalize=True,\r\n",
        "                      title='Confusion matrix')"
      ],
      "execution_count": null,
      "outputs": [
        {
          "output_type": "stream",
          "text": [
            "Normalized confusion matrix\n"
          ],
          "name": "stdout"
        },
        {
          "output_type": "display_data",
          "data": {
            "image/png": "[encoded data removed]",
            "text/plain": [
              "<Figure size 432x288 with 2 Axes>"
            ]
          },
          "metadata": {
            "tags": []
          }
        }
      ]
    },
    {
      "cell_type": "code",
      "metadata": {
        "colab": {
          "base_uri": "https://localhost:8080/"
        },
        "id": "rXAWp625Bi6P",
        "outputId": "0a7888ad-ce9c-40d3-f5d6-4c5dc042260b"
      },
      "source": [
        "X_train, X_test, y_train, y_test = train_test_split(X, y, test_size=0.20, random_state=50)\r\n",
        "y_train = y_train.ravel()#reshape((-1,))\r\n",
        "\r\n",
        "clf = RandomForestClassifier(n_estimators=250, max_depth=6, random_state=50)\r\n",
        "clf.fit(X_train, y_train)\r\n",
        "\r\n",
        "dummy_clf = DummyClassifier(strategy='stratified')\r\n",
        "dummy_clf.fit(X_train, y_train)\r\n",
        "\r\n",
        "dummy_scores = cross_val_score(dummy_clf, X_train, y_train, cv=10, scoring = make_scorer(f1_score))\r\n",
        "\r\n",
        "scores = cross_val_score(clf, X_train, y_train, cv=10, scoring = make_scorer(f1_score))\r\n",
        "\r\n",
        "\r\n",
        "print(\"MSE: %0.8f +/- %0.8f\" % (scores.mean(), scores.std()))\r\n",
        "print(\"Dummy MSE: %0.8f +/- %0.8f\" % (dummy_scores.mean(), dummy_scores.std()))\r\n",
        "\r\n",
        "# param_grid = {\r\n",
        "#     'n_estimators': [100,250,300],\r\n",
        "#     'max_features':['auto', 'sqrt', 'log2']\r\n",
        "# }\r\n",
        "# CV_rfc = GridSearchCV(estimator=clf, param_grid=param_grid, cv= 10)\r\n",
        "\r\n",
        "# CV_rfc.fit(X_train, y_train)\r\n",
        "# print(CV_rfc.best_params_)\r\n"
      ],
      "execution_count": null,
      "outputs": [
        {
          "output_type": "stream",
          "text": [
            "MSE: 0.29016593 +/- 0.01820527\n",
            "Dummy MSE: 0.11780205 +/- 0.01627522\n",
            "{'max_features': 'auto', 'n_estimators': 100}\n"
          ],
          "name": "stdout"
        }
      ]
    },
    {
      "cell_type": "code",
      "metadata": {
        "colab": {
          "base_uri": "https://localhost:8080/"
        },
        "id": "ypyUEGqCB3nf",
        "outputId": "ffb3c9d2-16e4-45f1-a108-eb92d6698c62"
      },
      "source": [
        "\r\n",
        "clf = RandomForestClassifier(n_estimators=250,max_features='auto', random_state=50)\r\n",
        "scores = cross_val_score(clf, X_train, y_train, cv=10, scoring = make_scorer(f1_score))\r\n",
        "print(scores.mean())\r\n",
        "\r\n",
        "clf.fit(X_train, y_train)\r\n"
      ],
      "execution_count": null,
      "outputs": [
        {
          "output_type": "stream",
          "text": [
            "0.37948858101527283\n"
          ],
          "name": "stdout"
        },
        {
          "output_type": "execute_result",
          "data": {
            "text/plain": [
              "RandomForestClassifier(bootstrap=True, ccp_alpha=0.0, class_weight=None,\n",
              "                       criterion='gini', max_depth=None, max_features='auto',\n",
              "                       max_leaf_nodes=None, max_samples=None,\n",
              "                       min_impurity_decrease=0.0, min_impurity_split=None,\n",
              "                       min_samples_leaf=1, min_samples_split=2,\n",
              "                       min_weight_fraction_leaf=0.0, n_estimators=250,\n",
              "                       n_jobs=None, oob_score=False, random_state=50, verbose=0,\n",
              "                       warm_start=False)"
            ]
          },
          "metadata": {
            "tags": []
          },
          "execution_count": 26
        }
      ]
    },
    {
      "cell_type": "code",
      "metadata": {
        "colab": {
          "base_uri": "https://localhost:8080/"
        },
        "id": "2dDcPF8LGOJj",
        "outputId": "dac7693f-4c37-4dd2-d08f-98f221b6a955"
      },
      "source": [
        "X_train, X_test, y_train, y_test = train_test_split(X, y, test_size=0.20, random_state=50)\r\n",
        "y_train = y_train.ravel()#reshape((-1,))\r\n",
        "\r\n",
        "clf = RandomForestClassifier(n_estimators=100, max_depth=8, random_state=50)\r\n",
        "clf.fit(X_train, y_train)\r\n",
        "\r\n",
        "dummy_clf = DummyClassifier(strategy='stratified')\r\n",
        "dummy_clf.fit(X_train, y_train)\r\n",
        "\r\n",
        "dummy_scores = cross_val_score(dummy_clf, X_train, y_train, cv=10, scoring = make_scorer(f1_score))\r\n",
        "\r\n",
        "scores = cross_val_score(clf, X_train, y_train, cv=10, scoring = make_scorer(f1_score))\r\n",
        "\r\n",
        "\r\n",
        "print(\"MSE: %0.8f +/- %0.8f\" % (scores.mean(), scores.std()))\r\n",
        "print(\"Dummy MSE: %0.8f +/- %0.8f\" % (dummy_scores.mean(), dummy_scores.std()))\r\n",
        "\r\n",
        "# param_grid = {\r\n",
        "#     'n_estimators': [100,200,300],\r\n",
        "#     'max_features':['auto', 'sqrt', 'log2']\r\n",
        "# }\r\n",
        "# CV_rfc = GridSearchCV(estimator=clf, param_grid=param_grid, cv= 10)\r\n",
        "\r\n",
        "# CV_rfc.fit(X_train, y_train)\r\n",
        "# print(CV_rfc.best_params_)"
      ],
      "execution_count": null,
      "outputs": [
        {
          "output_type": "stream",
          "text": [
            "MSE: 0.30374742 +/- 0.01824864\n",
            "Dummy MSE: 0.11645006 +/- 0.01962389\n"
          ],
          "name": "stdout"
        }
      ]
    },
    {
      "cell_type": "code",
      "metadata": {
        "colab": {
          "base_uri": "https://localhost:8080/"
        },
        "id": "qDY0eu0NGYah",
        "outputId": "64a7fc67-0f30-4993-d618-391ce550fe66"
      },
      "source": [
        "clf = RandomForestClassifier(n_estimators=200,max_features='auto', random_state=50)\r\n",
        "scores = cross_val_score(clf, X_train, y_train, cv=10, scoring = make_scorer(f1_score))\r\n",
        "print(scores.mean())\r\n",
        "\r\n",
        "clf.fit(X_train, y_train)"
      ],
      "execution_count": null,
      "outputs": [
        {
          "output_type": "stream",
          "text": [
            "0.3796825590028243\n"
          ],
          "name": "stdout"
        },
        {
          "output_type": "execute_result",
          "data": {
            "text/plain": [
              "RandomForestClassifier(bootstrap=True, ccp_alpha=0.0, class_weight=None,\n",
              "                       criterion='gini', max_depth=None, max_features='auto',\n",
              "                       max_leaf_nodes=None, max_samples=None,\n",
              "                       min_impurity_decrease=0.0, min_impurity_split=None,\n",
              "                       min_samples_leaf=1, min_samples_split=2,\n",
              "                       min_weight_fraction_leaf=0.0, n_estimators=200,\n",
              "                       n_jobs=None, oob_score=False, random_state=50, verbose=0,\n",
              "                       warm_start=False)"
            ]
          },
          "metadata": {
            "tags": []
          },
          "execution_count": 28
        }
      ]
    },
    {
      "cell_type": "code",
      "metadata": {
        "colab": {
          "base_uri": "https://localhost:8080/"
        },
        "id": "Ldv9Ix76Ia2d",
        "outputId": "5c6772f6-cd62-4d55-df95-ce56d60e8d00"
      },
      "source": [
        "X_train, X_test, y_train, y_test = train_test_split(X, y, test_size=0.20, random_state=50)\r\n",
        "y_train = y_train.ravel()#reshape((-1,))\r\n",
        "\r\n",
        "clf = RandomForestClassifier(n_estimators=150, max_depth=6, random_state=50)\r\n",
        "clf.fit(X_train, y_train)\r\n",
        "\r\n",
        "dummy_clf = DummyClassifier(strategy='stratified')\r\n",
        "dummy_clf.fit(X_train, y_train)\r\n",
        "\r\n",
        "dummy_scores = cross_val_score(dummy_clf, X_train, y_train, cv=10, scoring = make_scorer(f1_score))\r\n",
        "\r\n",
        "scores = cross_val_score(clf, X_train, y_train, cv=10, scoring = make_scorer(f1_score))\r\n",
        "\r\n",
        "\r\n",
        "print(\"MSE: %0.8f +/- %0.8f\" % (scores.mean(), scores.std()))\r\n",
        "print(\"Dummy MSE: %0.8f +/- %0.8f\" % (dummy_scores.mean(), dummy_scores.std()))\r\n",
        "\r\n",
        "# param_grid = {\r\n",
        "#     'n_estimators': [100,150,300],\r\n",
        "#     'max_features':['auto', 'sqrt', 'log2']\r\n",
        "# }\r\n",
        "# CV_rfc = GridSearchCV(estimator=clf, param_grid=param_grid, cv= 10)\r\n",
        "\r\n",
        "# CV_rfc.fit(X_train, y_train)\r\n",
        "# print(CV_rfc.best_params_)"
      ],
      "execution_count": null,
      "outputs": [
        {
          "output_type": "stream",
          "text": [
            "MSE: 0.29028312 +/- 0.01871217\n",
            "Dummy MSE: 0.10548086 +/- 0.01457239\n"
          ],
          "name": "stdout"
        }
      ]
    },
    {
      "cell_type": "code",
      "metadata": {
        "colab": {
          "base_uri": "https://localhost:8080/",
          "height": 1000
        },
        "id": "RixlYzCpCbjb",
        "outputId": "e9fe08f6-2e6c-4a4d-8c45-3bd35a621c7e"
      },
      "source": [
        "X_train, X_test, y_train, y_test = train_test_split(X, y, test_size=0.20, random_state=50)\r\n",
        "y_train = y_train.ravel()#reshape((-1,))\r\n",
        "\r\n",
        "clf = RandomForestClassifier(n_estimators=1000, max_depth=6, random_state=60)\r\n",
        "clf.fit(X_train, y_train)\r\n",
        "\r\n",
        "dummy_clf = DummyClassifier(strategy='stratified')\r\n",
        "dummy_clf.fit(X_train, y_train)\r\n",
        "\r\n",
        "dummy_scores = cross_val_score(dummy_clf, X_train, y_train, cv=10, scoring = make_scorer(f1_score))\r\n",
        "\r\n",
        "scores = cross_val_score(clf, X_train, y_train, cv=10, scoring = make_scorer(f1_score))\r\n",
        "\r\n",
        "\r\n",
        "print(\"MSE: %0.8f +/- %0.8f\" % (scores.mean(), scores.std()))\r\n",
        "print(\"Dummy MSE: %0.8f +/- %0.8f\" % (dummy_scores.mean(), dummy_scores.std()))\r\n",
        "\r\n",
        "param_grid = {\r\n",
        "    'n_estimators': [100, 300,1000],\r\n",
        "    'max_features':['auto', 'sqrt', 'log2']\r\n",
        "}\r\n",
        "CV_rfc = GridSearchCV(estimator=clf, param_grid=param_grid, cv= 10)\r\n",
        "\r\n",
        "CV_rfc.fit(X_train, y_train)\r\n",
        "print(CV_rfc.best_params_)\r\n",
        "clf = RandomForestClassifier(n_estimators=1000,max_features='auto', random_state=60)\r\n",
        "scores = cross_val_score(clf, X_train, y_train, cv=10, scoring = make_scorer(f1_score))\r\n",
        "print(scores.mean())\r\n",
        "\r\n",
        "clf.fit(X_train, y_train)\r\n",
        "\r\n",
        "importances = clf.feature_importances_\r\n",
        "std = np.std([tree.feature_importances_ for tree in clf.estimators_],\r\n",
        "             axis=0)\r\n",
        "indices = np.argsort(importances)[::-1]\r\n",
        "\r\n",
        "# Print the feature ranking\r\n",
        "print(\"Feature ranking:\")\r\n",
        "for f in range(X.shape[1]):\r\n",
        "    print(\"%d. %s (%f)\" % (f + 1, X_df.columns[indices[f]],  importances[indices[f]]))\r\n",
        "\r\n",
        "# Plot the feature importances of the forest\r\n",
        "fig = plt.figure()\r\n",
        "plt.title(\"Feature importances\")\r\n",
        "plt.bar(range(X.shape[1]), importances[indices],\r\n",
        "       color=\"r\", yerr=std[indices], align=\"center\")\r\n",
        "plt.xticks(range(X.shape[1]), np.array(X_df.columns)[indices])\r\n",
        "plt.xlim([-1, X.shape[1]])\r\n",
        "plt.ylim([0, None])\r\n",
        "\r\n",
        "fig.set_size_inches(15, 8)\r\n"
      ],
      "execution_count": null,
      "outputs": [
        {
          "output_type": "stream",
          "text": [
            "MSE: 0.28825128 +/- 0.01811964\n",
            "Dummy MSE: 0.10569361 +/- 0.01883752\n",
            "{'max_features': 'auto', 'n_estimators': 1000}\n",
            "0.3797400228639732\n",
            "Feature ranking:\n",
            "1. age (0.158679)\n",
            "2. euribor3m (0.115752)\n",
            "3. campaign (0.081796)\n",
            "4. nr.employed (0.049874)\n",
            "5. pdays (0.033879)\n",
            "6. cons.conf.idx (0.027604)\n",
            "7. poutcome_success (0.023781)\n",
            "8. cons.price.idx (0.023406)\n",
            "9. emp.var.rate (0.023126)\n",
            "10. housing_no (0.020972)\n",
            "11. housing_yes (0.020828)\n",
            "12. job_admin. (0.017587)\n",
            "13. marital_married (0.016835)\n",
            "14. education_university.degree (0.016737)\n",
            "15. education_high.school (0.016640)\n",
            "16. previous (0.015048)\n",
            "17. day_of_week_mon (0.015014)\n",
            "18. marital_single (0.015009)\n",
            "19. day_of_week_wed (0.014293)\n",
            "20. day_of_week_tue (0.014279)\n",
            "21. day_of_week_thu (0.014168)\n",
            "22. job_technician (0.014068)\n",
            "23. loan_no (0.013883)\n",
            "24. day_of_week_fri (0.013800)\n",
            "25. loan_yes (0.013373)\n",
            "26. education_professional.course (0.012192)\n",
            "27. job_blue-collar (0.011727)\n",
            "28. education_basic.9y (0.011601)\n",
            "29. marital_divorced (0.010570)\n",
            "30. job_management (0.009145)\n",
            "31. job_services (0.009057)\n",
            "32. poutcome_nonexistent (0.008685)\n",
            "33. poutcome_failure (0.008306)\n",
            "34. education_basic.4y (0.008271)\n",
            "35. contact_cellular (0.008042)\n",
            "36. contact_telephone (0.007786)\n",
            "37. default_no (0.007738)\n",
            "38. default_unknown (0.007602)\n",
            "39. education_basic.6y (0.007077)\n",
            "40. education_unknown (0.006813)\n",
            "41. job_retired (0.006776)\n",
            "42. job_self-employed (0.006274)\n",
            "43. job_entrepreneur (0.005856)\n",
            "44. month_oct (0.005644)\n",
            "45. job_student (0.005548)\n",
            "46. job_unemployed (0.005144)\n",
            "47. month_mar (0.004957)\n",
            "48. month_may (0.004493)\n",
            "49. job_housemaid (0.004340)\n",
            "50. month_apr (0.003508)\n",
            "51. month_jun (0.003175)\n",
            "52. month_jul (0.002713)\n",
            "53. month_aug (0.002616)\n",
            "54. housing_unknown (0.002602)\n",
            "55. loan_unknown (0.002588)\n",
            "56. month_sep (0.002414)\n",
            "57. month_nov (0.002321)\n",
            "58. job_unknown (0.002161)\n",
            "59. month_dec (0.000963)\n",
            "60. marital_unknown (0.000620)\n",
            "61. education_illiterate (0.000242)\n",
            "62. default_yes (0.000002)\n",
            "[0 0 0 ... 0 0 0]\n",
            "[1 0 0 ... 0 0 1]\n"
          ],
          "name": "stdout"
        },
        {
          "output_type": "error",
          "ename": "ValueError",
          "evalue": "ignored",
          "traceback": [
            "\u001b[0;31m---------------------------------------------------------------------------\u001b[0m",
            "\u001b[0;31mValueError\u001b[0m                                Traceback (most recent call last)",
            "\u001b[0;32m<ipython-input-18-34159aeeea89>\u001b[0m in \u001b[0;36m<module>\u001b[0;34m()\u001b[0m\n\u001b[1;32m     54\u001b[0m \u001b[0mprint\u001b[0m\u001b[0;34m(\u001b[0m\u001b[0my_predict\u001b[0m\u001b[0;34m)\u001b[0m\u001b[0;34m\u001b[0m\u001b[0;34m\u001b[0m\u001b[0m\n\u001b[1;32m     55\u001b[0m \u001b[0mprint\u001b[0m\u001b[0;34m(\u001b[0m\u001b[0my_train\u001b[0m\u001b[0;34m)\u001b[0m\u001b[0;34m\u001b[0m\u001b[0;34m\u001b[0m\u001b[0m\n\u001b[0;32m---> 56\u001b[0;31m \u001b[0mprint\u001b[0m\u001b[0;34m(\u001b[0m\u001b[0my_predict\u001b[0m\u001b[0;34m-\u001b[0m\u001b[0my_train\u001b[0m\u001b[0;34m)\u001b[0m\u001b[0;34m\u001b[0m\u001b[0;34m\u001b[0m\u001b[0m\n\u001b[0m\u001b[1;32m     57\u001b[0m def plot_confusion_matrix(conf_mat, classes,\n\u001b[1;32m     58\u001b[0m                           \u001b[0mnormalize\u001b[0m\u001b[0;34m=\u001b[0m\u001b[0;32mFalse\u001b[0m\u001b[0;34m,\u001b[0m\u001b[0;34m\u001b[0m\u001b[0;34m\u001b[0m\u001b[0m\n",
            "\u001b[0;31mValueError\u001b[0m: operands could not be broadcast together with shapes (8238,) (32950,) "
          ]
        },
        {
          "output_type": "display_data",
          "data": {
            "image/png": "[encoded data removed]",
            "text/plain": [
              "<Figure size 1080x576 with 1 Axes>"
            ]
          },
          "metadata": {
            "tags": [],
            "needs_background": "light"
          }
        }
      ]
    },
    {
      "cell_type": "code",
      "metadata": {
        "colab": {
          "base_uri": "https://localhost:8080/",
          "height": 362
        },
        "id": "9FC4-FbFkrpF",
        "outputId": "1f236c5b-16da-4bff-8ff3-dcaf098daa7b"
      },
      "source": [
        "\r\n",
        "y_predict = CV_rfc.best_estimator_.predict(X_test)\r\n",
        "print(y_predict)\r\n",
        "print(y_train)\r\n",
        "def plot_confusion_matrix(conf_mat, classes,\r\n",
        "                          normalize=False,\r\n",
        "                          title='Confusion matrix',\r\n",
        "                          cmap=plt.cm.Blues):\r\n",
        "    \"\"\"\r\n",
        "    This function prints and plots the confusion matrix.\r\n",
        "    Normalization can be applied by setting `normalize=True`.\r\n",
        "    conf_mat: confusion matrix\r\n",
        "    classes: names of classes to be annotated\r\n",
        "    normalize: [True/False] whether to normalise by column\r\n",
        "    \"\"\"\r\n",
        "    if normalize:\r\n",
        "        conf_mat = conf_mat.astype('float') / conf_mat.sum(axis=1)[:, np.newaxis]\r\n",
        "        print(\"Normalized confusion matrix\")\r\n",
        "    else:\r\n",
        "        print('Confusion matrix, without normalization')\r\n",
        "    plt.imshow(conf_mat, interpolation='nearest', cmap=cmap)\r\n",
        "    plt.title(title)\r\n",
        "    plt.colorbar()\r\n",
        "    tick_marks = np.arange(len(classes))\r\n",
        "    plt.xticks(tick_marks, classes, rotation=45)\r\n",
        "    plt.yticks(tick_marks, classes)\r\n",
        "    for i, j in itertools.product(range(conf_mat.shape[0]), range(conf_mat.shape[1])):\r\n",
        "        t = \"(%.2f)\" % (conf_mat[i, j])\r\n",
        "    plt.tight_layout()\r\n",
        "    plt.ylabel('True label')\r\n",
        "    plt.xlabel('Predicted label')\r\n",
        "\r\n",
        "cnf_matrix = confusion_matrix(y_test, y_predict)\r\n",
        "np.set_printoptions(precision=2)\r\n",
        "\r\n",
        "# Plot non-normalized confusion matrix\r\n",
        "plt.figure()\r\n",
        "y_test = y_test[:,0]\r\n",
        "plot_confusion_matrix(cnf_matrix, classes=range(len(set(y_test))), normalize=True,\r\n",
        "                      title='Confusion matrix')"
      ],
      "execution_count": null,
      "outputs": [
        {
          "output_type": "stream",
          "text": [
            "[0 0 0 ... 0 0 0]\n",
            "[1 0 0 ... 0 0 1]\n",
            "Normalized confusion matrix\n"
          ],
          "name": "stdout"
        },
        {
          "output_type": "display_data",
          "data": {
            "image/png": "[encoded data removed]",
            "text/plain": [
              "<Figure size 432x288 with 2 Axes>"
            ]
          },
          "metadata": {
            "tags": [],
            "needs_background": "light"
          }
        }
      ]
    },
    {
      "cell_type": "code",
      "metadata": {
        "id": "snsBh14ELAgS",
        "colab": {
          "base_uri": "https://localhost:8080/",
          "height": 1000
        },
        "outputId": "64b95f8f-7c4f-4b51-bf9f-4bf09ad23d45"
      },
      "source": [
        "X_train, X_test, y_train, y_test = train_test_split(X, y, test_size=0.20, random_state=50)\r\n",
        "y_train = y_train.ravel()#reshape((-1,))\r\n",
        "\r\n",
        "clf = RandomForestClassifier(n_estimators=750, max_depth=6, random_state=60)\r\n",
        "clf.fit(X_train, y_train)\r\n",
        "\r\n",
        "dummy_clf = DummyClassifier(strategy='stratified')\r\n",
        "dummy_clf.fit(X_train, y_train)\r\n",
        "\r\n",
        "dummy_scores = cross_val_score(dummy_clf, X_train, y_train, cv=10, scoring = make_scorer(f1_score))\r\n",
        "\r\n",
        "scores = cross_val_score(clf, X_train, y_train, cv=10, scoring = make_scorer(f1_score))\r\n",
        "\r\n",
        "\r\n",
        "print(\"MSE: %0.8f +/- %0.8f\" % (scores.mean(), scores.std()))\r\n",
        "print(\"Dummy MSE: %0.8f +/- %0.8f\" % (dummy_scores.mean(), dummy_scores.std()))\r\n",
        "\r\n",
        "param_grid = {\r\n",
        "    'n_estimators': [100, 300, 750],\r\n",
        "    'max_features':['auto', 'sqrt', 'log2']\r\n",
        "}\r\n",
        "CV_rfc = GridSearchCV(estimator=clf, param_grid=param_grid, cv= 10)\r\n",
        "\r\n",
        "CV_rfc.fit(X_train, y_train)\r\n",
        "print(CV_rfc.best_params_)\r\n",
        "clf = RandomForestClassifier(n_estimators=750,max_features='auto', random_state=60)\r\n",
        "scores = cross_val_score(clf, X_train, y_train, cv=10, scoring = make_scorer(f1_score))\r\n",
        "print(scores.mean())\r\n",
        "\r\n",
        "clf.fit(X_train, y_train)\r\n",
        "\r\n",
        "importances = clf.feature_importances_\r\n",
        "std = np.std([tree.feature_importances_ for tree in clf.estimators_],\r\n",
        "             axis=0)\r\n",
        "indices = np.argsort(importances)[::-1]\r\n",
        "\r\n",
        "# Print the feature ranking\r\n",
        "print(\"Feature ranking:\")\r\n",
        "for f in range(X.shape[1]):\r\n",
        "    print(\"%d. %s (%f)\" % (f + 1, X_df.columns[indices[f]],  importances[indices[f]]))\r\n",
        "\r\n",
        "# Plot the feature importances of the forest\r\n",
        "fig = plt.figure()\r\n",
        "plt.title(\"Feature importances\")\r\n",
        "plt.bar(range(X.shape[1]), importances[indices],\r\n",
        "       color=\"r\", yerr=std[indices], align=\"center\")\r\n",
        "plt.xticks(range(X.shape[1]), np.array(X_df.columns)[indices])\r\n",
        "plt.xlim([-1, X.shape[1]])\r\n",
        "plt.ylim([0, None])\r\n",
        "\r\n",
        "fig.set_size_inches(15, 8)\r\n",
        "\r\n",
        "y_predict = CV_rfc.best_estimator_.predict(X_test)\r\n",
        "\r\n",
        "def plot_confusion_matrix(conf_mat, classes,\r\n",
        "                          normalize=False,\r\n",
        "                          title='Confusion matrix',\r\n",
        "                          cmap=plt.cm.Blues):\r\n",
        "    \"\"\"\r\n",
        "    This function prints and plots the confusion matrix.\r\n",
        "    Normalization can be applied by setting `normalize=True`.\r\n",
        "    conf_mat: confusion matrix\r\n",
        "    classes: names of classes to be annotated\r\n",
        "    normalize: [True/False] whether to normalise by column\r\n",
        "    \"\"\"\r\n",
        "    if normalize:\r\n",
        "        conf_mat = conf_mat.astype('float') / conf_mat.sum(axis=1)[:, np.newaxis]\r\n",
        "        print(\"Normalized confusion matrix\")\r\n",
        "    else:\r\n",
        "        print('Confusion matrix, without normalization')\r\n",
        "    plt.imshow(conf_mat, interpolation='nearest', cmap=cmap)\r\n",
        "    plt.title(title)\r\n",
        "    plt.colorbar()\r\n",
        "    tick_marks = np.arange(len(classes))\r\n",
        "    plt.xticks(tick_marks, classes, rotation=45)\r\n",
        "    plt.yticks(tick_marks, classes)\r\n",
        "    for i, j in itertools.product(range(conf_mat.shape[0]), range(conf_mat.shape[1])):\r\n",
        "        t = \"(%.2f)\" % (conf_mat[i, j])\r\n",
        "    plt.tight_layout()\r\n",
        "    plt.ylabel('True label')\r\n",
        "    plt.xlabel('Predicted label')\r\n",
        "\r\n",
        "cnf_matrix = confusion_matrix(y_test, y_predict)\r\n",
        "np.set_printoptions(precision=2)\r\n",
        "\r\n",
        "# Plot non-normalized confusion matrix\r\n",
        "plt.figure()\r\n",
        "y_test = y_test[:,0]\r\n",
        "plot_confusion_matrix(cnf_matrix, classes=range(len(set(y_test))), normalize=True,\r\n",
        "                      title='Confusion matrix')"
      ],
      "execution_count": null,
      "outputs": [
        {
          "output_type": "stream",
          "text": [
            "MSE: 0.28792315 +/- 0.01818844\n",
            "Dummy MSE: 0.10449671 +/- 0.01469777\n",
            "{'max_features': 'auto', 'n_estimators': 750}\n",
            "0.37932546697410496\n",
            "Feature ranking:\n",
            "1. age (0.158731)\n",
            "2. euribor3m (0.115025)\n",
            "3. campaign (0.081641)\n",
            "4. nr.employed (0.049768)\n",
            "5. pdays (0.033137)\n",
            "6. cons.conf.idx (0.027449)\n",
            "7. poutcome_success (0.023978)\n",
            "8. emp.var.rate (0.023905)\n",
            "9. cons.price.idx (0.023660)\n",
            "10. housing_no (0.020982)\n",
            "11. housing_yes (0.020734)\n",
            "12. job_admin. (0.017553)\n",
            "13. marital_married (0.016819)\n",
            "14. education_university.degree (0.016734)\n",
            "15. education_high.school (0.016694)\n",
            "16. previous (0.015137)\n",
            "17. day_of_week_mon (0.015031)\n",
            "18. marital_single (0.015008)\n",
            "19. day_of_week_tue (0.014411)\n",
            "20. day_of_week_wed (0.014349)\n",
            "21. day_of_week_thu (0.014235)\n",
            "22. job_technician (0.014060)\n",
            "23. loan_no (0.013965)\n",
            "24. day_of_week_fri (0.013821)\n",
            "25. loan_yes (0.013438)\n",
            "26. education_professional.course (0.012127)\n",
            "27. job_blue-collar (0.011775)\n",
            "28. education_basic.9y (0.011663)\n",
            "29. marital_divorced (0.010540)\n",
            "30. job_management (0.009115)\n",
            "31. job_services (0.009067)\n",
            "32. poutcome_nonexistent (0.008706)\n",
            "33. poutcome_failure (0.008313)\n",
            "34. education_basic.4y (0.008247)\n",
            "35. contact_cellular (0.008031)\n",
            "36. contact_telephone (0.007773)\n",
            "37. default_no (0.007763)\n",
            "38. default_unknown (0.007664)\n",
            "39. education_basic.6y (0.007052)\n",
            "40. education_unknown (0.006827)\n",
            "41. job_retired (0.006794)\n",
            "42. job_self-employed (0.006233)\n",
            "43. job_entrepreneur (0.005861)\n",
            "44. month_oct (0.005726)\n",
            "45. job_student (0.005539)\n",
            "46. job_unemployed (0.005129)\n",
            "47. month_mar (0.004870)\n",
            "48. month_may (0.004747)\n",
            "49. job_housemaid (0.004343)\n",
            "50. month_apr (0.003519)\n",
            "51. month_jun (0.003097)\n",
            "52. month_jul (0.002723)\n",
            "53. month_aug (0.002640)\n",
            "54. loan_unknown (0.002588)\n",
            "55. housing_unknown (0.002559)\n",
            "56. month_sep (0.002478)\n",
            "57. month_nov (0.002314)\n",
            "58. job_unknown (0.002126)\n",
            "59. month_dec (0.000917)\n",
            "60. marital_unknown (0.000625)\n",
            "61. education_illiterate (0.000243)\n",
            "62. default_yes (0.000002)\n",
            "Normalized confusion matrix\n"
          ],
          "name": "stdout"
        },
        {
          "output_type": "display_data",
          "data": {
            "image/png": "[encoded data removed]",
            "text/plain": [
              "<Figure size 1080x576 with 1 Axes>"
            ]
          },
          "metadata": {
            "tags": [],
            "needs_background": "light"
          }
        },
        {
          "output_type": "display_data",
          "data": {
            "image/png": "[encoded data removed]",
            "text/plain": [
              "<Figure size 432x288 with 2 Axes>"
            ]
          },
          "metadata": {
            "tags": [],
            "needs_background": "light"
          }
        }
      ]
    }
  ]
}
{
  "nbformat": 4,
  "nbformat_minor": 0,
  "metadata": {
    "colab": {
      "name": "my_recommender.ipynb",
      "provenance": [],
      "authorship_tag": "ABX9TyMgtRuPYvXosAwuerFuRgaH",
      "include_colab_link": true
    },
    "kernelspec": {
      "name": "python3",
      "display_name": "Python 3"
    },
    "accelerator": "GPU"
  },
  "cells": [
    {
      "cell_type": "markdown",
      "metadata": {
        "id": "view-in-github",
        "colab_type": "text"
      },
      "source": [
        "<a href=\"https://colab.research.google.com/github/monali0802/CE888/blob/main/Lab_4/my_recommender.ipynb\" target=\"_parent\"><img src=\"https://colab.research.google.com/assets/colab-badge.svg\" alt=\"Open In Colab\"/></a>"
      ]
    },
    {
      "cell_type": "code",
      "metadata": {
        "id": "Kz4rDOa_m-AR"
      },
      "source": [
        "import pandas as pd\n",
        "import numpy as np\n",
        "import matplotlib.pyplot as plt"
      ],
      "execution_count": 2,
      "outputs": []
    },
    {
      "cell_type": "code",
      "metadata": {
        "colab": {
          "base_uri": "https://localhost:8080/"
        },
        "id": "7uqBB3xrnT09",
        "outputId": "90457105-3806-4643-ac31-9db36ab966da"
      },
      "source": [
        "data = pd.read_csv(\"https://raw.githubusercontent.com/albanda/CE888/master/lab4-recommender/jester-data-1.csv\", header=None)\n",
        "print(data)"
      ],
      "execution_count": 29,
      "outputs": [
        {
          "output_type": "stream",
          "text": [
            "       0      1      2      3      4    ...    96     97     98     99     100\n",
            "0       74  -7.82   8.79  -9.66  -8.16  ...  99.00  -5.63  99.00  99.00  99.00\n",
            "1      100   4.08  -0.29   6.36   4.37  ...  -2.14   3.06   0.34  -4.32   1.07\n",
            "2       49  99.00  99.00  99.00  99.00  ...  99.00  99.00  99.00  99.00  99.00\n",
            "3       48  99.00   8.35  99.00  99.00  ...  99.00  99.00  99.00  99.00  99.00\n",
            "4       91   8.50   4.61  -4.17  -5.39  ...   1.55   3.11   6.55   1.80   1.60\n",
            "...    ...    ...    ...    ...    ...  ...    ...    ...    ...    ...    ...\n",
            "24978  100   0.44   7.43   9.08   2.33  ...   9.03   6.55   8.69   8.79   7.43\n",
            "24979   91   9.13  -8.16   8.59   9.08  ...  -8.20  -7.23  -8.59   9.13   8.45\n",
            "24980   39  99.00  99.00  99.00  99.00  ...  99.00  99.00  99.00  99.00  99.00\n",
            "24981   37  99.00  99.00  99.00  99.00  ...  99.00  99.00  99.00  99.00  99.00\n",
            "24982   72   2.43   2.67  -3.98   4.27  ...  99.00  99.00  99.00  99.00  99.00\n",
            "\n",
            "[24983 rows x 101 columns]\n"
          ],
          "name": "stdout"
        }
      ]
    },
    {
      "cell_type": "code",
      "metadata": {
        "colab": {
          "base_uri": "https://localhost:8080/"
        },
        "id": "COYrzsL1ozXZ",
        "outputId": "7c0997d3-b31c-408c-db73-73618bf470ba"
      },
      "source": [
        "arr = data\n",
        "print(arr.shape)"
      ],
      "execution_count": 30,
      "outputs": [
        {
          "output_type": "stream",
          "text": [
            "(24983, 101)\n"
          ],
          "name": "stdout"
        }
      ]
    },
    {
      "cell_type": "code",
      "metadata": {
        "colab": {
          "base_uri": "https://localhost:8080/"
        },
        "id": "086IOoi_tayC",
        "outputId": "c4cac5f9-692d-4fac-8f5f-85500abca1a3"
      },
      "source": [
        "arr.replace(99.00, np.nan, inplace=True)\n",
        "print(arr)\n",
        "\n"
      ],
      "execution_count": 31,
      "outputs": [
        {
          "output_type": "stream",
          "text": [
            "         0     1     2     3     4     5    ...   95    96    97    98    99    100\n",
            "0       74.0 -7.82  8.79 -9.66 -8.16 -7.52  ...   NaN   NaN -5.63   NaN   NaN   NaN\n",
            "1      100.0  4.08 -0.29  6.36  4.37 -2.38  ... -0.19 -2.14  3.06  0.34 -4.32  1.07\n",
            "2       49.0   NaN   NaN   NaN   NaN  9.03  ...   NaN   NaN   NaN   NaN   NaN   NaN\n",
            "3       48.0   NaN  8.35   NaN   NaN  1.80  ...   NaN   NaN   NaN   NaN   NaN   NaN\n",
            "4       91.0  8.50  4.61 -4.17 -5.39  1.36  ...  5.73  1.55  3.11  6.55  1.80  1.60\n",
            "...      ...   ...   ...   ...   ...   ...  ...   ...   ...   ...   ...   ...   ...\n",
            "24978  100.0  0.44  7.43  9.08  2.33  3.20  ...  8.45  9.03  6.55  8.69  8.79  7.43\n",
            "24979   91.0  9.13 -8.16  8.59  9.08  0.87  ...  9.22 -8.20 -7.23 -8.59  9.13  8.45\n",
            "24980   39.0   NaN   NaN   NaN   NaN -7.77  ...   NaN   NaN   NaN   NaN   NaN   NaN\n",
            "24981   37.0   NaN   NaN   NaN   NaN -9.71  ...   NaN   NaN   NaN   NaN   NaN   NaN\n",
            "24982   72.0  2.43  2.67 -3.98  4.27 -2.28  ...   NaN   NaN   NaN   NaN   NaN   NaN\n",
            "\n",
            "[24983 rows x 101 columns]\n"
          ],
          "name": "stdout"
        }
      ]
    },
    {
      "cell_type": "code",
      "metadata": {
        "colab": {
          "base_uri": "https://localhost:8080/"
        },
        "id": "mao6l-FRyNg3",
        "outputId": "b87967a6-8ba8-44de-c5e0-5d4d71c2c216"
      },
      "source": [
        "arr_new = arr.drop(columns=[0], axis=1)\n",
        "print(arr_new)"
      ],
      "execution_count": 32,
      "outputs": [
        {
          "output_type": "stream",
          "text": [
            "        1     2     3     4     5     6    ...   95    96    97    98    99    100\n",
            "0     -7.82  8.79 -9.66 -8.16 -7.52 -8.50  ...   NaN   NaN -5.63   NaN   NaN   NaN\n",
            "1      4.08 -0.29  6.36  4.37 -2.38 -9.66  ... -0.19 -2.14  3.06  0.34 -4.32  1.07\n",
            "2       NaN   NaN   NaN   NaN  9.03  9.27  ...   NaN   NaN   NaN   NaN   NaN   NaN\n",
            "3       NaN  8.35   NaN   NaN  1.80  8.16  ...   NaN   NaN   NaN   NaN   NaN   NaN\n",
            "4      8.50  4.61 -4.17 -5.39  1.36  1.60  ...  5.73  1.55  3.11  6.55  1.80  1.60\n",
            "...     ...   ...   ...   ...   ...   ...  ...   ...   ...   ...   ...   ...   ...\n",
            "24978  0.44  7.43  9.08  2.33  3.20  6.75  ...  8.45  9.03  6.55  8.69  8.79  7.43\n",
            "24979  9.13 -8.16  8.59  9.08  0.87 -8.93  ...  9.22 -8.20 -7.23 -8.59  9.13  8.45\n",
            "24980   NaN   NaN   NaN   NaN -7.77   NaN  ...   NaN   NaN   NaN   NaN   NaN   NaN\n",
            "24981   NaN   NaN   NaN   NaN -9.71   NaN  ...   NaN   NaN   NaN   NaN   NaN   NaN\n",
            "24982  2.43  2.67 -3.98  4.27 -2.28  7.33  ...   NaN   NaN   NaN   NaN   NaN   NaN\n",
            "\n",
            "[24983 rows x 100 columns]\n"
          ],
          "name": "stdout"
        }
      ]
    },
    {
      "cell_type": "code",
      "metadata": {
        "id": "8EzMQoGA3oSM",
        "colab": {
          "base_uri": "https://localhost:8080/"
        },
        "outputId": "2ee6e1a2-5130-47f1-9819-3951474dca44"
      },
      "source": [
        "# ranking = new_arr.rank(axis=1, method='average')\n",
        "# print(ranking)\n",
        "mean_result = arr_new.mean(axis=0)\n",
        "\n",
        "print(mean_result)"
      ],
      "execution_count": 33,
      "outputs": [
        {
          "output_type": "stream",
          "text": [
            "1      0.904573\n",
            "2      0.208460\n",
            "3      0.316574\n",
            "4     -1.449114\n",
            "5      0.403556\n",
            "         ...   \n",
            "96     1.528003\n",
            "97     1.673750\n",
            "98     0.767692\n",
            "99    -0.031244\n",
            "100    1.354711\n",
            "Length: 100, dtype: float64\n"
          ],
          "name": "stdout"
        }
      ]
    },
    {
      "cell_type": "code",
      "metadata": {
        "colab": {
          "base_uri": "https://localhost:8080/"
        },
        "id": "D0WmCnB5BcqR",
        "outputId": "25d296a3-d663-4698-a32b-b23a43765fb8"
      },
      "source": [
        "print(mean_result.min() )\n",
        "print(\"Worst rated joke: \",mean_result.idxmin() )\n",
        "print(mean_result.max() )\n",
        "print(\"Best rated joke: \",mean_result.idxmax() )\n"
      ],
      "execution_count": 34,
      "outputs": [
        {
          "output_type": "stream",
          "text": [
            "-3.8338796373689923\n",
            "Worst rated joke:  58\n",
            "3.6650848950824937\n",
            "Best rated joke:  50\n"
          ],
          "name": "stdout"
        }
      ]
    },
    {
      "cell_type": "code",
      "metadata": {
        "colab": {
          "base_uri": "https://localhost:8080/"
        },
        "id": "F4nLyUJCo4R2",
        "outputId": "f92439fd-15db-437b-b0ce-b7ade9288614"
      },
      "source": [
        "rated = np.where(arr_new!=99)\n",
        "print(len(rated[0]), rated[1].shape)"
      ],
      "execution_count": 35,
      "outputs": [
        {
          "output_type": "stream",
          "text": [
            "2498300 (2498300,)\n"
          ],
          "name": "stdout"
        }
      ]
    },
    {
      "cell_type": "code",
      "metadata": {
        "id": "Q7qan3_tv1vW"
      },
      "source": [
        "def replace_new(orig, percentage=0.1):\n",
        "  \"\"\"\n",
        "  Replaces 'percentage'% of the original values in 'orig' with 99's\n",
        "  :param orig: original data array\n",
        "  :param percentage: percentage of values to replace (0<percentage<1)\n",
        "  \"\"\"\n",
        "  new_data = orig.copy()\n",
        "  rated = np.where(~np.isnan(orig))\n",
        "  n_rated = len(rated[0])\n",
        "  idx = np.random.choice(n_rated, size=int(percentage*n_rated), replace=False)\n",
        "  new_data[rated[0][idx], rated[1][idx]] = 99\n",
        "  return new_data, (rated[0][idx], rated[1][idx])\n"
      ],
      "execution_count": 36,
      "outputs": []
    },
    {
      "cell_type": "code",
      "metadata": {
        "id": "RgVGsk34pBvt",
        "colab": {
          "base_uri": "https://localhost:8080/"
        },
        "outputId": "727f21c9-4aee-4133-f0b3-8d58ce754e35"
      },
      "source": [
        "\n",
        "new_arr, idx = replace_new(arr_new.values, 0.1)\n",
        "\n",
        "print(new_arr)\n",
        "print(idx)\n",
        "arr_new.values[idx[0][0], idx[1][0]]\n",
        "\n",
        "new_arr[idx[0][0], idx[1][0]]"
      ],
      "execution_count": 37,
      "outputs": [
        {
          "output_type": "stream",
          "text": [
            "[[99.    8.79 -9.66 ...   nan   nan   nan]\n",
            " [ 4.08 -0.29  6.36 ...  0.34 -4.32  1.07]\n",
            " [  nan   nan   nan ...   nan   nan   nan]\n",
            " ...\n",
            " [  nan   nan   nan ...   nan   nan   nan]\n",
            " [  nan   nan   nan ...   nan   nan   nan]\n",
            " [ 2.43  2.67 -3.98 ...   nan   nan   nan]]\n",
            "(array([22402, 20398, 15957, ..., 19123,  5266, 17938]), array([54,  5, 62, ..., 16, 48, 17]))\n"
          ],
          "name": "stdout"
        },
        {
          "output_type": "execute_result",
          "data": {
            "text/plain": [
              "99.0"
            ]
          },
          "metadata": {
            "tags": []
          },
          "execution_count": 37
        }
      ]
    },
    {
      "cell_type": "code",
      "metadata": {
        "id": "oCf0OFY_E0Yo"
      },
      "source": [
        "n_latent_factors = 2\n",
        "\n",
        "user_ratings = new_arr\n",
        "# Initialise as random values\n",
        "latent_user_preferences = np.random.random((user_ratings.shape[0], n_latent_factors))\n",
        "latent_item_features = np.random.random((user_ratings.shape[1], n_latent_factors))"
      ],
      "execution_count": 38,
      "outputs": []
    },
    {
      "cell_type": "code",
      "metadata": {
        "id": "BPLtMx54EqeE"
      },
      "source": [
        "latent_user_preferences"
      ],
      "execution_count": null,
      "outputs": []
    },
    {
      "cell_type": "code",
      "metadata": {
        "id": "MEtd2YEUErg4"
      },
      "source": [
        "latent_item_features"
      ],
      "execution_count": null,
      "outputs": []
    },
    {
      "cell_type": "code",
      "metadata": {
        "id": "gZFPb0R2E4Zv"
      },
      "source": [
        "def predict_rating(user_id, item_id):\n",
        "    \"\"\" Predict a rating given a user_id and an item_id.\n",
        "    \"\"\"\n",
        "    user_preference = latent_user_preferences[user_id]\n",
        "    item_preference = latent_item_features[item_id]\n",
        "    return user_preference.dot(item_preference)\n",
        "\n",
        "\n",
        "def train(user_id, item_id, rating, alpha=0.0001):\n",
        "    #print(item_id)\n",
        "    predicted_rating = predict_rating(user_id, item_id)\n",
        "    err =  predicted_rating - rating\n",
        "    #print(err)\n",
        "    user_pref_values = latent_user_preferences[user_id]\n",
        "    latent_user_preferences[user_id] -= alpha * err * latent_item_features[item_id]\n",
        "    latent_item_features[item_id] -= alpha * err * user_pref_values\n",
        "    return err\n",
        "    \n",
        "\n",
        "def sgd(iterations):\n",
        "    \"\"\" Iterate over all users and all items and train for \n",
        "        a certain number of iterations\n",
        "    \"\"\"\n",
        "    mse_history = []\n",
        "    for iteration in range(iterations):\n",
        "        error = []\n",
        "        for user_id in range(latent_user_preferences.shape[0]):\n",
        "            for item_id in range(latent_item_features.shape[0]):\n",
        "                rating = user_ratings[user_id, item_id]\n",
        "                if not np.isnan(rating) and rating != 99.00:\n",
        "                    err = train(user_id, item_id, rating)\n",
        "                    error.append(err)\n",
        "        mse = (np.array(error) ** 2).mean()   \n",
        "        if (iteration % 10000) == 0:\n",
        "            print('Iteration %d/%d:\\tMSE=%.6f' % (iteration, iterations, mse))\n",
        "            mse_history.append(mse)\n",
        "    return mse_history"
      ],
      "execution_count": 39,
      "outputs": []
    },
    {
      "cell_type": "code",
      "metadata": {
        "id": "yXvDj0aNMxZR",
        "outputId": "2d15d468-08da-464e-93b8-8aae87d0174d",
        "colab": {
          "base_uri": "https://localhost:8080/"
        }
      },
      "source": [
        "predict_rating(9232,8)"
      ],
      "execution_count": 40,
      "outputs": [
        {
          "output_type": "execute_result",
          "data": {
            "text/plain": [
              "0.12245883794692228"
            ]
          },
          "metadata": {
            "tags": []
          },
          "execution_count": 40
        }
      ]
    },
    {
      "cell_type": "code",
      "metadata": {
        "colab": {
          "base_uri": "https://localhost:8080/",
          "height": 449
        },
        "id": "FTbjV96nE6Ss",
        "outputId": "b44c5c80-04d6-40d1-9a7a-85506eb6e066"
      },
      "source": [
        "num_iter = 10\n",
        "hist = []\n",
        "for _ in range(num_iter):\n",
        "  hist.append(sgd(1))  # Note how the MSE decreases with the number of iterations\n",
        "plt.figure()\n",
        "plt.plot(np.arange(0 , num_iter, 1), hist)\n",
        "plt.xlabel(\"Iterations\")\n",
        "plt.ylabel(\"MSE\")\n",
        "plt.show()"
      ],
      "execution_count": null,
      "outputs": [
        {
          "output_type": "stream",
          "text": [
            "Iteration 0/1:\tMSE=26.260116\n",
            "Iteration 0/1:\tMSE=25.291864\n",
            "Iteration 0/1:\tMSE=25.001924\n",
            "Iteration 0/1:\tMSE=24.784732\n",
            "Iteration 0/1:\tMSE=24.574947\n",
            "Iteration 0/1:\tMSE=24.363621\n",
            "Iteration 0/1:\tMSE=24.149815\n",
            "Iteration 0/1:\tMSE=23.934249\n",
            "Iteration 0/1:\tMSE=23.718107\n",
            "Iteration 0/1:\tMSE=23.502703\n"
          ],
          "name": "stdout"
        },
        {
          "output_type": "display_data",
          "data": {
            "image/png": "[encoded data removed]",
            "text/plain": [
              "<Figure size 432x288 with 1 Axes>"
            ]
          },
          "metadata": {
            "tags": [],
            "needs_background": "light"
          }
        }
      ]
    },
    {
      "cell_type": "code",
      "metadata": {
        "colab": {
          "base_uri": "https://localhost:8080/"
        },
        "id": "Pb4VHKYBFoEU",
        "outputId": "ad128c7c-53a0-403a-dd9a-f4a3c648e259"
      },
      "source": [
        "predictions = latent_user_preferences.dot(latent_item_features.T)\n",
        "predictions"
      ],
      "execution_count": null,
      "outputs": [
        {
          "output_type": "execute_result",
          "data": {
            "text/plain": [
              "array([[1.28666851, 0.77719771, 0.76654728, ..., 1.43300938, 0.56813729,\n",
              "        1.91319256],\n",
              "       [0.47086483, 0.27183874, 0.28823143, ..., 0.56356279, 0.19684584,\n",
              "        0.76438459],\n",
              "       [1.91068511, 1.15824549, 1.13578957, ..., 2.11518924, 0.8472981 ,\n",
              "        2.82004194],\n",
              "       ...,\n",
              "       [0.90459729, 0.54300554, 0.54101096, ..., 1.01808027, 0.39643472,\n",
              "        1.36246913],\n",
              "       [1.41948826, 0.85416744, 0.84767252, ..., 1.59107324, 0.62391835,\n",
              "        2.12732405],\n",
              "       [1.79090676, 1.05159811, 1.08544237, ..., 2.08848801, 0.7642399 ,\n",
              "        2.81704693]])"
            ]
          },
          "metadata": {
            "tags": []
          },
          "execution_count": 27
        }
      ]
    },
    {
      "cell_type": "code",
      "metadata": {
        "id": "zuD_rRPgNfEP"
      },
      "source": [
        "values = [zip(user_ratings[i], predictions[i]) for i in range(predictions.shape[0])]\n",
        "# print(pd.DataFrame(values))\n",
        "comparison_data = pd.DataFrame(values)\n",
        "comparison_data.columns = arr_new.columns"
      ],
      "execution_count": null,
      "outputs": []
    },
    {
      "cell_type": "code",
      "metadata": {
        "colab": {
          "base_uri": "https://localhost:8080/"
        },
        "id": "3W97fz9zNiK3",
        "outputId": "dfcf8e10-64a3-4dd6-b61c-2dd8c6aad6ea"
      },
      "source": [
        "print(comparison_data)\n",
        "comparison_data.iloc[21672][36]\n",
        "# tmp_ddata = comparison_data\n",
        "# print(tmp_ddata[comparison_data == 21486])"
      ],
      "execution_count": null,
      "outputs": [
        {
          "output_type": "stream",
          "text": [
            "                               1    ...                         100\n",
            "0       (-7.82, 1.286668509884769)  ...    (nan, 1.913192564113316)\n",
            "1      (4.08, 0.47086483126287176)  ...  (99.0, 0.7643845948507715)\n",
            "2         (nan, 1.910685111427222)  ...   (nan, 2.8200419398821848)\n",
            "3        (nan, 1.1224657221225567)  ...   (nan, 1.9161136304992286)\n",
            "4         (8.5, 1.719255751330964)  ...   (1.6, 2.7219417721567396)\n",
            "...                            ...  ...                         ...\n",
            "24978   (0.44, 1.7576992177844237)  ...  (7.43, 2.8808734725271186)\n",
            "24979  (9.13, 0.39957184930896433)  ...  (8.45, 0.6333839131128324)\n",
            "24980    (nan, 0.9045972944528383)  ...    (nan, 1.362469129531298)\n",
            "24981    (nan, 1.4194882591514144)  ...   (nan, 2.1273240466752035)\n",
            "24982   (2.43, 1.7909067569661552)  ...    (nan, 2.817046929067889)\n",
            "\n",
            "[24983 rows x 100 columns]\n"
          ],
          "name": "stdout"
        },
        {
          "output_type": "execute_result",
          "data": {
            "text/plain": [
              "(3.25, 3.603506316492173)"
            ]
          },
          "metadata": {
            "tags": []
          },
          "execution_count": 54
        }
      ]
    },
    {
      "cell_type": "code",
      "metadata": {
        "colab": {
          "base_uri": "https://localhost:8080/"
        },
        "id": "k_wMHhoDPk9N",
        "outputId": "c4c26249-41f7-448e-ccfe-da03554faae5"
      },
      "source": [
        "df_users = pd.read_excel(\"https://raw.githubusercontent.com/albanda/CE888/master/lab4-recommender/movies_latent_factors.xlsx\",sheet_name='Users')\n",
        "df_movies = pd.read_excel(\"https://raw.githubusercontent.com/albanda/CE888/master/lab4-recommender/movies_latent_factors.xlsx\",sheet_name='Items')\n",
        "print(df_users)\n",
        "print(df_movies)"
      ],
      "execution_count": 56,
      "outputs": [
        {
          "output_type": "stream",
          "text": [
            "    User   Factor1   Factor2   Factor3  ...  Factor12  Factor13  Factor14  Factor15\n",
            "0   4768 -0.204024  0.161079 -0.090447  ...  0.355404  0.007108 -0.118663 -0.039125\n",
            "1    156 -0.189652 -0.178979 -0.091490  ... -0.048606  0.045916  0.113671  0.179873\n",
            "2   5323 -0.115308 -0.090886 -0.053129  ... -0.019460  0.108372  0.054471 -0.109552\n",
            "3    174 -0.227462 -0.272532 -0.017231  ... -0.082396  0.036767 -0.165438  0.050692\n",
            "4   4529 -0.014616 -0.102218 -0.107935  ... -0.132836 -0.039897  0.129063  0.102669\n",
            "5    783 -0.020301 -0.031919 -0.036955  ...  0.059725 -0.021647  0.039873 -0.061857\n",
            "6   3878 -0.091462  0.215879 -0.180453  ...  0.214467  0.189250  0.065990  0.102776\n",
            "7    768  0.000819 -0.009229 -0.019228  ... -0.010051 -0.002108  0.043223 -0.006670\n",
            "8   4469 -0.030528 -0.011537 -0.042822  ...  0.010926  0.024400  0.005318 -0.007983\n",
            "9   1882 -0.083093 -0.029160  0.013748  ... -0.113364 -0.021325  0.181508  0.022357\n",
            "10  4997 -0.185443 -0.276496 -0.781275  ...  0.103116 -0.100563  0.100164  0.043196\n",
            "11  2067 -0.083242  0.181171 -0.344267  ... -0.127038  0.176661 -0.055812 -0.000042\n",
            "12  3806 -0.042344 -0.040755 -0.055720  ... -0.040915 -0.130308 -0.021816  0.034549\n",
            "13  2848 -0.113283 -0.098942 -0.040393  ...  0.036894  0.067105 -0.016780 -0.029503\n",
            "14  4433 -0.298760 -0.290228 -0.160120  ...  0.071371 -0.415598 -0.022139 -0.183021\n",
            "15  3519 -0.068454  0.020090  0.039336  ...  0.005171  0.005546  0.020780 -0.023623\n",
            "16  5338 -0.061259  0.014661  0.011412  ...  0.031774 -0.062413  0.107708  0.065081\n",
            "17  3947 -0.022340 -0.115285 -0.136980  ... -0.045329 -0.111919  0.066313  0.002395\n",
            "18  4373 -0.136550 -0.089406 -0.235399  ... -0.028972 -0.175184 -0.058283  0.147797\n",
            "19  2092 -0.121763  0.011065 -0.037121  ...  0.044754 -0.003087  0.164487 -0.075231\n",
            "20   525 -0.040290  0.014383 -0.098967  ... -0.025394  0.034079  0.038330 -0.001341\n",
            "21  4327  0.008227  0.073899 -0.323967  ... -0.106570 -0.051692 -0.093490  0.029534\n",
            "22  3048 -0.320315  0.078290 -0.083182  ...  0.028016 -0.018100 -0.128452  0.069972\n",
            "23  2665 -0.076167 -0.006064 -0.001902  ...  0.086562 -0.132328  0.146198  0.029200\n",
            "24  4940 -0.113099  0.047643 -0.053024  ...  0.010227 -0.008233 -0.029304  0.090511\n",
            "\n",
            "[25 rows x 16 columns]\n",
            "    Movie ID  ...  Factor15\n",
            "0         11  ... -0.248806\n",
            "1         12  ...  1.274993\n",
            "2         13  ... -0.419092\n",
            "3         14  ... -0.681191\n",
            "4         22  ... -2.292566\n",
            "..       ...  ...       ...\n",
            "95      9806  ...  1.017861\n",
            "96     10020  ... -0.487076\n",
            "97     36657  ...  0.067790\n",
            "98     36658  ... -0.288130\n",
            "99     36955  ... -0.022599\n",
            "\n",
            "[100 rows x 17 columns]\n"
          ],
          "name": "stdout"
        }
      ]
    },
    {
      "cell_type": "code",
      "metadata": {
        "colab": {
          "base_uri": "https://localhost:8080/"
        },
        "id": "R--gZZ2jJ9_H",
        "outputId": "f0490394-8071-42aa-cc9f-7bd3327c16c3"
      },
      "source": [
        "new_df_movies = df_movies.drop(columns='Title')\n",
        "new_df_movies.shape\n"
      ],
      "execution_count": 57,
      "outputs": [
        {
          "output_type": "execute_result",
          "data": {
            "text/plain": [
              "(100, 16)"
            ]
          },
          "metadata": {
            "tags": []
          },
          "execution_count": 57
        }
      ]
    },
    {
      "cell_type": "code",
      "metadata": {
        "id": "9GncLpIFNJjA",
        "outputId": "4da6968f-39e3-44aa-84bd-caa8b8e90adc",
        "colab": {
          "base_uri": "https://localhost:8080/"
        }
      },
      "source": [
        "items.loc[items['Movie ID'] == 2501]['Factor1']"
      ],
      "execution_count": 58,
      "outputs": [
        {
          "output_type": "execute_result",
          "data": {
            "text/plain": [
              "83   -0.83126\n",
              "Name: Factor1, dtype: float64"
            ]
          },
          "metadata": {
            "tags": []
          },
          "execution_count": 58
        }
      ]
    },
    {
      "cell_type": "code",
      "metadata": {
        "id": "xI-G3akmNZrx",
        "outputId": "bd6fb2f5-f7a1-4b7a-d216-01eb736717aa",
        "colab": {
          "base_uri": "https://localhost:8080/"
        }
      },
      "source": [
        "# print(max(items['Factor8']))\n",
        "# items.loc[items['Factor8'] == max(items['Factor8'])]['Movie ID']\n",
        "print(df_movies.sort_values(by='Factor8',axis=0, ascending=False))"
      ],
      "execution_count": 59,
      "outputs": [
        {
          "output_type": "stream",
          "text": [
            "    Movie ID                     Title   Factor1  ...  Factor13  Factor14  Factor15\n",
            "5         24  Kill Bill: Vol. 1 (2003) -0.645019  ...  0.724543 -0.385681  1.036656\n",
            "36       393  Kill Bill: Vol. 2 (2004) -0.322067  ...  0.657099 -0.298533  0.888315\n",
            "47       597            Titanic (1997)  1.567865  ...  0.370387  2.215933  0.456127\n",
            "2         13       Forrest Gump (1994) -2.240888  ... -0.330276 -2.209004 -0.419092\n",
            "13       114       Pretty Woman (1990)  1.658681  ...  0.520683  0.662535 -0.162412\n",
            "..       ...                       ...       ...  ...       ...       ...       ...\n",
            "18       141       Donnie Darko (2001)  0.056865  ...  0.698186  0.260986  0.472673\n",
            "8         77            Memento (2000) -1.443730  ... -0.032267  0.513381  0.505265\n",
            "90      8467      Dumb & Dumber (1994)  2.720287  ... -1.240696  0.279910  1.616338\n",
            "21       155    The Dark Knight (2008) -2.169359  ...  2.193465  0.720142  0.445634\n",
            "30       272      Batman Begins (2005) -0.920371  ...  1.793180  0.448899  0.484224\n",
            "\n",
            "[100 rows x 17 columns]\n"
          ],
          "name": "stdout"
        }
      ]
    },
    {
      "cell_type": "code",
      "metadata": {
        "id": "bNzRj-8POtGJ",
        "outputId": "4f289ad4-59bf-4ee4-f178-33a02a2284a9",
        "colab": {
          "base_uri": "https://localhost:8080/"
        }
      },
      "source": [
        "users = pd.DataFrame(df_users)\n",
        "user_new = users.loc[users['User'] == 2067].values[0][1:]\n",
        "\n",
        "\n",
        "items = pd.DataFrame(df_movies)\n",
        "item_new = items.loc[items['Movie ID'] == 857].values[0][2:]\n",
        "\n",
        "\n",
        "user_new.dot(item_new)"
      ],
      "execution_count": 60,
      "outputs": [
        {
          "output_type": "execute_result",
          "data": {
            "text/plain": [
              "0.3169546564734672"
            ]
          },
          "metadata": {
            "tags": []
          },
          "execution_count": 60
        }
      ]
    },
    {
      "cell_type": "code",
      "metadata": {
        "id": "GXxcrEiuO5zR",
        "outputId": "7c4c2de3-f65f-4072-a651-2fc005ea856b",
        "colab": {
          "base_uri": "https://localhost:8080/"
        }
      },
      "source": [
        "users = pd.DataFrame(df_users)\n",
        "user_new = users.loc[users['User'] == 768].values[0][1:]\n",
        "\n",
        "\n",
        "items = pd.DataFrame(df_movies)\n",
        "item_new = items.loc[items['Movie ID'] == 10020].values[0][2:]\n",
        "\n",
        "\n",
        "user_new.dot(item_new)"
      ],
      "execution_count": 61,
      "outputs": [
        {
          "output_type": "execute_result",
          "data": {
            "text/plain": [
              "0.06816874145679636"
            ]
          },
          "metadata": {
            "tags": []
          },
          "execution_count": 61
        }
      ]
    },
    {
      "cell_type": "code",
      "metadata": {
        "id": "TzoRmQ4KGyGN",
        "outputId": "80eba27d-2e31-4dc3-f8bb-e10c80cd906a",
        "colab": {
          "base_uri": "https://localhost:8080/"
        }
      },
      "source": [
        "# Which 3 movies would you recommend to User 783?\n",
        "user_pref = df_users[df_users['User'] == 783].iloc[:, -15:].values\n",
        "item_feat = df_movies.iloc[:, -15:].values.T\n",
        "df_movies['pred'] = user_pref.dot(item_feat).T\n",
        "# print(user_pref.dot(item_feat).shape)\n",
        "# print(max(user_pref.dot(item_feat)))\n",
        "\n",
        "print(df_movies.sort_values(by='pred', axis=0, ascending=False)['Movie ID'].values)\n"
      ],
      "execution_count": 75,
      "outputs": [
        {
          "output_type": "stream",
          "text": [
            "[  597    24   393   602   329   114   752   197   155   272   557   671\n",
            "    98   280   558   601   664   745  1637  2164    13   424  8358   581\n",
            " 36657   857  2024   672   453   604   278 36955   807   187   274   141\n",
            "   268 36658  1572   641   180   462  8587    63  9331    38  1894   121\n",
            "   788    14  9741  1422   680  9802   568   122    77   120   640 10020\n",
            "   550   146  1900  5503   603   786   105   607   954  3049   243   134\n",
            "   107   955   275   812   629   238   153   194    22   414    11   854\n",
            "  8467    85  1892  1891  1597   161    12   862  4327  9806  7443   585\n",
            "  2502  2501   808   809]\n"
          ],
          "name": "stdout"
        }
      ]
    },
    {
      "cell_type": "code",
      "metadata": {
        "id": "c8_Ob4TFQ5gR",
        "outputId": "15f04ef5-6178-4055-e6bb-1e3576748aef",
        "colab": {
          "base_uri": "https://localhost:8080/"
        }
      },
      "source": [
        "# Which 3 movies would you recommend to User 5323?\n",
        "user_pref = df_users[df_users['User'] == 5323].iloc[:, -15:].values\n",
        "item_feat = df_movies.iloc[:, -15:].values.T\n",
        "df_movies['pred'] = user_pref.dot(item_feat).T\n",
        "# print(user_pref.dot(item_feat).shape)\n",
        "# print(max(user_pref.dot(item_feat)))\n",
        "\n",
        "print(df_movies.sort_values(by='pred', axis=0, ascending=False)['Movie ID'].values)"
      ],
      "execution_count": 76,
      "outputs": [
        {
          "output_type": "stream",
          "text": [
            "[  597   602   954   955   604   114  2502   329  2501    98   603   161\n",
            "   120  1637   122    24   121   393   180   453  8587   857   280   607\n",
            "    22  2024   664  1572   146   640    12   462  8358 36955   745 10020\n",
            "   197   601   155  4327  5503  9331   568   862  9802   238   788    13\n",
            "   581   105   812   278    85   585  9741   424  9806   671  1422   272\n",
            "    14   672   557   153  2164   752   558  1900   194  1597 36657   629\n",
            "   786    38   274    77 36658   275  1894    11   243  1891   134  1892\n",
            "   641   680   141    63  7443   808   550   187   854   268   807   809\n",
            "   107   414  3049  8467]\n"
          ],
          "name": "stdout"
        }
      ]
    },
    {
      "cell_type": "code",
      "metadata": {
        "colab": {
          "base_uri": "https://localhost:8080/",
          "height": 97
        },
        "id": "j08---70Q9De",
        "outputId": "e242aff2-25b4-496e-ee63-96cfae192ed2"
      },
      "source": [
        "\n",
        "users = pd.DataFrame(df_users)\n",
        "\n",
        "tmp_user = users\n",
        "print(tmp_user[users['User'] == 4940]['Factor2'])\n",
        "print(tmp_user[users['User'] == 5338]['Factor3'])\n",
        "users.loc[users['User'] == 2067]\n",
        "# []"
      ],
      "execution_count": null,
      "outputs": [
        {
          "output_type": "stream",
          "text": [
            "Series([], Name: Factor1, dtype: float64)\n"
          ],
          "name": "stdout"
        },
        {
          "output_type": "execute_result",
          "data": {
            "text/html": [
              "<div>\n",
              "<style scoped>\n",
              "    .dataframe tbody tr th:only-of-type {\n",
              "        vertical-align: middle;\n",
              "    }\n",
              "\n",
              "    .dataframe tbody tr th {\n",
              "        vertical-align: top;\n",
              "    }\n",
              "\n",
              "    .dataframe thead th {\n",
              "        text-align: right;\n",
              "    }\n",
              "</style>\n",
              "<table border=\"1\" class=\"dataframe\">\n",
              "  <thead>\n",
              "    <tr style=\"text-align: right;\">\n",
              "      <th></th>\n",
              "      <th>User</th>\n",
              "      <th>Factor1</th>\n",
              "      <th>Factor2</th>\n",
              "      <th>Factor3</th>\n",
              "      <th>Factor4</th>\n",
              "      <th>Factor5</th>\n",
              "      <th>Factor6</th>\n",
              "      <th>Factor7</th>\n",
              "      <th>Factor8</th>\n",
              "      <th>Factor9</th>\n",
              "      <th>Factor10</th>\n",
              "      <th>Factor11</th>\n",
              "      <th>Factor12</th>\n",
              "      <th>Factor13</th>\n",
              "      <th>Factor14</th>\n",
              "      <th>Factor15</th>\n",
              "    </tr>\n",
              "  </thead>\n",
              "  <tbody>\n",
              "    <tr>\n",
              "      <th>11</th>\n",
              "      <td>2067</td>\n",
              "      <td>-0.083242</td>\n",
              "      <td>0.181171</td>\n",
              "      <td>-0.344267</td>\n",
              "      <td>-0.019713</td>\n",
              "      <td>-0.243199</td>\n",
              "      <td>0.03922</td>\n",
              "      <td>-0.092086</td>\n",
              "      <td>0.114808</td>\n",
              "      <td>-0.036472</td>\n",
              "      <td>0.042386</td>\n",
              "      <td>-0.186812</td>\n",
              "      <td>-0.127038</td>\n",
              "      <td>0.176661</td>\n",
              "      <td>-0.055812</td>\n",
              "      <td>-0.000042</td>\n",
              "    </tr>\n",
              "  </tbody>\n",
              "</table>\n",
              "</div>"
            ],
            "text/plain": [
              "    User   Factor1   Factor2   Factor3  ...  Factor12  Factor13  Factor14  Factor15\n",
              "11  2067 -0.083242  0.181171 -0.344267  ... -0.127038  0.176661 -0.055812 -0.000042\n",
              "\n",
              "[1 rows x 16 columns]"
            ]
          },
          "metadata": {
            "tags": []
          },
          "execution_count": 56
        }
      ]
    },
    {
      "cell_type": "code",
      "metadata": {
        "colab": {
          "base_uri": "https://localhost:8080/",
          "height": 219
        },
        "id": "43SSQvhARXgm",
        "outputId": "e08affdf-233d-4112-9db6-280cf5dd9232"
      },
      "source": [
        "items = pd.DataFrame(df_movies)\n",
        "\n",
        "tmp_item = items\n",
        "print(tmp_item[items['Movie ID'] == 243]['Factor1'])\n",
        "items.loc[items['Movie ID'] == 10020]\n"
      ],
      "execution_count": null,
      "outputs": [
        {
          "output_type": "stream",
          "text": [
            "28    0.298644\n",
            "Name: Factor1, dtype: float64\n"
          ],
          "name": "stdout"
        },
        {
          "output_type": "execute_result",
          "data": {
            "text/html": [
              "<div>\n",
              "<style scoped>\n",
              "    .dataframe tbody tr th:only-of-type {\n",
              "        vertical-align: middle;\n",
              "    }\n",
              "\n",
              "    .dataframe tbody tr th {\n",
              "        vertical-align: top;\n",
              "    }\n",
              "\n",
              "    .dataframe thead th {\n",
              "        text-align: right;\n",
              "    }\n",
              "</style>\n",
              "<table border=\"1\" class=\"dataframe\">\n",
              "  <thead>\n",
              "    <tr style=\"text-align: right;\">\n",
              "      <th></th>\n",
              "      <th>Movie ID</th>\n",
              "      <th>Title</th>\n",
              "      <th>Factor1</th>\n",
              "      <th>Factor2</th>\n",
              "      <th>Factor3</th>\n",
              "      <th>Factor4</th>\n",
              "      <th>Factor5</th>\n",
              "      <th>Factor6</th>\n",
              "      <th>Factor7</th>\n",
              "      <th>Factor8</th>\n",
              "      <th>Factor9</th>\n",
              "      <th>Factor10</th>\n",
              "      <th>Factor11</th>\n",
              "      <th>Factor12</th>\n",
              "      <th>Factor13</th>\n",
              "      <th>Factor14</th>\n",
              "      <th>Factor15</th>\n",
              "    </tr>\n",
              "  </thead>\n",
              "  <tbody>\n",
              "    <tr>\n",
              "      <th>96</th>\n",
              "      <td>10020</td>\n",
              "      <td>Beauty and the Beast (1991)</td>\n",
              "      <td>1.286288</td>\n",
              "      <td>0.004957</td>\n",
              "      <td>-0.15764</td>\n",
              "      <td>2.57964</td>\n",
              "      <td>-0.042687</td>\n",
              "      <td>-0.256582</td>\n",
              "      <td>-0.007971</td>\n",
              "      <td>0.458163</td>\n",
              "      <td>0.091394</td>\n",
              "      <td>0.323339</td>\n",
              "      <td>-0.862833</td>\n",
              "      <td>-0.508185</td>\n",
              "      <td>0.994535</td>\n",
              "      <td>0.8687</td>\n",
              "      <td>-0.487076</td>\n",
              "    </tr>\n",
              "  </tbody>\n",
              "</table>\n",
              "</div>"
            ],
            "text/plain": [
              "    Movie ID                        Title  ...  Factor14  Factor15\n",
              "96     10020  Beauty and the Beast (1991)  ...    0.8687 -0.487076\n",
              "\n",
              "[1 rows x 17 columns]"
            ]
          },
          "metadata": {
            "tags": []
          },
          "execution_count": 57
        }
      ]
    }
  ]
}
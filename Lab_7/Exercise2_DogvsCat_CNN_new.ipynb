{
  "nbformat": 4,
  "nbformat_minor": 0,
  "metadata": {
    "accelerator": "GPU",
    "colab": {
      "name": "Exercise2_DogvsCat_CNN.ipynb",
      "provenance": [],
      "include_colab_link": true
    },
    "kernelspec": {
      "display_name": "Python 3",
      "name": "python3"
    }
  },
  "cells": [
    {
      "cell_type": "markdown",
      "metadata": {
        "id": "view-in-github",
        "colab_type": "text"
      },
      "source": [
        "<a href=\"https://colab.research.google.com/github/monali0802/CE888/blob/main/Lab_7/Exercise2_DogvsCat_CNN_new.ipynb\" target=\"_parent\"><img src=\"https://colab.research.google.com/assets/colab-badge.svg\" alt=\"Open In Colab\"/></a>"
      ]
    },
    {
      "cell_type": "markdown",
      "metadata": {
        "id": "qTh9DiKVslsJ"
      },
      "source": [
        "## Dogs vs. Cats \n",
        "\n",
        "In this competition, you'll write an algorithm to classify whether images contain either a dog or a cat.  This is easy for humans, dogs, and cats. Your computer will find it a bit more difficult.\n",
        "\n",
        "![alt text](https://miro.medium.com/max/3000/1*bhFifratH9DjKqMBTeQG5A.gif)\n",
        "\n",
        "Ref: https://medium.com/@thegrigorian/rolling-in-the-deep-cnn-c8d3f7108c8c"
      ]
    },
    {
      "cell_type": "code",
      "metadata": {
        "colab": {
          "base_uri": "https://localhost:8080/"
        },
        "id": "tBIEmWPLReRM",
        "outputId": "a8fe368f-2803-464b-847e-cebecb0d4fd9"
      },
      "source": [
        "from google.colab import drive\n",
        "drive.mount('/content/drive')"
      ],
      "execution_count": 1,
      "outputs": [
        {
          "output_type": "stream",
          "text": [
            "Mounted at /content/drive\n"
          ],
          "name": "stdout"
        }
      ]
    },
    {
      "cell_type": "markdown",
      "metadata": {
        "id": "RSBI-_mSSY1g"
      },
      "source": [
        "Get your API Key from Kaggle using following steps:\n",
        "1. Login to [Kaggle](https://www.kaggle.com/) or Register if you don't have account\n",
        "2. Open Dataset (https://www.kaggle.com/c/dogs-vs-cats/rules) and accept terms and condition. \n",
        "3. On the top right corner click on your Icon and go to accounts and press a button \"Create New API Token\". It will download a JSON file containing your username and key. \n",
        "4. Now, paste both below. \n"
      ]
    },
    {
      "cell_type": "code",
      "metadata": {
        "colab": {
          "base_uri": "https://localhost:8080/"
        },
        "id": "YmXSOc0tZIGA",
        "outputId": "e878c292-03b4-424c-fcaa-c6a50122bae6"
      },
      "source": [
        "\n",
        "!pip install --upgrade --force-reinstall --no-deps kaggle\n"
      ],
      "execution_count": 2,
      "outputs": [
        {
          "output_type": "stream",
          "text": [
            "Collecting kaggle\n",
            "\u001b[?25l  Downloading https://files.pythonhosted.org/packages/3a/e7/3bac01547d2ed3d308ac92a0878fbdb0ed0f3d41fb1906c319ccbba1bfbc/kaggle-1.5.12.tar.gz (58kB)\n",
            "\r\u001b[K     |█████▋                          | 10kB 21.5MB/s eta 0:00:01\r\u001b[K     |███████████▏                    | 20kB 15.7MB/s eta 0:00:01\r\u001b[K     |████████████████▊               | 30kB 13.7MB/s eta 0:00:01\r\u001b[K     |██████████████████████▎         | 40kB 12.8MB/s eta 0:00:01\r\u001b[K     |███████████████████████████▉    | 51kB 7.5MB/s eta 0:00:01\r\u001b[K     |████████████████████████████████| 61kB 4.2MB/s \n",
            "\u001b[?25hBuilding wheels for collected packages: kaggle\n",
            "  Building wheel for kaggle (setup.py) ... \u001b[?25l\u001b[?25hdone\n",
            "  Created wheel for kaggle: filename=kaggle-1.5.12-cp37-none-any.whl size=73053 sha256=3cf97992fd653b68daab8e51c6933e969a16d1455b4329d18767660fd697b277\n",
            "  Stored in directory: /root/.cache/pip/wheels/a1/6a/26/d30b7499ff85a4a4593377a87ecf55f7d08af42f0de9b60303\n",
            "Successfully built kaggle\n",
            "Installing collected packages: kaggle\n",
            "  Found existing installation: kaggle 1.5.12\n",
            "    Uninstalling kaggle-1.5.12:\n",
            "      Successfully uninstalled kaggle-1.5.12\n",
            "Successfully installed kaggle-1.5.12\n"
          ],
          "name": "stdout"
        }
      ]
    },
    {
      "cell_type": "code",
      "metadata": {
        "id": "NyOhHXKyQjtB",
        "colab": {
          "base_uri": "https://localhost:8080/"
        },
        "outputId": "34c8aee6-ef31-48da-afe6-38282d2d8a6d"
      },
      "source": [
        "import os\n",
        "os.environ['KAGGLE_USERNAME'] = \"monali8293\" # username from the json file\n",
        "os.environ['KAGGLE_KEY'] = \"bd470318b2b8ca763fc2034661b50090\" # key from the json file\n",
        "!kaggle competitions download -c dogs-vs-cats\n"
      ],
      "execution_count": 6,
      "outputs": [
        {
          "output_type": "stream",
          "text": [
            "Downloading dogs-vs-cats.zip to /content\n",
            " 98% 793M/812M [00:04<00:00, 146MB/s]\n",
            "100% 812M/812M [00:04<00:00, 180MB/s]\n"
          ],
          "name": "stdout"
        }
      ]
    },
    {
      "cell_type": "code",
      "metadata": {
        "colab": {
          "base_uri": "https://localhost:8080/"
        },
        "id": "PiwIL8d1n7eS",
        "outputId": "f6813dd5-b120-4424-a058-669d073dd9f4"
      },
      "source": [
        "# Unzip training data\n",
        "from zipfile import ZipFile\n",
        "file_name = \"/content/dogs-vs-cats.zip\"\n",
        "with ZipFile(file_name, 'r') as zip:\n",
        "  zip.extractall()\n",
        "  print('done')"
      ],
      "execution_count": 7,
      "outputs": [
        {
          "output_type": "stream",
          "text": [
            "done\n"
          ],
          "name": "stdout"
        }
      ]
    },
    {
      "cell_type": "code",
      "metadata": {
        "colab": {
          "base_uri": "https://localhost:8080/"
        },
        "id": "4xzP8YuOTQwV",
        "outputId": "7e1420a8-4e62-49d7-b71d-b35126796235"
      },
      "source": [
        "from zipfile import ZipFile\n",
        "file_name = \"/content/train.zip\"\n",
        "with ZipFile(file_name, 'r') as zip:\n",
        "  zip.extractall()\n",
        "  print('done')\n"
      ],
      "execution_count": 8,
      "outputs": [
        {
          "output_type": "stream",
          "text": [
            "done\n"
          ],
          "name": "stdout"
        }
      ]
    },
    {
      "cell_type": "code",
      "metadata": {
        "colab": {
          "base_uri": "https://localhost:8080/"
        },
        "id": "KPS4zbhpTTLF",
        "outputId": "5d4e7670-2412-41f7-e72d-b4d5dbec0716"
      },
      "source": [
        "\n",
        "from zipfile import ZipFile\n",
        "file_name = \"/content/test1.zip\"\n",
        "with ZipFile(file_name, 'r') as zip:\n",
        "  zip.extractall()\n",
        "  print('done')"
      ],
      "execution_count": 9,
      "outputs": [
        {
          "output_type": "stream",
          "text": [
            "done\n"
          ],
          "name": "stdout"
        }
      ]
    },
    {
      "cell_type": "code",
      "metadata": {
        "id": "sa2Bj5i7pPKV",
        "colab": {
          "base_uri": "https://localhost:8080/"
        },
        "outputId": "35a8715d-d3ec-43ec-cc92-21f49f61860f"
      },
      "source": [
        "# Get all the paths\n",
        "data_dir_list = os.listdir('/content/train')\n",
        "#print(data_dir_list)\n",
        "path, dirs, files = next(os.walk(\"/content/train\"))\n",
        "file_count = len(files)\n",
        "print(file_count)"
      ],
      "execution_count": 10,
      "outputs": [
        {
          "output_type": "stream",
          "text": [
            "25000\n"
          ],
          "name": "stdout"
        }
      ]
    },
    {
      "cell_type": "code",
      "metadata": {
        "id": "0ERlHkfHqpK8"
      },
      "source": [
        "# Make new base directory\n",
        "original_dataset_dir = '/content/train'\n",
        "base_dir = '/content/cats_and_dogs_small'\n",
        "os.mkdir(base_dir)"
      ],
      "execution_count": 11,
      "outputs": []
    },
    {
      "cell_type": "code",
      "metadata": {
        "id": "AANB1UJ6rQhM"
      },
      "source": [
        "train_dir = os.path.join(base_dir, 'train')\n",
        "os.mkdir(train_dir)\n",
        "\n",
        "validation_dir = os.path.join(base_dir, 'validation')\n",
        "os.mkdir(validation_dir)\n",
        "\n",
        "test_dir = os.path.join(base_dir, 'test')\n",
        "os.mkdir(test_dir)\n",
        "\n",
        "train_cats_dir = os.path.join(train_dir, 'cats')\n",
        "os.mkdir(train_cats_dir)\n",
        "\n",
        "train_dogs_dir = os.path.join(train_dir, 'dogs')\n",
        "os.mkdir(train_dogs_dir)\n",
        "\n",
        "validation_cats_dir = os.path.join(validation_dir, 'cats')\n",
        "os.mkdir(validation_cats_dir)\n",
        "\n",
        "validation_dogs_dir = os.path.join(validation_dir, 'dogs')\n",
        "os.mkdir(validation_dogs_dir)\n",
        "\n",
        "test_cats_dir = os.path.join(test_dir, 'cats')\n",
        "os.mkdir(test_cats_dir)\n",
        "\n",
        "test_dogs_dir = os.path.join(test_dir, 'dogs')\n",
        "os.mkdir(test_dogs_dir)"
      ],
      "execution_count": 12,
      "outputs": []
    },
    {
      "cell_type": "code",
      "metadata": {
        "id": "ULRgL9s9rV8T"
      },
      "source": [
        "import shutil\n",
        "fnames = ['cat.{}.jpg'.format(i) for i in range(1000)]\n",
        "for fname in fnames:\n",
        "    src = os.path.join(original_dataset_dir, fname)\n",
        "    dst = os.path.join(train_cats_dir, fname)\n",
        "    #print(src,dst)\n",
        "    shutil.copyfile(src, dst)\n",
        "    \n",
        "fnames = ['cat.{}.jpg'.format(i) for i in range(1000, 1500)]\n",
        "for fname in fnames:\n",
        "    src = os.path.join(original_dataset_dir, fname)\n",
        "    dst = os.path.join(validation_cats_dir, fname)\n",
        "    shutil.copyfile(src, dst)\n",
        "\n",
        "fnames = ['cat.{}.jpg'.format(i) for i in range(1500, 2000)]\n",
        "for fname in fnames:\n",
        "    src = os.path.join(original_dataset_dir, fname)\n",
        "    dst = os.path.join(test_cats_dir, fname)\n",
        "    shutil.copyfile(src, dst)\n",
        "    \n",
        "fnames = ['dog.{}.jpg'.format(i) for i in range(1000)]\n",
        "for fname in fnames:\n",
        "    src = os.path.join(original_dataset_dir, fname)\n",
        "    dst = os.path.join(train_dogs_dir, fname)\n",
        "    shutil.copyfile(src, dst)\n",
        "\n",
        "fnames = ['dog.{}.jpg'.format(i) for i in range(1000, 1500)]\n",
        "for fname in fnames:\n",
        "    src = os.path.join(original_dataset_dir, fname)\n",
        "    dst = os.path.join(validation_dogs_dir, fname)\n",
        "    shutil.copyfile(src, dst)\n",
        "\n",
        "fnames = ['dog.{}.jpg'.format(i) for i in range(1500, 2000)]\n",
        "for fname in fnames:\n",
        "    src = os.path.join(original_dataset_dir, fname)\n",
        "    dst = os.path.join(test_dogs_dir, fname)\n",
        "    shutil.copyfile(src, dst)"
      ],
      "execution_count": 13,
      "outputs": []
    },
    {
      "cell_type": "code",
      "metadata": {
        "id": "ul3XAbIyr7vC",
        "colab": {
          "base_uri": "https://localhost:8080/"
        },
        "outputId": "fbe52cba-64e3-43c8-8121-d68453f14877"
      },
      "source": [
        "print('total training cat images:', len(os.listdir(train_cats_dir)))\n",
        "print('total training dog images:', len(os.listdir(train_dogs_dir)))\n",
        "print('total validation cat images:', len(os.listdir(validation_cats_dir)))\n",
        "\n",
        "print('total validation dog images:', len(os.listdir(validation_dogs_dir)))\n",
        "print('total test cat images:', len(os.listdir(test_cats_dir)))\n",
        "print('total test dog images:', len(os.listdir(test_dogs_dir)))"
      ],
      "execution_count": 14,
      "outputs": [
        {
          "output_type": "stream",
          "text": [
            "total training cat images: 1000\n",
            "total training dog images: 1000\n",
            "total validation cat images: 500\n",
            "total validation dog images: 500\n",
            "total test cat images: 500\n",
            "total test dog images: 500\n"
          ],
          "name": "stdout"
        }
      ]
    },
    {
      "cell_type": "code",
      "metadata": {
        "id": "o9yTA21_r-ma",
        "colab": {
          "base_uri": "https://localhost:8080/"
        },
        "outputId": "8e3e1645-0aa3-44a0-f258-a2c7a4371783"
      },
      "source": [
        "from keras import layers\n",
        "from keras import models\n",
        "\n",
        "model = models.Sequential()\n",
        "model.add(layers.Conv2D(32, (3, 3), activation='relu', input_shape=(150, 150, 3)))\n",
        "model.add(layers.MaxPooling2D((2, 2)))\n",
        "model.add(layers.Conv2D(64, (3, 3), activation='relu'))\n",
        "model.add(layers.MaxPooling2D((2, 2)))\n",
        "model.add(layers.Conv2D(128, (3, 3), activation='relu'))\n",
        "model.add(layers.MaxPooling2D((2, 2)))\n",
        "model.add(layers.Conv2D(128, (3, 3), activation='relu'))\n",
        "model.add(layers.MaxPooling2D((2, 2)))\n",
        "model.add(layers.Flatten())\n",
        "model.add(layers.Dense(512, activation='relu'))\n",
        "model.add(layers.Dense(1, activation='sigmoid'))\n",
        "model.summary()"
      ],
      "execution_count": 15,
      "outputs": [
        {
          "output_type": "stream",
          "text": [
            "Model: \"sequential\"\n",
            "_________________________________________________________________\n",
            "Layer (type)                 Output Shape              Param #   \n",
            "=================================================================\n",
            "conv2d (Conv2D)              (None, 148, 148, 32)      896       \n",
            "_________________________________________________________________\n",
            "max_pooling2d (MaxPooling2D) (None, 74, 74, 32)        0         \n",
            "_________________________________________________________________\n",
            "conv2d_1 (Conv2D)            (None, 72, 72, 64)        18496     \n",
            "_________________________________________________________________\n",
            "max_pooling2d_1 (MaxPooling2 (None, 36, 36, 64)        0         \n",
            "_________________________________________________________________\n",
            "conv2d_2 (Conv2D)            (None, 34, 34, 128)       73856     \n",
            "_________________________________________________________________\n",
            "max_pooling2d_2 (MaxPooling2 (None, 17, 17, 128)       0         \n",
            "_________________________________________________________________\n",
            "conv2d_3 (Conv2D)            (None, 15, 15, 128)       147584    \n",
            "_________________________________________________________________\n",
            "max_pooling2d_3 (MaxPooling2 (None, 7, 7, 128)         0         \n",
            "_________________________________________________________________\n",
            "flatten (Flatten)            (None, 6272)              0         \n",
            "_________________________________________________________________\n",
            "dense (Dense)                (None, 512)               3211776   \n",
            "_________________________________________________________________\n",
            "dense_1 (Dense)              (None, 1)                 513       \n",
            "=================================================================\n",
            "Total params: 3,453,121\n",
            "Trainable params: 3,453,121\n",
            "Non-trainable params: 0\n",
            "_________________________________________________________________\n"
          ],
          "name": "stdout"
        }
      ]
    },
    {
      "cell_type": "code",
      "metadata": {
        "id": "2mG8wekxsBVS"
      },
      "source": [
        "from keras import optimizers\n",
        "model.compile(loss='binary_crossentropy', \n",
        "              optimizer=optimizers.RMSprop(lr=1e-4),\n",
        "              metrics=['acc'])"
      ],
      "execution_count": 16,
      "outputs": []
    },
    {
      "cell_type": "markdown",
      "metadata": {
        "id": "7zS4Klm8qWp6"
      },
      "source": [
        "## Using ImageDataGenerator to read images from directories\n",
        "As you know by now, data should be formatted into appropriately preprocessed floatingpoint tensors before being fed into the network. Currently, the data sits on a drive as JPEG files, so the steps for getting it into the network are roughly as follows:\n",
        "\n",
        "* Read the picture files.\n",
        "* Decode the JPEG content to RGB grids of pixels.\n",
        "* Convert these into floating-point tensors.\n",
        "* Rescale the pixel values (between 0 and 255) to the [0, 1] interval (as you know, neural networks prefer to deal with small input values).\n",
        "\n",
        "It may seem a bit daunting, but fortunately Keras has utilities to take care of these steps automatically. Keras has a module with image-processing helper tools, located at keras.preprocessing.image. In particular, it contains the class ImageDataGenerator,which lets you quickly set up Python generators that can automatically turn image files on disk into batches of preprocessed tensors."
      ]
    },
    {
      "cell_type": "code",
      "metadata": {
        "id": "XJ7XU7t9sEh6",
        "colab": {
          "base_uri": "https://localhost:8080/"
        },
        "outputId": "6bf17094-dba1-468d-def3-faadd4431968"
      },
      "source": [
        "from keras.preprocessing.image import ImageDataGenerator\n",
        "\n",
        "train_datagen = ImageDataGenerator(rescale=1./255)\n",
        "test_datagen = ImageDataGenerator(rescale=1./255)\n",
        "\n",
        "train_generator = train_datagen.flow_from_directory(train_dir,\n",
        "                                                    target_size=(150, 150), \n",
        "                                                    batch_size=20,\n",
        "                                                    class_mode='binary')\n",
        "\n",
        "validation_generator = test_datagen.flow_from_directory(validation_dir,\n",
        "                                                        target_size=(150, 150),\n",
        "                                                        batch_size=20,\n",
        "                                                        class_mode='binary')"
      ],
      "execution_count": 20,
      "outputs": [
        {
          "output_type": "stream",
          "text": [
            "Found 2000 images belonging to 2 classes.\n",
            "Found 1000 images belonging to 2 classes.\n"
          ],
          "name": "stdout"
        }
      ]
    },
    {
      "cell_type": "markdown",
      "metadata": {
        "id": "SEgLywySqm4u"
      },
      "source": [
        "Let’s fit the model to the data using the generator. You do so using the fit_generator method, the equivalent of fit for data generators like this one. It expects as its first argument a Python generator that will yield batches of inputs and targets indefinitely,like this one does. Because the data is being generated endlessly, the Keras model needs to know how many samples to draw from the generator before declaring anepoch over. This is the role of the `steps_per_epoch` argument: after having drawn `steps_per_epoch` batches from the generator—that is, after having run for `steps_per_epoch` gradient descent steps—the fitting process will go to the next epoch. In this case, batches are 20 samples, so it will take 100 batches until you see your target of 2,000 samples.\n",
        "\n",
        "When using fit_generator, you can pass a validation_data argument, much as with the fit method. It’s important to note that this argument is allowed to be a data generator, but it could also be a tuple of Numpy arrays. If you pass a generator as validation_data, then this generator is expected to yield batches of validation data endlessly; thus you should also specify the validation_steps argument, which tells the process how many batches to draw from the validation generator for evaluation."
      ]
    },
    {
      "cell_type": "code",
      "metadata": {
        "colab": {
          "base_uri": "https://localhost:8080/"
        },
        "id": "yMyfPphJsJG6",
        "outputId": "6dd190e7-01b3-44c5-d4a8-8ca99231aba2"
      },
      "source": [
        "history = model.fit(train_generator,\n",
        "                              steps_per_epoch=100,\n",
        "                              epochs=30,\n",
        "                              validation_data=validation_generator,\n",
        "                              validation_steps=10)"
      ],
      "execution_count": null,
      "outputs": [
        {
          "output_type": "stream",
          "text": [
            "Epoch 1/30\n",
            "100/100 [==============================] - 87s 862ms/step - loss: 0.6997 - acc: 0.4972 - val_loss: 0.6766 - val_acc: 0.6300\n",
            "Epoch 2/30\n",
            "100/100 [==============================] - 86s 857ms/step - loss: 0.6609 - acc: 0.6049 - val_loss: 0.6469 - val_acc: 0.6450\n",
            "Epoch 3/30\n",
            "100/100 [==============================] - 86s 862ms/step - loss: 0.6209 - acc: 0.6625 - val_loss: 0.5941 - val_acc: 0.6800\n",
            "Epoch 4/30\n",
            "100/100 [==============================] - 86s 861ms/step - loss: 0.5709 - acc: 0.7004 - val_loss: 0.5136 - val_acc: 0.7650\n",
            "Epoch 5/30\n",
            "100/100 [==============================] - 86s 861ms/step - loss: 0.5278 - acc: 0.7359 - val_loss: 0.5966 - val_acc: 0.6700\n",
            "Epoch 6/30\n",
            "100/100 [==============================] - 86s 862ms/step - loss: 0.5153 - acc: 0.7532 - val_loss: 0.5584 - val_acc: 0.6900\n",
            "Epoch 7/30\n",
            "100/100 [==============================] - 86s 861ms/step - loss: 0.4810 - acc: 0.7717 - val_loss: 0.5547 - val_acc: 0.7250\n",
            "Epoch 8/30\n",
            "100/100 [==============================] - 86s 863ms/step - loss: 0.4515 - acc: 0.7917 - val_loss: 0.5178 - val_acc: 0.7150\n",
            "Epoch 9/30\n",
            "100/100 [==============================] - 86s 863ms/step - loss: 0.4156 - acc: 0.8158 - val_loss: 0.5738 - val_acc: 0.7050\n",
            "Epoch 10/30\n",
            "100/100 [==============================] - 86s 863ms/step - loss: 0.3932 - acc: 0.8343 - val_loss: 0.5910 - val_acc: 0.6750\n",
            "Epoch 11/30\n",
            "100/100 [==============================] - 86s 861ms/step - loss: 0.3571 - acc: 0.8382 - val_loss: 0.6046 - val_acc: 0.6650\n",
            "Epoch 12/30\n",
            "100/100 [==============================] - 86s 862ms/step - loss: 0.3477 - acc: 0.8564 - val_loss: 0.5162 - val_acc: 0.7600\n",
            "Epoch 13/30\n",
            "100/100 [==============================] - 86s 864ms/step - loss: 0.3241 - acc: 0.8669 - val_loss: 0.5294 - val_acc: 0.7200\n",
            "Epoch 14/30\n",
            "100/100 [==============================] - 86s 862ms/step - loss: 0.2964 - acc: 0.8758 - val_loss: 0.5805 - val_acc: 0.7600\n",
            "Epoch 15/30\n",
            "100/100 [==============================] - 86s 862ms/step - loss: 0.2697 - acc: 0.8846 - val_loss: 0.6007 - val_acc: 0.7350\n",
            "Epoch 16/30\n",
            "100/100 [==============================] - 86s 863ms/step - loss: 0.2330 - acc: 0.9175 - val_loss: 0.6787 - val_acc: 0.6800\n",
            "Epoch 17/30\n",
            "100/100 [==============================] - 86s 864ms/step - loss: 0.2197 - acc: 0.9276 - val_loss: 0.5986 - val_acc: 0.7500\n",
            "Epoch 18/30\n",
            "100/100 [==============================] - 87s 867ms/step - loss: 0.2008 - acc: 0.9266 - val_loss: 0.6755 - val_acc: 0.7150\n",
            "Epoch 19/30\n",
            "100/100 [==============================] - 86s 864ms/step - loss: 0.1766 - acc: 0.9368 - val_loss: 0.6865 - val_acc: 0.7300\n",
            "Epoch 20/30\n",
            "100/100 [==============================] - 87s 867ms/step - loss: 0.1586 - acc: 0.9442 - val_loss: 0.7345 - val_acc: 0.6950\n",
            "Epoch 21/30\n",
            "100/100 [==============================] - 87s 870ms/step - loss: 0.1392 - acc: 0.9495 - val_loss: 0.7217 - val_acc: 0.7500\n",
            "Epoch 22/30\n",
            "100/100 [==============================] - 87s 868ms/step - loss: 0.1157 - acc: 0.9688 - val_loss: 0.7327 - val_acc: 0.7150\n",
            "Epoch 23/30\n",
            "100/100 [==============================] - 87s 866ms/step - loss: 0.0959 - acc: 0.9731 - val_loss: 0.7470 - val_acc: 0.7250\n",
            "Epoch 24/30\n",
            "100/100 [==============================] - 87s 866ms/step - loss: 0.0890 - acc: 0.9737 - val_loss: 0.8159 - val_acc: 0.7600\n",
            "Epoch 25/30\n",
            "100/100 [==============================] - 87s 866ms/step - loss: 0.0734 - acc: 0.9741 - val_loss: 0.7927 - val_acc: 0.7350\n",
            "Epoch 26/30\n",
            "100/100 [==============================] - 87s 865ms/step - loss: 0.0600 - acc: 0.9853 - val_loss: 0.6639 - val_acc: 0.7550\n",
            "Epoch 27/30\n",
            "100/100 [==============================] - 87s 865ms/step - loss: 0.0598 - acc: 0.9818 - val_loss: 1.1399 - val_acc: 0.7050\n",
            "Epoch 28/30\n",
            "100/100 [==============================] - 87s 866ms/step - loss: 0.0486 - acc: 0.9874 - val_loss: 0.9253 - val_acc: 0.7500\n",
            "Epoch 29/30\n",
            "100/100 [==============================] - 87s 868ms/step - loss: 0.0379 - acc: 0.9900 - val_loss: 0.9355 - val_acc: 0.7150\n",
            "Epoch 30/30\n",
            "100/100 [==============================] - 87s 866ms/step - loss: 0.0295 - acc: 0.9962 - val_loss: 1.0143 - val_acc: 0.7250\n"
          ],
          "name": "stdout"
        }
      ]
    },
    {
      "cell_type": "code",
      "metadata": {
        "id": "MZaZ2HWZsNUi",
        "colab": {
          "base_uri": "https://localhost:8080/",
          "height": 545
        },
        "outputId": "d2e8bdfe-3a48-44ae-cd1f-f93a403520e2"
      },
      "source": [
        "model.save('cats_and_dogs_small_1.h5')\n",
        "\n",
        "import matplotlib.pyplot as plt\n",
        "\n",
        "acc = history.history['acc']\n",
        "val_acc = history.history['val_acc']\n",
        "loss = history.history['loss']\n",
        "val_loss = history.history['val_loss']\n",
        "\n",
        "epochs = range(1, len(acc) + 1)\n",
        "\n",
        "plt.plot(epochs, acc, 'bo', label='Training acc')\n",
        "plt.plot(epochs, val_acc, 'b', label='Validation acc')\n",
        "plt.title('Training and validation accuracy')\n",
        "plt.legend()\n",
        "\n",
        "plt.figure()\n",
        "\n",
        "plt.plot(epochs, loss, 'bo', label='Training loss')\n",
        "plt.plot(epochs, val_loss, 'b', label='Validation loss')\n",
        "plt.title('Training and validation loss')\n",
        "plt.legend()\n",
        "\n",
        "plt.show()"
      ],
      "execution_count": null,
      "outputs": [
        {
          "output_type": "display_data",
          "data": {
            "image/png": "[encoded data removed]",
            "text/plain": [
              "<Figure size 432x288 with 1 Axes>"
            ]
          },
          "metadata": {
            "tags": [],
            "needs_background": "light"
          }
        },
        {
          "output_type": "display_data",
          "data": {
            "image/png": "[encoded data removed]",
            "text/plain": [
              "<Figure size 432x288 with 1 Axes>"
            ]
          },
          "metadata": {
            "tags": [],
            "needs_background": "light"
          }
        }
      ]
    },
    {
      "cell_type": "markdown",
      "metadata": {
        "id": "XKZmXmBcq_8-"
      },
      "source": [
        "## Convolutional Networks with Dropout\n",
        "\n",
        "![alt text](https://camo.githubusercontent.com/ee6fa1073247cd2c3d241300caf110d7a7541bc5/68747470733a2f2f63646e2d696d616765732d312e6d656469756d2e636f6d2f6d61782f3830302f312a4972644a355067684439596f4f7956415137334d4a772e676966)\n",
        "\n",
        "Ref: https://github.com/mneha4/Training-Neural-Nets---Guidelines"
      ]
    },
    {
      "cell_type": "code",
      "metadata": {
        "id": "wu3cqeYQrDeN"
      },
      "source": [
        "model = models.Sequential()\n",
        "model.add(layers.Conv2D(32, (3, 3), activation='relu',\n",
        "input_shape=(150, 150, 3)))\n",
        "model.add(layers.MaxPooling2D((2, 2)))\n",
        "model.add(layers.Conv2D(64, (3, 3), activation='relu'))\n",
        "model.add(layers.MaxPooling2D((2, 2)))\n",
        "model.add(layers.Conv2D(128, (3, 3), activation='relu'))\n",
        "model.add(layers.MaxPooling2D((2, 2)))\n",
        "model.add(layers.Conv2D(128, (3, 3), activation='relu'))\n",
        "model.add(layers.MaxPooling2D((2, 2)))\n",
        "model.add(layers.Flatten())\n",
        "model.add(layers.Dropout(0.5))\n",
        "model.add(layers.Dense(512, activation='relu'))\n",
        "model.add(layers.Dense(1, activation='sigmoid'))\n",
        "\n",
        "model.compile(loss='binary_crossentropy',\n",
        "              optimizer=optimizers.RMSprop(lr=1e-4),\n",
        "              metrics=['acc'])"
      ],
      "execution_count": null,
      "outputs": []
    },
    {
      "cell_type": "code",
      "metadata": {
        "id": "QSeLpvY0rH7F",
        "colab": {
          "base_uri": "https://localhost:8080/"
        },
        "outputId": "0581062d-ff0a-4589-adb7-f1482975ef6a"
      },
      "source": [
        "\n",
        "train_datagen = ImageDataGenerator(rescale=1./255,\n",
        "                                   rotation_range=40,\n",
        "                                   width_shift_range=0.2,\n",
        "                                   height_shift_range=0.2,\n",
        "                                   shear_range=0.2,\n",
        "                                   zoom_range=0.2,\n",
        "                                   horizontal_flip=True,)\n",
        "\n",
        "test_datagen = ImageDataGenerator(rescale=1./255)\n",
        "\n",
        "train_generator = train_datagen.flow_from_directory(train_dir,\n",
        "                                                    target_size=(150, 150),\n",
        "                                                    batch_size=20,\n",
        "                                                    class_mode='binary')\n",
        "\n",
        "validation_generator = test_datagen.flow_from_directory(validation_dir,\n",
        "                                                        target_size=(150, 150),\n",
        "                                                        batch_size=20,\n",
        "                                                        class_mode='binary')\n"
      ],
      "execution_count": null,
      "outputs": [
        {
          "output_type": "stream",
          "text": [
            "Found 2000 images belonging to 2 classes.\n",
            "Found 1000 images belonging to 2 classes.\n"
          ],
          "name": "stdout"
        }
      ]
    },
    {
      "cell_type": "code",
      "metadata": {
        "id": "1GnTZ2R8U7Cr",
        "colab": {
          "base_uri": "https://localhost:8080/"
        },
        "outputId": "5c498653-e22d-4853-af21-92035a2e9ba2"
      },
      "source": [
        "\n",
        "history = model.fit(train_generator,\n",
        "                              steps_per_epoch=100,\n",
        "                              epochs=20,\n",
        "                              validation_data=validation_generator,\n",
        "                              validation_steps=50)"
      ],
      "execution_count": null,
      "outputs": [
        {
          "output_type": "stream",
          "text": [
            "Epoch 1/20\n",
            "100/100 [==============================] - 107s 1s/step - loss: 0.6800 - acc: 0.5705 - val_loss: 0.6929 - val_acc: 0.5200\n",
            "Epoch 2/20\n",
            "100/100 [==============================] - 103s 1s/step - loss: 0.6721 - acc: 0.5850 - val_loss: 0.6629 - val_acc: 0.5730\n",
            "Epoch 3/20\n",
            "100/100 [==============================] - 103s 1s/step - loss: 0.6609 - acc: 0.6060 - val_loss: 0.6560 - val_acc: 0.5890\n",
            "Epoch 4/20\n",
            "100/100 [==============================] - 104s 1s/step - loss: 0.6494 - acc: 0.6230 - val_loss: 0.7911 - val_acc: 0.5230\n",
            "Epoch 5/20\n",
            "100/100 [==============================] - 103s 1s/step - loss: 0.6277 - acc: 0.6410 - val_loss: 0.5934 - val_acc: 0.6740\n",
            "Epoch 6/20\n",
            "100/100 [==============================] - 103s 1s/step - loss: 0.6162 - acc: 0.6550 - val_loss: 0.6519 - val_acc: 0.6140\n",
            "Epoch 7/20\n",
            "100/100 [==============================] - 103s 1s/step - loss: 0.6042 - acc: 0.6635 - val_loss: 0.5683 - val_acc: 0.6940\n",
            "Epoch 8/20\n",
            "100/100 [==============================] - 104s 1s/step - loss: 0.6017 - acc: 0.6750 - val_loss: 0.5586 - val_acc: 0.6900\n",
            "Epoch 9/20\n",
            "100/100 [==============================] - 104s 1s/step - loss: 0.5865 - acc: 0.6820 - val_loss: 0.5629 - val_acc: 0.7040\n",
            "Epoch 10/20\n",
            "100/100 [==============================] - 104s 1s/step - loss: 0.5848 - acc: 0.6840 - val_loss: 0.5608 - val_acc: 0.7050\n",
            "Epoch 11/20\n",
            "100/100 [==============================] - 104s 1s/step - loss: 0.5812 - acc: 0.6890 - val_loss: 0.5472 - val_acc: 0.7220\n",
            "Epoch 12/20\n",
            "100/100 [==============================] - 104s 1s/step - loss: 0.5816 - acc: 0.6955 - val_loss: 0.5863 - val_acc: 0.6830\n",
            "Epoch 13/20\n",
            "100/100 [==============================] - 104s 1s/step - loss: 0.5591 - acc: 0.7055 - val_loss: 0.5459 - val_acc: 0.7190\n",
            "Epoch 14/20\n",
            "100/100 [==============================] - 103s 1s/step - loss: 0.5597 - acc: 0.7060 - val_loss: 0.5573 - val_acc: 0.7120\n",
            "Epoch 15/20\n",
            "100/100 [==============================] - 103s 1s/step - loss: 0.5533 - acc: 0.7250 - val_loss: 0.5318 - val_acc: 0.7210\n",
            "Epoch 16/20\n",
            "100/100 [==============================] - 104s 1s/step - loss: 0.5452 - acc: 0.7310 - val_loss: 0.5178 - val_acc: 0.7380\n",
            "Epoch 17/20\n",
            "100/100 [==============================] - 104s 1s/step - loss: 0.5516 - acc: 0.7115 - val_loss: 0.5583 - val_acc: 0.7100\n",
            "Epoch 18/20\n",
            "100/100 [==============================] - 104s 1s/step - loss: 0.5437 - acc: 0.7335 - val_loss: 0.5702 - val_acc: 0.7050\n",
            "Epoch 19/20\n",
            "100/100 [==============================] - 104s 1s/step - loss: 0.5288 - acc: 0.7365 - val_loss: 0.5392 - val_acc: 0.7260\n",
            "Epoch 20/20\n",
            "100/100 [==============================] - 104s 1s/step - loss: 0.5472 - acc: 0.7125 - val_loss: 0.5416 - val_acc: 0.7250\n"
          ],
          "name": "stdout"
        }
      ]
    },
    {
      "cell_type": "code",
      "metadata": {
        "id": "vYVLABR_V9Lj"
      },
      "source": [
        ""
      ],
      "execution_count": null,
      "outputs": []
    },
    {
      "cell_type": "markdown",
      "metadata": {
        "id": "BRdU5yrkUF_b"
      },
      "source": [
        "# Task 2:\n",
        "\n",
        "We have used Dropout to enhance the performance of the CNN model. Can you please use whatever you like to further enhance the performance from `val_acc: 0.7506`? "
      ]
    },
    {
      "cell_type": "code",
      "metadata": {
        "id": "LLVf0F9IAetK"
      },
      "source": [
        "from keras import layers\n",
        "from keras import models\n"
      ],
      "execution_count": 17,
      "outputs": []
    },
    {
      "cell_type": "code",
      "metadata": {
        "id": "2q5HSSJ0gDiS",
        "colab": {
          "base_uri": "https://localhost:8080/"
        },
        "outputId": "9cb3e3b9-879f-42b2-ab62-034bf33cbb38"
      },
      "source": [
        "model = models.Sequential()\n",
        "model.add(layers.Conv2D(32, (3, 3), activation='relu', input_shape=(150, 150, 3)))\n",
        "model.add(layers.MaxPooling2D((2, 2)))\n",
        "model.add(layers.Conv2D(64, (3, 3), activation='relu'))\n",
        "model.add(layers.MaxPooling2D((2, 2)))\n",
        "model.add(layers.Conv2D(128, (3, 3), activation='relu'))\n",
        "model.add(layers.MaxPooling2D((2, 2)))\n",
        "model.add(layers.Conv2D(128, (3, 3), activation='relu'))\n",
        "model.add(layers.MaxPooling2D((2, 2)))\n",
        "model.add(layers.Flatten())\n",
        "model.add(layers.Dense(512, activation='relu'))\n",
        "model.add(layers.Dropout(0.1))\n",
        "model.add(layers.Dense(128, activation='relu'))\n",
        "model.add(layers.Dropout(0.2))\n",
        "model.add(layers.Dense(64, activation='relu'))\n",
        "model.add(layers.Dropout(0.5))\n",
        "model.add(layers.Dense(1, activation='sigmoid'))\n",
        "\n",
        "model.compile(loss='binary_crossentropy',\n",
        "#               optimizer=optimizers.Adam(0.00001),\n",
        "              optimizer=optimizers.RMSprop(lr=1e-4),\n",
        "              metrics=['acc'])\n",
        "print(model.summary())"
      ],
      "execution_count": 22,
      "outputs": [
        {
          "output_type": "stream",
          "text": [
            "Model: \"sequential_2\"\n",
            "_________________________________________________________________\n",
            "Layer (type)                 Output Shape              Param #   \n",
            "=================================================================\n",
            "conv2d_8 (Conv2D)            (None, 148, 148, 32)      896       \n",
            "_________________________________________________________________\n",
            "max_pooling2d_8 (MaxPooling2 (None, 74, 74, 32)        0         \n",
            "_________________________________________________________________\n",
            "conv2d_9 (Conv2D)            (None, 72, 72, 64)        18496     \n",
            "_________________________________________________________________\n",
            "max_pooling2d_9 (MaxPooling2 (None, 36, 36, 64)        0         \n",
            "_________________________________________________________________\n",
            "conv2d_10 (Conv2D)           (None, 34, 34, 128)       73856     \n",
            "_________________________________________________________________\n",
            "max_pooling2d_10 (MaxPooling (None, 17, 17, 128)       0         \n",
            "_________________________________________________________________\n",
            "conv2d_11 (Conv2D)           (None, 15, 15, 128)       147584    \n",
            "_________________________________________________________________\n",
            "max_pooling2d_11 (MaxPooling (None, 7, 7, 128)         0         \n",
            "_________________________________________________________________\n",
            "flatten_2 (Flatten)          (None, 6272)              0         \n",
            "_________________________________________________________________\n",
            "dense_6 (Dense)              (None, 512)               3211776   \n",
            "_________________________________________________________________\n",
            "dropout_2 (Dropout)          (None, 512)               0         \n",
            "_________________________________________________________________\n",
            "dense_7 (Dense)              (None, 128)               65664     \n",
            "_________________________________________________________________\n",
            "dropout_3 (Dropout)          (None, 128)               0         \n",
            "_________________________________________________________________\n",
            "dense_8 (Dense)              (None, 64)                8256      \n",
            "_________________________________________________________________\n",
            "dropout_4 (Dropout)          (None, 64)                0         \n",
            "_________________________________________________________________\n",
            "dense_9 (Dense)              (None, 1)                 65        \n",
            "=================================================================\n",
            "Total params: 3,526,593\n",
            "Trainable params: 3,526,593\n",
            "Non-trainable params: 0\n",
            "_________________________________________________________________\n",
            "None\n"
          ],
          "name": "stdout"
        }
      ]
    },
    {
      "cell_type": "code",
      "metadata": {
        "id": "BDCZTY1sgN9c",
        "colab": {
          "base_uri": "https://localhost:8080/"
        },
        "outputId": "87ca3d74-e487-4ada-a22b-d24a479ca875"
      },
      "source": [
        "train_datagen = ImageDataGenerator(rescale=1./255,\n",
        "                                   rotation_range=40,\n",
        "                                   width_shift_range=0.2,\n",
        "                                   height_shift_range=0.2,\n",
        "                                   shear_range=0.2,\n",
        "                                   zoom_range=0.2,\n",
        "                                   horizontal_flip=True,)\n",
        "\n",
        "test_datagen = ImageDataGenerator(rescale=1./255)\n",
        "\n",
        "train_generator = train_datagen.flow_from_directory(train_dir,\n",
        "                                                    target_size=(150, 150),\n",
        "                                                    batch_size=20,\n",
        "                                                    class_mode='binary')\n",
        "\n",
        "validation_generator = test_datagen.flow_from_directory(validation_dir,\n",
        "                                                        target_size=(150, 150),\n",
        "                                                        batch_size=20,\n",
        "                                                        class_mode='binary')"
      ],
      "execution_count": 26,
      "outputs": [
        {
          "output_type": "stream",
          "text": [
            "Found 2000 images belonging to 2 classes.\n",
            "Found 1000 images belonging to 2 classes.\n"
          ],
          "name": "stdout"
        }
      ]
    },
    {
      "cell_type": "code",
      "metadata": {
        "id": "n0aE0ZdbgPjO",
        "colab": {
          "base_uri": "https://localhost:8080/"
        },
        "outputId": "c72ae4fd-8d65-4428-b25f-f9917b0647b7"
      },
      "source": [
        "history = model.fit(train_generator,\n",
        "                    steps_per_epoch=100,\n",
        "                              epochs=30,\n",
        "                              validation_data=validation_generator,\n",
        "                              validation_steps=50)"
      ],
      "execution_count": 27,
      "outputs": [
        {
          "output_type": "stream",
          "text": [
            "Epoch 1/30\n",
            "100/100 [==============================] - 17s 172ms/step - loss: 0.5214 - acc: 0.7445 - val_loss: 0.4714 - val_acc: 0.7700\n",
            "Epoch 2/30\n",
            "100/100 [==============================] - 17s 172ms/step - loss: 0.5148 - acc: 0.7495 - val_loss: 0.4902 - val_acc: 0.7660\n",
            "Epoch 3/30\n",
            "100/100 [==============================] - 17s 173ms/step - loss: 0.5000 - acc: 0.7595 - val_loss: 0.4746 - val_acc: 0.7860\n",
            "Epoch 4/30\n",
            "100/100 [==============================] - 17s 171ms/step - loss: 0.5108 - acc: 0.7585 - val_loss: 0.4679 - val_acc: 0.7800\n",
            "Epoch 5/30\n",
            "100/100 [==============================] - 17s 171ms/step - loss: 0.5009 - acc: 0.7630 - val_loss: 0.4599 - val_acc: 0.7880\n",
            "Epoch 6/30\n",
            "100/100 [==============================] - 17s 172ms/step - loss: 0.4921 - acc: 0.7760 - val_loss: 0.4671 - val_acc: 0.7820\n",
            "Epoch 7/30\n",
            "100/100 [==============================] - 17s 171ms/step - loss: 0.4967 - acc: 0.7555 - val_loss: 0.4507 - val_acc: 0.7860\n",
            "Epoch 8/30\n",
            "100/100 [==============================] - 17s 172ms/step - loss: 0.4944 - acc: 0.7650 - val_loss: 0.4411 - val_acc: 0.8050\n",
            "Epoch 9/30\n",
            "100/100 [==============================] - 17s 171ms/step - loss: 0.4939 - acc: 0.7710 - val_loss: 0.4491 - val_acc: 0.8000\n",
            "Epoch 10/30\n",
            "100/100 [==============================] - 17s 170ms/step - loss: 0.4884 - acc: 0.7640 - val_loss: 0.4826 - val_acc: 0.7940\n",
            "Epoch 11/30\n",
            "100/100 [==============================] - 17s 171ms/step - loss: 0.4890 - acc: 0.7650 - val_loss: 0.4694 - val_acc: 0.7810\n",
            "Epoch 12/30\n",
            "100/100 [==============================] - 17s 172ms/step - loss: 0.4836 - acc: 0.7730 - val_loss: 0.4671 - val_acc: 0.7930\n",
            "Epoch 13/30\n",
            "100/100 [==============================] - 17s 173ms/step - loss: 0.4702 - acc: 0.7750 - val_loss: 0.4429 - val_acc: 0.8080\n",
            "Epoch 14/30\n",
            "100/100 [==============================] - 17s 173ms/step - loss: 0.4739 - acc: 0.7760 - val_loss: 0.4374 - val_acc: 0.8000\n",
            "Epoch 15/30\n",
            "100/100 [==============================] - 17s 171ms/step - loss: 0.4675 - acc: 0.7805 - val_loss: 0.5020 - val_acc: 0.7830\n",
            "Epoch 16/30\n",
            "100/100 [==============================] - 17s 173ms/step - loss: 0.4781 - acc: 0.7785 - val_loss: 0.4675 - val_acc: 0.7970\n",
            "Epoch 17/30\n",
            "100/100 [==============================] - 17s 172ms/step - loss: 0.4690 - acc: 0.7755 - val_loss: 0.4672 - val_acc: 0.7820\n",
            "Epoch 18/30\n",
            "100/100 [==============================] - 17s 172ms/step - loss: 0.4651 - acc: 0.7830 - val_loss: 0.4364 - val_acc: 0.8090\n",
            "Epoch 19/30\n",
            "100/100 [==============================] - 17s 173ms/step - loss: 0.4525 - acc: 0.7960 - val_loss: 0.4702 - val_acc: 0.7910\n",
            "Epoch 20/30\n",
            "100/100 [==============================] - 17s 173ms/step - loss: 0.4500 - acc: 0.7920 - val_loss: 0.4222 - val_acc: 0.8220\n",
            "Epoch 21/30\n",
            "100/100 [==============================] - 17s 173ms/step - loss: 0.4530 - acc: 0.7915 - val_loss: 0.4439 - val_acc: 0.7970\n",
            "Epoch 22/30\n",
            "100/100 [==============================] - 17s 172ms/step - loss: 0.4556 - acc: 0.7895 - val_loss: 0.4344 - val_acc: 0.8030\n",
            "Epoch 23/30\n",
            "100/100 [==============================] - 17s 171ms/step - loss: 0.4509 - acc: 0.7980 - val_loss: 0.5042 - val_acc: 0.7730\n",
            "Epoch 24/30\n",
            "100/100 [==============================] - 17s 173ms/step - loss: 0.4508 - acc: 0.7915 - val_loss: 0.4711 - val_acc: 0.7990\n",
            "Epoch 25/30\n",
            "100/100 [==============================] - 17s 172ms/step - loss: 0.4551 - acc: 0.7920 - val_loss: 0.4935 - val_acc: 0.7470\n",
            "Epoch 26/30\n",
            "100/100 [==============================] - 17s 171ms/step - loss: 0.4467 - acc: 0.7925 - val_loss: 0.4548 - val_acc: 0.7980\n",
            "Epoch 27/30\n",
            "100/100 [==============================] - 17s 171ms/step - loss: 0.4315 - acc: 0.8055 - val_loss: 0.4529 - val_acc: 0.8030\n",
            "Epoch 28/30\n",
            "100/100 [==============================] - 17s 172ms/step - loss: 0.4353 - acc: 0.7995 - val_loss: 0.4564 - val_acc: 0.7930\n",
            "Epoch 29/30\n",
            "100/100 [==============================] - 17s 172ms/step - loss: 0.4301 - acc: 0.8040 - val_loss: 0.4390 - val_acc: 0.7890\n",
            "Epoch 30/30\n",
            "100/100 [==============================] - 17s 174ms/step - loss: 0.4316 - acc: 0.8125 - val_loss: 0.4403 - val_acc: 0.8050\n"
          ],
          "name": "stdout"
        }
      ]
    },
    {
      "cell_type": "code",
      "metadata": {
        "colab": {
          "base_uri": "https://localhost:8080/",
          "height": 545
        },
        "id": "V3P77FWHCZZz",
        "outputId": "06a8c896-494c-45d0-9ba7-e70039525451"
      },
      "source": [
        "model.save('cats_and_dogs_small_new.h5')\n",
        "\n",
        "import matplotlib.pyplot as plt\n",
        "\n",
        "acc = history.history['acc']\n",
        "val_acc = history.history['val_acc']\n",
        "loss = history.history['loss']\n",
        "val_loss = history.history['val_loss']\n",
        "\n",
        "epochs = range(1, len(acc) + 1)\n",
        "\n",
        "plt.plot(epochs, acc, 'bo', label='Training acc')\n",
        "plt.plot(epochs, val_acc, 'b', label='Validation acc')\n",
        "plt.title('Training and validation accuracy')\n",
        "plt.legend()\n",
        "\n",
        "plt.figure()\n",
        "\n",
        "plt.plot(epochs, loss, 'bo', label='Training loss')\n",
        "plt.plot(epochs, val_loss, 'b', label='Validation loss')\n",
        "plt.title('Training and validation loss')\n",
        "plt.legend()\n",
        "\n",
        "plt.show()"
      ],
      "execution_count": 28,
      "outputs": [
        {
          "output_type": "display_data",
          "data": {
            "image/png": "[encoded data removed]",
            "text/plain": [
              "<Figure size 432x288 with 1 Axes>"
            ]
          },
          "metadata": {
            "tags": [],
            "needs_background": "light"
          }
        },
        {
          "output_type": "display_data",
          "data": {
            "image/png": "[encoded data removed]",
            "text/plain": [
              "<Figure size 432x288 with 1 Axes>"
            ]
          },
          "metadata": {
            "tags": [],
            "needs_background": "light"
          }
        }
      ]
    }
  ]
}
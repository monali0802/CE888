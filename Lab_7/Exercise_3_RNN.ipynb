{
  "nbformat": 4,
  "nbformat_minor": 0,
  "metadata": {
    "kernelspec": {
      "display_name": "Python 3",
      "language": "python",
      "name": "python3"
    },
    "language_info": {
      "codemirror_mode": {
        "name": "ipython",
        "version": 3
      },
      "file_extension": ".py",
      "mimetype": "text/x-python",
      "name": "python",
      "nbconvert_exporter": "python",
      "pygments_lexer": "ipython3",
      "version": "3.6.5"
    },
    "colab": {
      "name": "Exercise_3_RNN.ipynb",
      "provenance": [],
      "include_colab_link": true
    },
    "accelerator": "GPU"
  },
  "cells": [
    {
      "cell_type": "markdown",
      "metadata": {
        "id": "view-in-github",
        "colab_type": "text"
      },
      "source": [
        "<a href=\"https://colab.research.google.com/github/monali0802/CE888/blob/main/Lab_7/Exercise_3_RNN.ipynb\" target=\"_parent\"><img src=\"https://colab.research.google.com/assets/colab-badge.svg\" alt=\"Open In Colab\"/></a>"
      ]
    },
    {
      "cell_type": "code",
      "metadata": {
        "id": "2OEAdhW0qjg9",
        "colab": {
          "base_uri": "https://localhost:8080/",
          "height": 35
        },
        "outputId": "22a8c631-6642-41ae-8736-b5121cdf366d"
      },
      "source": [
        "import keras\n",
        "keras.__version__"
      ],
      "execution_count": null,
      "outputs": [
        {
          "output_type": "execute_result",
          "data": {
            "application/vnd.google.colaboratory.intrinsic+json": {
              "type": "string"
            },
            "text/plain": [
              "'2.4.3'"
            ]
          },
          "metadata": {
            "tags": []
          },
          "execution_count": 2
        }
      ]
    },
    {
      "cell_type": "code",
      "metadata": {
        "id": "TYsNtFxgqjhC",
        "colab": {
          "base_uri": "https://localhost:8080/"
        },
        "outputId": "4c92187e-838c-476d-b718-c3777b4e7481"
      },
      "source": [
        "from keras.preprocessing.text import Tokenizer\n",
        "samples = ['The cat sat on the mat.', 'The dog ate my homework.']\n",
        "\n",
        "# We create a tokenizer, configured to only take into account the top-1000 most common words\n",
        "tokenizer = Tokenizer(num_words=1000)\n",
        "\n",
        "# This builds the word index\n",
        "tokenizer.fit_on_texts(samples)\n",
        "\n",
        "# This turns strings into lists of integer indices.\n",
        "sequences = tokenizer.texts_to_sequences(samples)\n",
        "\n",
        "# You could also directly get the one-hot binary representations.\n",
        "# Note that other vectorization modes than one-hot encoding are supported!\n",
        "one_hot_results = tokenizer.texts_to_matrix(samples, mode='binary')\n",
        "\n",
        "# This is how you can recover the word index that was computed\n",
        "word_index = tokenizer.word_index\n",
        "print('Found %s unique tokens.' % len(word_index))"
      ],
      "execution_count": null,
      "outputs": [
        {
          "output_type": "stream",
          "text": [
            "Found 9 unique tokens.\n"
          ],
          "name": "stdout"
        }
      ]
    },
    {
      "cell_type": "code",
      "metadata": {
        "id": "_1bFuvqKqjhF",
        "colab": {
          "base_uri": "https://localhost:8080/"
        },
        "outputId": "e71e0854-a195-4497-e601-b6658e67f2cd"
      },
      "source": [
        "one_hot_results"
      ],
      "execution_count": null,
      "outputs": [
        {
          "output_type": "execute_result",
          "data": {
            "text/plain": [
              "array([[0., 1., 1., ..., 0., 0., 0.],\n",
              "       [0., 1., 0., ..., 0., 0., 0.]])"
            ]
          },
          "metadata": {
            "tags": []
          },
          "execution_count": 4
        }
      ]
    },
    {
      "cell_type": "markdown",
      "metadata": {
        "id": "95o1mdJkqjhI"
      },
      "source": [
        "Using word-embeddings "
      ]
    },
    {
      "cell_type": "code",
      "metadata": {
        "id": "DSAIqfdoqjhJ",
        "colab": {
          "base_uri": "https://localhost:8080/"
        },
        "outputId": "a1ba02e2-56da-4c4c-a3d8-c6d8c189b775"
      },
      "source": [
        "from keras.datasets import imdb\n",
        "from keras.preprocessing import sequence\n",
        "\n",
        "max_features = 10000\n",
        "maxlen = 500\n",
        "batch_size = 32\n",
        "print('Loading data...')\n",
        "(input_train, y_train), (input_test, y_test) = imdb.load_data(num_words=max_features)\n",
        "print(len(input_train), 'train sequences')\n",
        "print(len(input_test), 'test sequences')\n",
        "print('Pad sequences (samples x time)')\n",
        "input_train = sequence.pad_sequences(input_train, maxlen=maxlen)\n",
        "input_test = sequence.pad_sequences(input_test, maxlen=maxlen)\n",
        "print('input_train shape:', input_train.shape)\n",
        "print('input_test shape:', input_test.shape)"
      ],
      "execution_count": null,
      "outputs": [
        {
          "output_type": "stream",
          "text": [
            "Loading data...\n",
            "Downloading data from https://storage.googleapis.com/tensorflow/tf-keras-datasets/imdb.npz\n",
            "17465344/17464789 [==============================] - 0s 0us/step\n"
          ],
          "name": "stdout"
        },
        {
          "output_type": "stream",
          "text": [
            "<string>:6: VisibleDeprecationWarning: Creating an ndarray from ragged nested sequences (which is a list-or-tuple of lists-or-tuples-or ndarrays with different lengths or shapes) is deprecated. If you meant to do this, you must specify 'dtype=object' when creating the ndarray\n",
            "/usr/local/lib/python3.7/dist-packages/tensorflow/python/keras/datasets/imdb.py:159: VisibleDeprecationWarning: Creating an ndarray from ragged nested sequences (which is a list-or-tuple of lists-or-tuples-or ndarrays with different lengths or shapes) is deprecated. If you meant to do this, you must specify 'dtype=object' when creating the ndarray\n",
            "  x_train, y_train = np.array(xs[:idx]), np.array(labels[:idx])\n"
          ],
          "name": "stderr"
        },
        {
          "output_type": "stream",
          "text": [
            "25000 train sequences\n",
            "25000 test sequences\n",
            "Pad sequences (samples x time)\n",
            "input_train shape: (25000, 500)\n",
            "input_test shape: (25000, 500)\n"
          ],
          "name": "stdout"
        },
        {
          "output_type": "stream",
          "text": [
            "/usr/local/lib/python3.7/dist-packages/tensorflow/python/keras/datasets/imdb.py:160: VisibleDeprecationWarning: Creating an ndarray from ragged nested sequences (which is a list-or-tuple of lists-or-tuples-or ndarrays with different lengths or shapes) is deprecated. If you meant to do this, you must specify 'dtype=object' when creating the ndarray\n",
            "  x_test, y_test = np.array(xs[idx:]), np.array(labels[idx:])\n"
          ],
          "name": "stderr"
        }
      ]
    },
    {
      "cell_type": "markdown",
      "metadata": {
        "id": "5ssh97qDqjhM"
      },
      "source": [
        "### Training the model with Embedding and SimpleRNN layers"
      ]
    },
    {
      "cell_type": "code",
      "metadata": {
        "id": "t_lIlBilqjhN",
        "colab": {
          "base_uri": "https://localhost:8080/"
        },
        "outputId": "01113072-dfda-4c72-e4a8-225236e1fa61"
      },
      "source": [
        "from keras.layers import Dense\n",
        "from keras.layers import Embedding, SimpleRNN\n",
        "from keras.models import Sequential\n",
        "\n",
        "model = Sequential()\n",
        "model.add(Embedding(max_features, 32))\n",
        "model.add(SimpleRNN(32))\n",
        "model.add(Dense(1, activation='sigmoid'))\n",
        "model.summary()\n",
        "model.compile(optimizer='rmsprop', loss='binary_crossentropy', metrics=['acc'])\n",
        "history = model.fit(input_train, y_train, \n",
        "                    epochs=10,\n",
        "                    batch_size=128,\n",
        "                    validation_split=0.2)\n"
      ],
      "execution_count": null,
      "outputs": [
        {
          "output_type": "stream",
          "text": [
            "Model: \"sequential\"\n",
            "_________________________________________________________________\n",
            "Layer (type)                 Output Shape              Param #   \n",
            "=================================================================\n",
            "embedding (Embedding)        (None, None, 32)          320000    \n",
            "_________________________________________________________________\n",
            "simple_rnn (SimpleRNN)       (None, 32)                2080      \n",
            "_________________________________________________________________\n",
            "dense (Dense)                (None, 1)                 33        \n",
            "=================================================================\n",
            "Total params: 322,113\n",
            "Trainable params: 322,113\n",
            "Non-trainable params: 0\n",
            "_________________________________________________________________\n",
            "Epoch 1/10\n",
            "157/157 [==============================] - 21s 126ms/step - loss: 0.6612 - acc: 0.5741 - val_loss: 0.4199 - val_acc: 0.8254\n",
            "Epoch 2/10\n",
            "157/157 [==============================] - 19s 120ms/step - loss: 0.3911 - acc: 0.8412 - val_loss: 0.4287 - val_acc: 0.8022\n",
            "Epoch 3/10\n",
            "157/157 [==============================] - 19s 120ms/step - loss: 0.2715 - acc: 0.8978 - val_loss: 0.3400 - val_acc: 0.8668\n",
            "Epoch 4/10\n",
            "157/157 [==============================] - 19s 119ms/step - loss: 0.2316 - acc: 0.9146 - val_loss: 0.3364 - val_acc: 0.8716\n",
            "Epoch 5/10\n",
            "157/157 [==============================] - 19s 120ms/step - loss: 0.1815 - acc: 0.9349 - val_loss: 0.3935 - val_acc: 0.8382\n",
            "Epoch 6/10\n",
            "157/157 [==============================] - 19s 120ms/step - loss: 0.1386 - acc: 0.9520 - val_loss: 0.3599 - val_acc: 0.8644\n",
            "Epoch 7/10\n",
            "157/157 [==============================] - 19s 119ms/step - loss: 0.1126 - acc: 0.9624 - val_loss: 0.3908 - val_acc: 0.8566\n",
            "Epoch 8/10\n",
            "157/157 [==============================] - 19s 119ms/step - loss: 0.0891 - acc: 0.9714 - val_loss: 0.4199 - val_acc: 0.8590\n",
            "Epoch 9/10\n",
            "157/157 [==============================] - 19s 121ms/step - loss: 0.0668 - acc: 0.9787 - val_loss: 0.6326 - val_acc: 0.7734\n",
            "Epoch 10/10\n",
            "157/157 [==============================] - 19s 120ms/step - loss: 0.0436 - acc: 0.9868 - val_loss: 0.5073 - val_acc: 0.8510\n"
          ],
          "name": "stdout"
        }
      ]
    },
    {
      "cell_type": "code",
      "metadata": {
        "id": "w03gEZ2RqjhQ",
        "colab": {
          "base_uri": "https://localhost:8080/",
          "height": 545
        },
        "outputId": "3543bb78-08b0-4963-c61e-e2a1eb5f352a"
      },
      "source": [
        "import matplotlib.pyplot as plt\n",
        "\n",
        "acc = history.history['acc']\n",
        "val_acc = history.history['val_acc']\n",
        "loss = history.history['loss']\n",
        "val_loss = history.history['val_loss']\n",
        "\n",
        "epochs = range(1, len(acc) + 1)\n",
        "\n",
        "plt.plot(epochs, acc, 'bo', label='Training acc')\n",
        "plt.plot(epochs, val_acc, 'b', label='Validation acc')\n",
        "plt.title('Training and validation accuracy')\n",
        "plt.legend()\n",
        "\n",
        "plt.figure()\n",
        "\n",
        "plt.plot(epochs, loss, 'bo', label='Training loss')\n",
        "plt.plot(epochs, val_loss, 'b', label='Validation loss')\n",
        "plt.title('Training and validation loss')\n",
        "plt.legend()\n",
        "\n",
        "plt.show()"
      ],
      "execution_count": null,
      "outputs": [
        {
          "output_type": "display_data",
          "data": {
            "image/png": "[encoded data removed]",
            "text/plain": [
              "<Figure size 432x288 with 1 Axes>"
            ]
          },
          "metadata": {
            "tags": [],
            "needs_background": "light"
          }
        },
        {
          "output_type": "display_data",
          "data": {
            "image/png": "[encoded data removed]",
            "text/plain": [
              "<Figure size 432x288 with 1 Axes>"
            ]
          },
          "metadata": {
            "tags": [],
            "needs_background": "light"
          }
        }
      ]
    },
    {
      "cell_type": "markdown",
      "metadata": {
        "id": "mz8CfgKcqjhT"
      },
      "source": [
        "### Training the model with Embedding and SimpleRNN layers"
      ]
    },
    {
      "cell_type": "code",
      "metadata": {
        "id": "U_wjH-KGqjhU",
        "colab": {
          "base_uri": "https://localhost:8080/"
        },
        "outputId": "aba05cfa-6d71-49b8-afbc-b9813c2813c4"
      },
      "source": [
        "from keras.layers import LSTM\n",
        "\n",
        "model = Sequential()\n",
        "model.add(Embedding(max_features, 32))\n",
        "model.add(LSTM(32))\n",
        "model.add(Dense(1, activation='sigmoid'))\n",
        "model.compile(optimizer='rmsprop',\n",
        "loss='binary_crossentropy',\n",
        "metrics=['acc'])\n",
        "history = model.fit(input_train, y_train,\n",
        "                    epochs=10,\n",
        "                    batch_size=128,\n",
        "                    validation_split=0.2)"
      ],
      "execution_count": null,
      "outputs": [
        {
          "output_type": "stream",
          "text": [
            "Epoch 1/10\n",
            "157/157 [==============================] - 45s 275ms/step - loss: 0.5933 - acc: 0.6749 - val_loss: 0.7715 - val_acc: 0.6872\n",
            "Epoch 2/10\n",
            "157/157 [==============================] - 46s 294ms/step - loss: 0.3105 - acc: 0.8845 - val_loss: 0.3212 - val_acc: 0.8740\n",
            "Epoch 3/10\n",
            "157/157 [==============================] - 46s 294ms/step - loss: 0.2226 - acc: 0.9175 - val_loss: 0.3192 - val_acc: 0.8776\n",
            "Epoch 4/10\n",
            "157/157 [==============================] - 46s 295ms/step - loss: 0.1949 - acc: 0.9289 - val_loss: 0.2936 - val_acc: 0.8874\n",
            "Epoch 5/10\n",
            "157/157 [==============================] - 48s 307ms/step - loss: 0.1643 - acc: 0.9416 - val_loss: 0.6469 - val_acc: 0.8050\n",
            "Epoch 6/10\n",
            "157/157 [==============================] - 47s 300ms/step - loss: 0.1473 - acc: 0.9498 - val_loss: 0.2938 - val_acc: 0.8846\n",
            "Epoch 7/10\n",
            "157/157 [==============================] - 47s 300ms/step - loss: 0.1309 - acc: 0.9546 - val_loss: 0.3238 - val_acc: 0.8794\n",
            "Epoch 8/10\n",
            "157/157 [==============================] - 47s 300ms/step - loss: 0.1173 - acc: 0.9594 - val_loss: 0.4522 - val_acc: 0.8662\n",
            "Epoch 9/10\n",
            "157/157 [==============================] - 47s 299ms/step - loss: 0.1201 - acc: 0.9580 - val_loss: 0.3466 - val_acc: 0.8876\n",
            "Epoch 10/10\n",
            "157/157 [==============================] - 50s 320ms/step - loss: 0.1004 - acc: 0.9663 - val_loss: 0.3415 - val_acc: 0.8646\n"
          ],
          "name": "stdout"
        }
      ]
    },
    {
      "cell_type": "code",
      "metadata": {
        "id": "HU4eGq-DqjhX",
        "colab": {
          "base_uri": "https://localhost:8080/",
          "height": 545
        },
        "outputId": "5829138c-6521-48be-a486-c1c4f0a193b0"
      },
      "source": [
        "import matplotlib.pyplot as plt\n",
        "\n",
        "acc = history.history['acc']\n",
        "val_acc = history.history['val_acc']\n",
        "loss = history.history['loss']\n",
        "val_loss = history.history['val_loss']\n",
        "\n",
        "epochs = range(1, len(acc) + 1)\n",
        "\n",
        "plt.plot(epochs, acc, 'bo', label='Training acc')\n",
        "plt.plot(epochs, val_acc, 'b', label='Validation acc')\n",
        "plt.title('Training and validation accuracy')\n",
        "plt.legend()\n",
        "\n",
        "plt.figure()\n",
        "\n",
        "plt.plot(epochs, loss, 'bo', label='Training loss')\n",
        "plt.plot(epochs, val_loss, 'b', label='Validation loss')\n",
        "plt.title('Training and validation loss')\n",
        "plt.legend()\n",
        "\n",
        "plt.show()"
      ],
      "execution_count": null,
      "outputs": [
        {
          "output_type": "display_data",
          "data": {
            "image/png": "[encoded data removed]",
            "text/plain": [
              "<Figure size 432x288 with 1 Axes>"
            ]
          },
          "metadata": {
            "tags": [],
            "needs_background": "light"
          }
        },
        {
          "output_type": "display_data",
          "data": {
            "image/png": "[encoded data removed]",
            "text/plain": [
              "<Figure size 432x288 with 1 Axes>"
            ]
          },
          "metadata": {
            "tags": [],
            "needs_background": "light"
          }
        }
      ]
    },
    {
      "cell_type": "markdown",
      "metadata": {
        "id": "r69U5tFUZ82R"
      },
      "source": [
        "### Task 3: \n",
        "\n",
        "Please consider this Time Series Prediction with LSTM Recurrent Neural Networks. We can see that the LSTM model in the code below has an average error of about 23 passengers (in thousands) on the training dataset, and about 53 passengers (in thousands) on the test dataset. Not that bad. Can you please improve the performance?\n",
        "\n",
        "#### Dataset Discription\n",
        "The problem we are going to look at in this post is the International Airline Passengers prediction problem.\n",
        "This is a problem where, given a year and a month, the task is to predict the number of international airline passengers in units of 1,000. The data ranges from January 1949 to December 1960, or 12 years, with 144 observations.\n",
        "\n"
      ]
    },
    {
      "cell_type": "code",
      "metadata": {
        "colab": {
          "base_uri": "https://localhost:8080/",
          "height": 1000
        },
        "id": "w1vSusoyatCW",
        "outputId": "0679575c-5b67-4f32-a973-e6d025a8a1c3"
      },
      "source": [
        "import numpy\n",
        "import math\n",
        "import matplotlib.pyplot as plt\n",
        "from pandas import read_csv\n",
        "from keras.models import Sequential\n",
        "from keras.layers import Dense\n",
        "from keras.layers import LSTM\n",
        "from sklearn.preprocessing import MinMaxScaler\n",
        "from sklearn.metrics import mean_squared_error\n",
        "# convert an array of values into a dataset matrix\n",
        "def create_dataset(dataset, look_back=1):\n",
        "    dataX, dataY = [], []\n",
        "    for i in range(len(dataset)-look_back-1):\n",
        "        a = dataset[i:(i+look_back), 0]\n",
        "        dataX.append(a)\n",
        "        dataY.append(dataset[i + look_back, 0])\n",
        "    return numpy.array(dataX), numpy.array(dataY)\n",
        "# fix random seed for reproducibility\n",
        "numpy.random.seed(7)\n",
        "# load the dataset\n",
        "dataframe = read_csv('https://raw.githubusercontent.com/jbrownlee/Datasets/master/airline-passengers.csv', usecols=[1], engine='python')\n",
        "dataset = dataframe.values\n",
        "dataset = dataset.astype('float32')\n",
        "# normalize the dataset\n",
        "scaler = MinMaxScaler(feature_range=(0, 1))\n",
        "dataset = scaler.fit_transform(dataset)\n",
        "# split into train and test sets\n",
        "train_size = int(len(dataset) * 0.67)\n",
        "test_size = len(dataset) - train_size\n",
        "train, test = dataset[0:train_size,:], dataset[train_size:len(dataset),:]\n",
        "# reshape into X=t and Y=t+1\n",
        "look_back = 1\n",
        "trainX, trainY = create_dataset(train, look_back)\n",
        "testX, testY = create_dataset(test, look_back)\n",
        "# reshape input to be [samples, time steps, features]\n",
        "trainX = numpy.reshape(trainX, (trainX.shape[0], 1, trainX.shape[1]))\n",
        "testX = numpy.reshape(testX, (testX.shape[0], 1, testX.shape[1]))\n",
        "# create and fit the LSTM network\n",
        "model = Sequential()\n",
        "model.add(LSTM(40, input_shape=(1, look_back)))\n",
        "model.add(Dense(1, activation='sigmoid'))\n",
        "model.compile(loss='binary_crossentropy', optimizer='adam', metrics=['accuracy'])\n",
        "model.fit(trainX, trainY, epochs=100, batch_size=1, verbose=2)\n",
        "# make predictions\n",
        "trainPredict = model.predict(trainX)\n",
        "testPredict = model.predict(testX)\n",
        "# invert predictions\n",
        "trainPredict = scaler.inverse_transform(trainPredict)\n",
        "trainY = scaler.inverse_transform([trainY])\n",
        "testPredict = scaler.inverse_transform(testPredict)\n",
        "testY = scaler.inverse_transform([testY])\n",
        "# calculate root mean squared error\n",
        "trainScore = math.sqrt(mean_squared_error(trainY[0], trainPredict[:,0]))\n",
        "print('Train Score: %.2f RMSE' % (trainScore))\n",
        "testScore = math.sqrt(mean_squared_error(testY[0], testPredict[:,0]))\n",
        "print('Test Score: %.2f RMSE' % (testScore))\n",
        "# shift train predictions for plotting\n",
        "trainPredictPlot = numpy.empty_like(dataset)\n",
        "trainPredictPlot[:, :] = numpy.nan\n",
        "trainPredictPlot[look_back:len(trainPredict)+look_back, :] = trainPredict\n",
        "# shift test predictions for plotting\n",
        "testPredictPlot = numpy.empty_like(dataset)\n",
        "testPredictPlot[:, :] = numpy.nan\n",
        "testPredictPlot[len(trainPredict)+(look_back*2)+1:len(dataset)-1, :] = testPredict\n",
        "# plot baseline and predictions\n",
        "plt.plot(scaler.inverse_transform(dataset))\n",
        "plt.plot(trainPredictPlot)\n",
        "plt.plot(testPredictPlot)\n",
        "plt.show()"
      ],
      "execution_count": 1,
      "outputs": [
        {
          "output_type": "stream",
          "text": [
            "Epoch 1/100\n",
            "94/94 - 2s - loss: 0.6527 - accuracy: 0.0106\n",
            "Epoch 2/100\n",
            "94/94 - 0s - loss: 0.5667 - accuracy: 0.0106\n",
            "Epoch 3/100\n",
            "94/94 - 0s - loss: 0.5315 - accuracy: 0.0106\n",
            "Epoch 4/100\n",
            "94/94 - 0s - loss: 0.5238 - accuracy: 0.0106\n",
            "Epoch 5/100\n",
            "94/94 - 0s - loss: 0.5186 - accuracy: 0.0106\n",
            "Epoch 6/100\n",
            "94/94 - 0s - loss: 0.5144 - accuracy: 0.0106\n",
            "Epoch 7/100\n",
            "94/94 - 0s - loss: 0.5104 - accuracy: 0.0106\n",
            "Epoch 8/100\n",
            "94/94 - 0s - loss: 0.5066 - accuracy: 0.0106\n",
            "Epoch 9/100\n",
            "94/94 - 0s - loss: 0.5040 - accuracy: 0.0106\n",
            "Epoch 10/100\n",
            "94/94 - 0s - loss: 0.4989 - accuracy: 0.0106\n",
            "Epoch 11/100\n",
            "94/94 - 0s - loss: 0.4953 - accuracy: 0.0106\n",
            "Epoch 12/100\n",
            "94/94 - 0s - loss: 0.4919 - accuracy: 0.0106\n",
            "Epoch 13/100\n",
            "94/94 - 0s - loss: 0.4883 - accuracy: 0.0106\n",
            "Epoch 14/100\n",
            "94/94 - 0s - loss: 0.4847 - accuracy: 0.0106\n",
            "Epoch 15/100\n",
            "94/94 - 0s - loss: 0.4816 - accuracy: 0.0106\n",
            "Epoch 16/100\n",
            "94/94 - 0s - loss: 0.4784 - accuracy: 0.0106\n",
            "Epoch 17/100\n",
            "94/94 - 0s - loss: 0.4763 - accuracy: 0.0106\n",
            "Epoch 18/100\n",
            "94/94 - 0s - loss: 0.4737 - accuracy: 0.0106\n",
            "Epoch 19/100\n",
            "94/94 - 0s - loss: 0.4718 - accuracy: 0.0106\n",
            "Epoch 20/100\n",
            "94/94 - 0s - loss: 0.4705 - accuracy: 0.0106\n",
            "Epoch 21/100\n",
            "94/94 - 0s - loss: 0.4695 - accuracy: 0.0106\n",
            "Epoch 22/100\n",
            "94/94 - 0s - loss: 0.4690 - accuracy: 0.0106\n",
            "Epoch 23/100\n",
            "94/94 - 0s - loss: 0.4685 - accuracy: 0.0106\n",
            "Epoch 24/100\n",
            "94/94 - 0s - loss: 0.4683 - accuracy: 0.0106\n",
            "Epoch 25/100\n",
            "94/94 - 0s - loss: 0.4682 - accuracy: 0.0106\n",
            "Epoch 26/100\n",
            "94/94 - 0s - loss: 0.4678 - accuracy: 0.0106\n",
            "Epoch 27/100\n",
            "94/94 - 0s - loss: 0.4680 - accuracy: 0.0106\n",
            "Epoch 28/100\n",
            "94/94 - 0s - loss: 0.4679 - accuracy: 0.0106\n",
            "Epoch 29/100\n",
            "94/94 - 0s - loss: 0.4678 - accuracy: 0.0106\n",
            "Epoch 30/100\n",
            "94/94 - 0s - loss: 0.4678 - accuracy: 0.0106\n",
            "Epoch 31/100\n",
            "94/94 - 0s - loss: 0.4677 - accuracy: 0.0106\n",
            "Epoch 32/100\n",
            "94/94 - 0s - loss: 0.4676 - accuracy: 0.0106\n",
            "Epoch 33/100\n",
            "94/94 - 0s - loss: 0.4673 - accuracy: 0.0106\n",
            "Epoch 34/100\n",
            "94/94 - 0s - loss: 0.4674 - accuracy: 0.0106\n",
            "Epoch 35/100\n",
            "94/94 - 0s - loss: 0.4675 - accuracy: 0.0106\n",
            "Epoch 36/100\n",
            "94/94 - 0s - loss: 0.4674 - accuracy: 0.0106\n",
            "Epoch 37/100\n",
            "94/94 - 0s - loss: 0.4674 - accuracy: 0.0106\n",
            "Epoch 38/100\n",
            "94/94 - 0s - loss: 0.4675 - accuracy: 0.0106\n",
            "Epoch 39/100\n",
            "94/94 - 0s - loss: 0.4673 - accuracy: 0.0106\n",
            "Epoch 40/100\n",
            "94/94 - 0s - loss: 0.4673 - accuracy: 0.0106\n",
            "Epoch 41/100\n",
            "94/94 - 0s - loss: 0.4675 - accuracy: 0.0106\n",
            "Epoch 42/100\n",
            "94/94 - 0s - loss: 0.4672 - accuracy: 0.0106\n",
            "Epoch 43/100\n",
            "94/94 - 0s - loss: 0.4671 - accuracy: 0.0106\n",
            "Epoch 44/100\n",
            "94/94 - 0s - loss: 0.4672 - accuracy: 0.0106\n",
            "Epoch 45/100\n",
            "94/94 - 0s - loss: 0.4671 - accuracy: 0.0106\n",
            "Epoch 46/100\n",
            "94/94 - 0s - loss: 0.4671 - accuracy: 0.0106\n",
            "Epoch 47/100\n",
            "94/94 - 0s - loss: 0.4671 - accuracy: 0.0106\n",
            "Epoch 48/100\n",
            "94/94 - 0s - loss: 0.4669 - accuracy: 0.0106\n",
            "Epoch 49/100\n",
            "94/94 - 0s - loss: 0.4669 - accuracy: 0.0106\n",
            "Epoch 50/100\n",
            "94/94 - 0s - loss: 0.4669 - accuracy: 0.0106\n",
            "Epoch 51/100\n",
            "94/94 - 0s - loss: 0.4670 - accuracy: 0.0106\n",
            "Epoch 52/100\n",
            "94/94 - 0s - loss: 0.4668 - accuracy: 0.0106\n",
            "Epoch 53/100\n",
            "94/94 - 0s - loss: 0.4667 - accuracy: 0.0106\n",
            "Epoch 54/100\n",
            "94/94 - 0s - loss: 0.4668 - accuracy: 0.0106\n",
            "Epoch 55/100\n",
            "94/94 - 0s - loss: 0.4666 - accuracy: 0.0106\n",
            "Epoch 56/100\n",
            "94/94 - 0s - loss: 0.4668 - accuracy: 0.0106\n",
            "Epoch 57/100\n",
            "94/94 - 0s - loss: 0.4666 - accuracy: 0.0106\n",
            "Epoch 58/100\n",
            "94/94 - 0s - loss: 0.4667 - accuracy: 0.0106\n",
            "Epoch 59/100\n",
            "94/94 - 0s - loss: 0.4665 - accuracy: 0.0106\n",
            "Epoch 60/100\n",
            "94/94 - 0s - loss: 0.4667 - accuracy: 0.0106\n",
            "Epoch 61/100\n",
            "94/94 - 0s - loss: 0.4665 - accuracy: 0.0106\n",
            "Epoch 62/100\n",
            "94/94 - 0s - loss: 0.4664 - accuracy: 0.0106\n",
            "Epoch 63/100\n",
            "94/94 - 0s - loss: 0.4664 - accuracy: 0.0106\n",
            "Epoch 64/100\n",
            "94/94 - 0s - loss: 0.4664 - accuracy: 0.0106\n",
            "Epoch 65/100\n",
            "94/94 - 0s - loss: 0.4663 - accuracy: 0.0106\n",
            "Epoch 66/100\n",
            "94/94 - 0s - loss: 0.4663 - accuracy: 0.0106\n",
            "Epoch 67/100\n",
            "94/94 - 0s - loss: 0.4666 - accuracy: 0.0106\n",
            "Epoch 68/100\n",
            "94/94 - 0s - loss: 0.4664 - accuracy: 0.0106\n",
            "Epoch 69/100\n",
            "94/94 - 0s - loss: 0.4663 - accuracy: 0.0106\n",
            "Epoch 70/100\n",
            "94/94 - 0s - loss: 0.4662 - accuracy: 0.0106\n",
            "Epoch 71/100\n",
            "94/94 - 0s - loss: 0.4662 - accuracy: 0.0106\n",
            "Epoch 72/100\n",
            "94/94 - 0s - loss: 0.4662 - accuracy: 0.0106\n",
            "Epoch 73/100\n",
            "94/94 - 0s - loss: 0.4661 - accuracy: 0.0106\n",
            "Epoch 74/100\n",
            "94/94 - 0s - loss: 0.4659 - accuracy: 0.0106\n",
            "Epoch 75/100\n",
            "94/94 - 0s - loss: 0.4661 - accuracy: 0.0106\n",
            "Epoch 76/100\n",
            "94/94 - 0s - loss: 0.4661 - accuracy: 0.0106\n",
            "Epoch 77/100\n",
            "94/94 - 0s - loss: 0.4661 - accuracy: 0.0106\n",
            "Epoch 78/100\n",
            "94/94 - 0s - loss: 0.4662 - accuracy: 0.0106\n",
            "Epoch 79/100\n",
            "94/94 - 0s - loss: 0.4660 - accuracy: 0.0106\n",
            "Epoch 80/100\n",
            "94/94 - 0s - loss: 0.4661 - accuracy: 0.0106\n",
            "Epoch 81/100\n",
            "94/94 - 0s - loss: 0.4662 - accuracy: 0.0106\n",
            "Epoch 82/100\n",
            "94/94 - 0s - loss: 0.4660 - accuracy: 0.0106\n",
            "Epoch 83/100\n",
            "94/94 - 0s - loss: 0.4660 - accuracy: 0.0106\n",
            "Epoch 84/100\n",
            "94/94 - 0s - loss: 0.4659 - accuracy: 0.0106\n",
            "Epoch 85/100\n",
            "94/94 - 0s - loss: 0.4663 - accuracy: 0.0106\n",
            "Epoch 86/100\n",
            "94/94 - 0s - loss: 0.4659 - accuracy: 0.0106\n",
            "Epoch 87/100\n",
            "94/94 - 0s - loss: 0.4658 - accuracy: 0.0106\n",
            "Epoch 88/100\n",
            "94/94 - 0s - loss: 0.4660 - accuracy: 0.0106\n",
            "Epoch 89/100\n",
            "94/94 - 0s - loss: 0.4660 - accuracy: 0.0106\n",
            "Epoch 90/100\n",
            "94/94 - 0s - loss: 0.4658 - accuracy: 0.0106\n",
            "Epoch 91/100\n",
            "94/94 - 0s - loss: 0.4657 - accuracy: 0.0106\n",
            "Epoch 92/100\n",
            "94/94 - 0s - loss: 0.4658 - accuracy: 0.0106\n",
            "Epoch 93/100\n",
            "94/94 - 0s - loss: 0.4657 - accuracy: 0.0106\n",
            "Epoch 94/100\n",
            "94/94 - 0s - loss: 0.4659 - accuracy: 0.0106\n",
            "Epoch 95/100\n",
            "94/94 - 0s - loss: 0.4658 - accuracy: 0.0106\n",
            "Epoch 96/100\n",
            "94/94 - 0s - loss: 0.4656 - accuracy: 0.0106\n",
            "Epoch 97/100\n",
            "94/94 - 0s - loss: 0.4658 - accuracy: 0.0106\n",
            "Epoch 98/100\n",
            "94/94 - 0s - loss: 0.4655 - accuracy: 0.0106\n",
            "Epoch 99/100\n",
            "94/94 - 0s - loss: 0.4659 - accuracy: 0.0106\n",
            "Epoch 100/100\n",
            "94/94 - 0s - loss: 0.4659 - accuracy: 0.0106\n",
            "Train Score: 23.56 RMSE\n",
            "Test Score: 62.91 RMSE\n"
          ],
          "name": "stdout"
        },
        {
          "output_type": "display_data",
          "data": {
            "image/png": "[encoded data removed]",
            "text/plain": [
              "<Figure size 432x288 with 1 Axes>"
            ]
          },
          "metadata": {
            "tags": [],
            "needs_background": "light"
          }
        }
      ]
    },
    {
      "cell_type": "markdown",
      "metadata": {
        "id": "ZSz24HhlbUPF"
      },
      "source": [
        ""
      ]
    }
  ]
}
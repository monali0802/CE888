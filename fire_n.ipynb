{
  "nbformat": 4,
  "nbformat_minor": 0,
  "metadata": {
    "colab": {
      "name": "fire_n.ipynb",
      "provenance": [],
      "authorship_tag": "ABX9TyNXO07u/NXQy6LeM4FoGFY5",
      "include_colab_link": true
    },
    "kernelspec": {
      "name": "python3",
      "display_name": "Python 3"
    },
    "accelerator": "GPU"
  },
  "cells": [
    {
      "cell_type": "markdown",
      "metadata": {
        "id": "view-in-github",
        "colab_type": "text"
      },
      "source": [
        "<a href=\"https://colab.research.google.com/github/monali0802/CE888/blob/main/fire_n.ipynb\" target=\"_parent\"><img src=\"https://colab.research.google.com/assets/colab-badge.svg\" alt=\"Open In Colab\"/></a>"
      ]
    },
    {
      "cell_type": "code",
      "metadata": {
        "colab": {
          "base_uri": "https://localhost:8080/"
        },
        "id": "NT8IBXBTSHdt",
        "outputId": "ee02995a-f106-4cb2-8baf-74a05b8b089c"
      },
      "source": [
        "from keras.datasets import fashion_mnist\r\n",
        "(train_X,train_Y), (test_X,test_Y) = fashion_mnist.load_data()"
      ],
      "execution_count": 1,
      "outputs": [
        {
          "output_type": "stream",
          "text": [
            "Downloading data from https://storage.googleapis.com/tensorflow/tf-keras-datasets/train-labels-idx1-ubyte.gz\n",
            "32768/29515 [=================================] - 0s 0us/step\n",
            "Downloading data from https://storage.googleapis.com/tensorflow/tf-keras-datasets/train-images-idx3-ubyte.gz\n",
            "26427392/26421880 [==============================] - 0s 0us/step\n",
            "Downloading data from https://storage.googleapis.com/tensorflow/tf-keras-datasets/t10k-labels-idx1-ubyte.gz\n",
            "8192/5148 [===============================================] - 0s 0us/step\n",
            "Downloading data from https://storage.googleapis.com/tensorflow/tf-keras-datasets/t10k-images-idx3-ubyte.gz\n",
            "4423680/4422102 [==============================] - 0s 0us/step\n"
          ],
          "name": "stdout"
        }
      ]
    },
    {
      "cell_type": "code",
      "metadata": {
        "colab": {
          "base_uri": "https://localhost:8080/"
        },
        "id": "On4m1RZpSqyd",
        "outputId": "0416f7b5-16b0-45ce-8b12-444f4bd79048"
      },
      "source": [
        "import numpy as np\r\n",
        "from keras.utils import to_categorical\r\n",
        "import matplotlib.pyplot as plt\r\n",
        "%matplotlib inline\r\n",
        "\r\n",
        "print('Training data shape : ', train_X.shape, train_Y.shape)\r\n",
        "\r\n",
        "print('Testing data shape : ', test_X.shape, test_Y.shape)"
      ],
      "execution_count": 2,
      "outputs": [
        {
          "output_type": "stream",
          "text": [
            "Training data shape :  (60000, 28, 28) (60000,)\n",
            "Testing data shape :  (10000, 28, 28) (10000,)\n"
          ],
          "name": "stdout"
        }
      ]
    },
    {
      "cell_type": "code",
      "metadata": {
        "colab": {
          "base_uri": "https://localhost:8080/"
        },
        "id": "LMvefCbPS_L9",
        "outputId": "02f6021d-f6e5-4e11-a9ae-c6214ca81a70"
      },
      "source": [
        "classes = np.unique(train_Y)\r\n",
        "nClasses = len(classes)\r\n",
        "print('Total number of outputs : ', nClasses)\r\n",
        "print('Output classes : ', classes)"
      ],
      "execution_count": 3,
      "outputs": [
        {
          "output_type": "stream",
          "text": [
            "Total number of outputs :  10\n",
            "Output classes :  [0 1 2 3 4 5 6 7 8 9]\n"
          ],
          "name": "stdout"
        }
      ]
    },
    {
      "cell_type": "code",
      "metadata": {
        "colab": {
          "base_uri": "https://localhost:8080/",
          "height": 208
        },
        "id": "8rnhjgAXTHu4",
        "outputId": "1b753d13-ec7b-4bcf-c08d-f1188267ec2a"
      },
      "source": [
        "plt.figure(figsize=[5,5])\r\n",
        "\r\n",
        "# Display the first image in training data\r\n",
        "plt.subplot(121)\r\n",
        "plt.imshow(train_X[0,:,:], cmap='gray')\r\n",
        "plt.title(\"Ground Truth : {}\".format(train_Y[0]))\r\n",
        "\r\n",
        "# Display the first image in testing data\r\n",
        "plt.subplot(122)\r\n",
        "plt.imshow(test_X[0,:,:], cmap='gray')\r\n",
        "plt.title(\"Ground Truth : {}\".format(test_Y[0]))"
      ],
      "execution_count": 4,
      "outputs": [
        {
          "output_type": "execute_result",
          "data": {
            "text/plain": [
              "Text(0.5, 1.0, 'Ground Truth : 9')"
            ]
          },
          "metadata": {
            "tags": []
          },
          "execution_count": 4
        },
        {
          "output_type": "display_data",
          "data": {
            "image/png": "[encoded data removed]",
            "text/plain": [
              "<Figure size 360x360 with 2 Axes>"
            ]
          },
          "metadata": {
            "tags": [],
            "needs_background": "light"
          }
        }
      ]
    },
    {
      "cell_type": "code",
      "metadata": {
        "colab": {
          "base_uri": "https://localhost:8080/"
        },
        "id": "FeygRjE_TL04",
        "outputId": "2345af36-4b68-4b51-be66-c315ce2b6a78"
      },
      "source": [
        "train_X = train_X.reshape(-1, 28,28, 1)\r\n",
        "test_X = test_X.reshape(-1, 28,28, 1)\r\n",
        "train_X.shape, test_X.shape"
      ],
      "execution_count": 5,
      "outputs": [
        {
          "output_type": "execute_result",
          "data": {
            "text/plain": [
              "((60000, 28, 28, 1), (10000, 28, 28, 1))"
            ]
          },
          "metadata": {
            "tags": []
          },
          "execution_count": 5
        }
      ]
    },
    {
      "cell_type": "code",
      "metadata": {
        "id": "K6DxzlfuTOnB"
      },
      "source": [
        "train_X = train_X.astype('float32')\r\n",
        "test_X = test_X.astype('float32')\r\n",
        "train_X = train_X / 255.\r\n",
        "test_X = test_X / 255."
      ],
      "execution_count": 6,
      "outputs": []
    },
    {
      "cell_type": "code",
      "metadata": {
        "colab": {
          "base_uri": "https://localhost:8080/"
        },
        "id": "Chj0L296TRfK",
        "outputId": "b6629f48-7495-493a-b575-607d84c677ea"
      },
      "source": [
        "train_Y_one_hot = to_categorical(train_Y)\r\n",
        "test_Y_one_hot = to_categorical(test_Y)\r\n",
        "\r\n",
        "# Display the change for category label using one-hot encoding\r\n",
        "print('Original label:', train_Y[0])\r\n",
        "print('After conversion to one-hot:', train_Y_one_hot[0])"
      ],
      "execution_count": 7,
      "outputs": [
        {
          "output_type": "stream",
          "text": [
            "Original label: 9\n",
            "After conversion to one-hot: [0. 0. 0. 0. 0. 0. 0. 0. 0. 1.]\n"
          ],
          "name": "stdout"
        }
      ]
    },
    {
      "cell_type": "code",
      "metadata": {
        "id": "POJZmMfQTUSB"
      },
      "source": [
        "from sklearn.model_selection import train_test_split\r\n",
        "train_X,valid_X,train_label,valid_label = train_test_split(train_X, train_Y_one_hot, test_size=0.2, random_state=13)"
      ],
      "execution_count": 8,
      "outputs": []
    },
    {
      "cell_type": "code",
      "metadata": {
        "colab": {
          "base_uri": "https://localhost:8080/"
        },
        "id": "uEhav1uwTXbR",
        "outputId": "f6c29fd7-8bad-4248-cc93-3cd7f67fefc9"
      },
      "source": [
        "train_X.shape,valid_X.shape,train_label.shape,valid_label.shape\r\n"
      ],
      "execution_count": 9,
      "outputs": [
        {
          "output_type": "execute_result",
          "data": {
            "text/plain": [
              "((48000, 28, 28, 1), (12000, 28, 28, 1), (48000, 10), (12000, 10))"
            ]
          },
          "metadata": {
            "tags": []
          },
          "execution_count": 9
        }
      ]
    },
    {
      "cell_type": "code",
      "metadata": {
        "id": "9lxz95rLTc88"
      },
      "source": [
        "import keras\r\n",
        "from keras.models import Sequential,Input,Model\r\n",
        "from keras.layers import Dense, Dropout, Flatten\r\n",
        "from keras.layers import Conv2D, MaxPooling2D\r\n",
        "from keras.layers.normalization import BatchNormalization\r\n",
        "from keras.layers.advanced_activations import LeakyReLU"
      ],
      "execution_count": 10,
      "outputs": []
    },
    {
      "cell_type": "code",
      "metadata": {
        "id": "lAnjt8UmTekg"
      },
      "source": [
        "batch_size = 64\r\n",
        "epochs = 20\r\n",
        "num_classes = 10"
      ],
      "execution_count": 11,
      "outputs": []
    },
    {
      "cell_type": "code",
      "metadata": {
        "id": "KPkIk0V5TgvT"
      },
      "source": [
        "fashion_model = Sequential()\r\n",
        "fashion_model.add(Conv2D(32, kernel_size=(3, 3),activation='linear',input_shape=(28,28,1),padding='same'))\r\n",
        "fashion_model.add(LeakyReLU(alpha=0.1))\r\n",
        "fashion_model.add(MaxPooling2D((2, 2),padding='same'))\r\n",
        "fashion_model.add(Conv2D(64, (3, 3), activation='linear',padding='same'))\r\n",
        "fashion_model.add(LeakyReLU(alpha=0.1))\r\n",
        "fashion_model.add(MaxPooling2D(pool_size=(2, 2),padding='same'))\r\n",
        "fashion_model.add(Conv2D(128, (3, 3), activation='linear',padding='same'))\r\n",
        "fashion_model.add(LeakyReLU(alpha=0.1))                  \r\n",
        "fashion_model.add(MaxPooling2D(pool_size=(2, 2),padding='same'))\r\n",
        "fashion_model.add(Flatten())\r\n",
        "fashion_model.add(Dense(128, activation='linear'))\r\n",
        "fashion_model.add(LeakyReLU(alpha=0.1))                  \r\n",
        "fashion_model.add(Dense(num_classes, activation='softmax'))"
      ],
      "execution_count": 12,
      "outputs": []
    },
    {
      "cell_type": "code",
      "metadata": {
        "id": "MQlSeVLQTjPH"
      },
      "source": [
        "fashion_model.compile(loss=keras.losses.categorical_crossentropy, optimizer=keras.optimizers.Adam(),metrics=['accuracy'])\r\n"
      ],
      "execution_count": 13,
      "outputs": []
    },
    {
      "cell_type": "code",
      "metadata": {
        "colab": {
          "base_uri": "https://localhost:8080/"
        },
        "id": "aRWZjzjTTkYO",
        "outputId": "493cc30a-64fd-488a-f30d-7d6093419634"
      },
      "source": [
        "fashion_model.summary()\r\n"
      ],
      "execution_count": 14,
      "outputs": [
        {
          "output_type": "stream",
          "text": [
            "Model: \"sequential\"\n",
            "_________________________________________________________________\n",
            "Layer (type)                 Output Shape              Param #   \n",
            "=================================================================\n",
            "conv2d (Conv2D)              (None, 28, 28, 32)        320       \n",
            "_________________________________________________________________\n",
            "leaky_re_lu (LeakyReLU)      (None, 28, 28, 32)        0         \n",
            "_________________________________________________________________\n",
            "max_pooling2d (MaxPooling2D) (None, 14, 14, 32)        0         \n",
            "_________________________________________________________________\n",
            "conv2d_1 (Conv2D)            (None, 14, 14, 64)        18496     \n",
            "_________________________________________________________________\n",
            "leaky_re_lu_1 (LeakyReLU)    (None, 14, 14, 64)        0         \n",
            "_________________________________________________________________\n",
            "max_pooling2d_1 (MaxPooling2 (None, 7, 7, 64)          0         \n",
            "_________________________________________________________________\n",
            "conv2d_2 (Conv2D)            (None, 7, 7, 128)         73856     \n",
            "_________________________________________________________________\n",
            "leaky_re_lu_2 (LeakyReLU)    (None, 7, 7, 128)         0         \n",
            "_________________________________________________________________\n",
            "max_pooling2d_2 (MaxPooling2 (None, 4, 4, 128)         0         \n",
            "_________________________________________________________________\n",
            "flatten (Flatten)            (None, 2048)              0         \n",
            "_________________________________________________________________\n",
            "dense (Dense)                (None, 128)               262272    \n",
            "_________________________________________________________________\n",
            "leaky_re_lu_3 (LeakyReLU)    (None, 128)               0         \n",
            "_________________________________________________________________\n",
            "dense_1 (Dense)              (None, 10)                1290      \n",
            "=================================================================\n",
            "Total params: 356,234\n",
            "Trainable params: 356,234\n",
            "Non-trainable params: 0\n",
            "_________________________________________________________________\n"
          ],
          "name": "stdout"
        }
      ]
    },
    {
      "cell_type": "code",
      "metadata": {
        "colab": {
          "base_uri": "https://localhost:8080/"
        },
        "id": "SmGffo3RToJ0",
        "outputId": "8524b96b-5619-4924-e42a-abd2bf79ec6e"
      },
      "source": [
        "fashion_train = fashion_model.fit(train_X, train_label, batch_size=batch_size,epochs=epochs,verbose=1,validation_data=(valid_X, valid_label))\r\n"
      ],
      "execution_count": 15,
      "outputs": [
        {
          "output_type": "stream",
          "text": [
            "Epoch 1/20\n",
            "750/750 [==============================] - 85s 112ms/step - loss: 0.6631 - accuracy: 0.7604 - val_loss: 0.3132 - val_accuracy: 0.8849\n",
            "Epoch 2/20\n",
            "750/750 [==============================] - 94s 125ms/step - loss: 0.2981 - accuracy: 0.8913 - val_loss: 0.2701 - val_accuracy: 0.9009\n",
            "Epoch 3/20\n",
            "750/750 [==============================] - 85s 113ms/step - loss: 0.2422 - accuracy: 0.9116 - val_loss: 0.2520 - val_accuracy: 0.9093\n",
            "Epoch 4/20\n",
            "750/750 [==============================] - 85s 114ms/step - loss: 0.2077 - accuracy: 0.9235 - val_loss: 0.2436 - val_accuracy: 0.9137\n",
            "Epoch 5/20\n",
            "750/750 [==============================] - 83s 111ms/step - loss: 0.1752 - accuracy: 0.9355 - val_loss: 0.2398 - val_accuracy: 0.9167\n",
            "Epoch 6/20\n",
            "750/750 [==============================] - 85s 113ms/step - loss: 0.1591 - accuracy: 0.9404 - val_loss: 0.2351 - val_accuracy: 0.9172\n",
            "Epoch 7/20\n",
            "750/750 [==============================] - 86s 114ms/step - loss: 0.1351 - accuracy: 0.9504 - val_loss: 0.2257 - val_accuracy: 0.9239\n",
            "Epoch 8/20\n",
            "750/750 [==============================] - 85s 113ms/step - loss: 0.1106 - accuracy: 0.9575 - val_loss: 0.2481 - val_accuracy: 0.9198\n",
            "Epoch 9/20\n",
            "750/750 [==============================] - 84s 112ms/step - loss: 0.0963 - accuracy: 0.9639 - val_loss: 0.2672 - val_accuracy: 0.9163\n",
            "Epoch 10/20\n",
            "750/750 [==============================] - 85s 113ms/step - loss: 0.0822 - accuracy: 0.9694 - val_loss: 0.2560 - val_accuracy: 0.9214\n",
            "Epoch 11/20\n",
            "750/750 [==============================] - 85s 113ms/step - loss: 0.0642 - accuracy: 0.9763 - val_loss: 0.2987 - val_accuracy: 0.9197\n",
            "Epoch 12/20\n",
            "750/750 [==============================] - 83s 111ms/step - loss: 0.0601 - accuracy: 0.9781 - val_loss: 0.2988 - val_accuracy: 0.9233\n",
            "Epoch 13/20\n",
            "750/750 [==============================] - 85s 113ms/step - loss: 0.0519 - accuracy: 0.9811 - val_loss: 0.3298 - val_accuracy: 0.9216\n",
            "Epoch 14/20\n",
            "750/750 [==============================] - 83s 111ms/step - loss: 0.0416 - accuracy: 0.9847 - val_loss: 0.3365 - val_accuracy: 0.9230\n",
            "Epoch 15/20\n",
            "750/750 [==============================] - 83s 111ms/step - loss: 0.0391 - accuracy: 0.9858 - val_loss: 0.3761 - val_accuracy: 0.9222\n",
            "Epoch 16/20\n",
            "750/750 [==============================] - 85s 113ms/step - loss: 0.0326 - accuracy: 0.9878 - val_loss: 0.3700 - val_accuracy: 0.9227\n",
            "Epoch 17/20\n",
            "750/750 [==============================] - 84s 111ms/step - loss: 0.0340 - accuracy: 0.9880 - val_loss: 0.3972 - val_accuracy: 0.9237\n",
            "Epoch 18/20\n",
            "750/750 [==============================] - 84s 113ms/step - loss: 0.0277 - accuracy: 0.9897 - val_loss: 0.4083 - val_accuracy: 0.9172\n",
            "Epoch 19/20\n",
            "750/750 [==============================] - 84s 112ms/step - loss: 0.0306 - accuracy: 0.9893 - val_loss: 0.4378 - val_accuracy: 0.9206\n",
            "Epoch 20/20\n",
            "750/750 [==============================] - 83s 111ms/step - loss: 0.0260 - accuracy: 0.9905 - val_loss: 0.4452 - val_accuracy: 0.9231\n"
          ],
          "name": "stdout"
        }
      ]
    },
    {
      "cell_type": "code",
      "metadata": {
        "colab": {
          "base_uri": "https://localhost:8080/"
        },
        "id": "AKO5K-OmTvBm",
        "outputId": "11d39834-9d84-4c26-f23f-2474b422b9fb"
      },
      "source": [
        "test_eval = fashion_model.evaluate(test_X, test_Y_one_hot, verbose=0)\r\n",
        "print('Test loss:', test_eval[0])\r\n",
        "print('Test accuracy:', test_eval[1])\r\n"
      ],
      "execution_count": 16,
      "outputs": [
        {
          "output_type": "stream",
          "text": [
            "Test loss: 0.46918413043022156\n",
            "Test accuracy: 0.9204000234603882\n"
          ],
          "name": "stdout"
        }
      ]
    },
    {
      "cell_type": "code",
      "metadata": {
        "colab": {
          "base_uri": "https://localhost:8080/"
        },
        "id": "muv3iqW1clf3",
        "outputId": "3ebfd914-054e-4ec4-9ec2-69b07774ddb2"
      },
      "source": [
        "print(fashion_train.history)"
      ],
      "execution_count": 20,
      "outputs": [
        {
          "output_type": "stream",
          "text": [
            "{'loss': [0.4547748565673828, 0.2844540476799011, 0.23810367286205292, 0.2038916051387787, 0.17931252717971802, 0.16100715100765228, 0.1381291151046753, 0.11635761708021164, 0.1005982756614685, 0.08531054109334946, 0.07099166512489319, 0.06604564189910889, 0.054166000336408615, 0.04638383910059929, 0.04314877465367317, 0.037794727832078934, 0.033473413437604904, 0.033317822962999344, 0.03104368783533573, 0.03222771733999252], 'accuracy': [0.8358749747276306, 0.8962500095367432, 0.9124374985694885, 0.924791693687439, 0.9333958625793457, 0.9401249885559082, 0.9487083554267883, 0.9556249976158142, 0.9628124833106995, 0.9678958058357239, 0.9735833406448364, 0.9755208492279053, 0.9796249866485596, 0.9828958511352539, 0.9841874837875366, 0.9861041903495789, 0.9878333210945129, 0.9876458048820496, 0.989062488079071, 0.9881458282470703], 'val_loss': [0.3132271468639374, 0.27005213499069214, 0.2519973814487457, 0.24360814690589905, 0.23976726830005646, 0.23506611585617065, 0.22571830451488495, 0.24810925126075745, 0.267157644033432, 0.2559993267059326, 0.29868894815444946, 0.2987532913684845, 0.3298013210296631, 0.3365180194377899, 0.3760665953159332, 0.37000343203544617, 0.39723530411720276, 0.40830960869789124, 0.4378417432308197, 0.44519391655921936], 'val_accuracy': [0.8849166631698608, 0.9009166955947876, 0.909250020980835, 0.9137499928474426, 0.9166666865348816, 0.9171666502952576, 0.9239166378974915, 0.9198333621025085, 0.9163333177566528, 0.9214166402816772, 0.9197499752044678, 0.9232500195503235, 0.921583354473114, 0.9229999780654907, 0.922166645526886, 0.9227499961853027, 0.9237499833106995, 0.9172499775886536, 0.9205833077430725, 0.9230833053588867]}\n"
          ],
          "name": "stdout"
        }
      ]
    },
    {
      "cell_type": "code",
      "metadata": {
        "colab": {
          "base_uri": "https://localhost:8080/",
          "height": 545
        },
        "id": "aGerBDNrT_Un",
        "outputId": "8349695a-8b2f-4df4-c1eb-0c2134d34479"
      },
      "source": [
        "accuracy = fashion_train.history['accuracy']\r\n",
        "val_accuracy = fashion_train.history['val_accuracy']\r\n",
        "loss = fashion_train.history['loss']\r\n",
        "val_loss = fashion_train.history['val_loss']\r\n",
        "epochs = range(len(accuracy))\r\n",
        "plt.plot(epochs, accuracy, 'bo', label='Training accuracy')\r\n",
        "plt.plot(epochs, val_accuracy, 'b', label='Validation accuracy')\r\n",
        "plt.title('Training and validation accuracy')\r\n",
        "plt.legend()\r\n",
        "plt.figure()\r\n",
        "plt.plot(epochs, loss, 'bo', label='Training loss')\r\n",
        "plt.plot(epochs, val_loss, 'b', label='Validation loss')\r\n",
        "plt.title('Training and validation loss')\r\n",
        "plt.legend()\r\n",
        "plt.show()"
      ],
      "execution_count": 21,
      "outputs": [
        {
          "output_type": "display_data",
          "data": {
            "image/png": "[encoded data removed]",
            "text/plain": [
              "<Figure size 432x288 with 1 Axes>"
            ]
          },
          "metadata": {
            "tags": [],
            "needs_background": "light"
          }
        },
        {
          "output_type": "display_data",
          "data": {
            "image/png": "[encoded data removed]",
            "text/plain": [
              "<Figure size 432x288 with 1 Axes>"
            ]
          },
          "metadata": {
            "tags": [],
            "needs_background": "light"
          }
        }
      ]
    },
    {
      "cell_type": "code",
      "metadata": {
        "id": "2m4BrvFoUGdx"
      },
      "source": [
        "batch_size = 64\r\n",
        "epochs = 5\r\n",
        "num_classes = 10"
      ],
      "execution_count": 22,
      "outputs": []
    },
    {
      "cell_type": "code",
      "metadata": {
        "id": "Bw1L1-KjUIuV"
      },
      "source": [
        "fashion_model = Sequential()\r\n",
        "fashion_model.add(Conv2D(32, kernel_size=(3, 3),activation='linear',padding='same',input_shape=(28,28,1)))\r\n",
        "fashion_model.add(LeakyReLU(alpha=0.1))\r\n",
        "fashion_model.add(MaxPooling2D((2, 2),padding='same'))\r\n",
        "fashion_model.add(Dropout(0.25))\r\n",
        "fashion_model.add(Conv2D(64, (3, 3), activation='linear',padding='same'))\r\n",
        "fashion_model.add(LeakyReLU(alpha=0.1))\r\n",
        "fashion_model.add(MaxPooling2D(pool_size=(2, 2),padding='same'))\r\n",
        "fashion_model.add(Dropout(0.25))\r\n",
        "fashion_model.add(Conv2D(128, (3, 3), activation='linear',padding='same'))\r\n",
        "fashion_model.add(LeakyReLU(alpha=0.1))                  \r\n",
        "fashion_model.add(MaxPooling2D(pool_size=(2, 2),padding='same'))\r\n",
        "fashion_model.add(Dropout(0.4))\r\n",
        "fashion_model.add(Flatten())\r\n",
        "fashion_model.add(Dense(128, activation='linear'))\r\n",
        "fashion_model.add(LeakyReLU(alpha=0.1))           \r\n",
        "fashion_model.add(Dropout(0.3))\r\n",
        "fashion_model.add(Dense(num_classes, activation='softmax'))"
      ],
      "execution_count": 23,
      "outputs": []
    },
    {
      "cell_type": "code",
      "metadata": {
        "colab": {
          "base_uri": "https://localhost:8080/"
        },
        "id": "l2SKv9tyUL4Y",
        "outputId": "126f2537-a327-4f5f-a510-a8de5f0ce22c"
      },
      "source": [
        "fashion_model.summary()\r\n"
      ],
      "execution_count": 24,
      "outputs": [
        {
          "output_type": "stream",
          "text": [
            "Model: \"sequential_1\"\n",
            "_________________________________________________________________\n",
            "Layer (type)                 Output Shape              Param #   \n",
            "=================================================================\n",
            "conv2d_3 (Conv2D)            (None, 28, 28, 32)        320       \n",
            "_________________________________________________________________\n",
            "leaky_re_lu_4 (LeakyReLU)    (None, 28, 28, 32)        0         \n",
            "_________________________________________________________________\n",
            "max_pooling2d_3 (MaxPooling2 (None, 14, 14, 32)        0         \n",
            "_________________________________________________________________\n",
            "dropout (Dropout)            (None, 14, 14, 32)        0         \n",
            "_________________________________________________________________\n",
            "conv2d_4 (Conv2D)            (None, 14, 14, 64)        18496     \n",
            "_________________________________________________________________\n",
            "leaky_re_lu_5 (LeakyReLU)    (None, 14, 14, 64)        0         \n",
            "_________________________________________________________________\n",
            "max_pooling2d_4 (MaxPooling2 (None, 7, 7, 64)          0         \n",
            "_________________________________________________________________\n",
            "dropout_1 (Dropout)          (None, 7, 7, 64)          0         \n",
            "_________________________________________________________________\n",
            "conv2d_5 (Conv2D)            (None, 7, 7, 128)         73856     \n",
            "_________________________________________________________________\n",
            "leaky_re_lu_6 (LeakyReLU)    (None, 7, 7, 128)         0         \n",
            "_________________________________________________________________\n",
            "max_pooling2d_5 (MaxPooling2 (None, 4, 4, 128)         0         \n",
            "_________________________________________________________________\n",
            "dropout_2 (Dropout)          (None, 4, 4, 128)         0         \n",
            "_________________________________________________________________\n",
            "flatten_1 (Flatten)          (None, 2048)              0         \n",
            "_________________________________________________________________\n",
            "dense_2 (Dense)              (None, 128)               262272    \n",
            "_________________________________________________________________\n",
            "leaky_re_lu_7 (LeakyReLU)    (None, 128)               0         \n",
            "_________________________________________________________________\n",
            "dropout_3 (Dropout)          (None, 128)               0         \n",
            "_________________________________________________________________\n",
            "dense_3 (Dense)              (None, 10)                1290      \n",
            "=================================================================\n",
            "Total params: 356,234\n",
            "Trainable params: 356,234\n",
            "Non-trainable params: 0\n",
            "_________________________________________________________________\n"
          ],
          "name": "stdout"
        }
      ]
    },
    {
      "cell_type": "code",
      "metadata": {
        "id": "PX2tqBbOUOV5"
      },
      "source": [
        "fashion_model.compile(loss=keras.losses.categorical_crossentropy, optimizer=keras.optimizers.Adam(),metrics=['accuracy'])\r\n"
      ],
      "execution_count": 25,
      "outputs": []
    },
    {
      "cell_type": "code",
      "metadata": {
        "colab": {
          "base_uri": "https://localhost:8080/"
        },
        "id": "LrLF8BoIUPoc",
        "outputId": "67f3ec08-a76d-40d2-f977-e7be24f06500"
      },
      "source": [
        "fashion_train_dropout = fashion_model.fit(train_X, train_label, batch_size=batch_size,epochs=epochs,verbose=1,validation_data=(valid_X, valid_label))\r\n"
      ],
      "execution_count": 26,
      "outputs": [
        {
          "output_type": "stream",
          "text": [
            "Epoch 1/5\n",
            "750/750 [==============================] - 90s 119ms/step - loss: 0.8606 - accuracy: 0.6788 - val_loss: 0.3672 - val_accuracy: 0.8643\n",
            "Epoch 2/5\n",
            "750/750 [==============================] - 90s 120ms/step - loss: 0.3945 - accuracy: 0.8563 - val_loss: 0.3077 - val_accuracy: 0.8844\n",
            "Epoch 3/5\n",
            "750/750 [==============================] - 89s 119ms/step - loss: 0.3257 - accuracy: 0.8805 - val_loss: 0.2728 - val_accuracy: 0.8975\n",
            "Epoch 4/5\n",
            "750/750 [==============================] - 90s 120ms/step - loss: 0.2952 - accuracy: 0.8892 - val_loss: 0.2623 - val_accuracy: 0.9036\n",
            "Epoch 5/5\n",
            "750/750 [==============================] - 89s 119ms/step - loss: 0.2800 - accuracy: 0.8954 - val_loss: 0.2401 - val_accuracy: 0.9112\n"
          ],
          "name": "stdout"
        }
      ]
    },
    {
      "cell_type": "code",
      "metadata": {
        "colab": {
          "base_uri": "https://localhost:8080/"
        },
        "id": "39kVppFiUSN2",
        "outputId": "001d3894-eb56-4e9c-b4e8-f761a6f1014c"
      },
      "source": [
        "fashion_model.save(\"fashion_model_dropout.h5py\")\r\n",
        "\r\n"
      ],
      "execution_count": 27,
      "outputs": [
        {
          "output_type": "stream",
          "text": [
            "INFO:tensorflow:Assets written to: fashion_model_dropout.h5py/assets\n"
          ],
          "name": "stdout"
        }
      ]
    },
    {
      "cell_type": "code",
      "metadata": {
        "colab": {
          "base_uri": "https://localhost:8080/"
        },
        "id": "I_8ldFMXUVqn",
        "outputId": "1d624c36-3388-411f-d46d-7819a919e16f"
      },
      "source": [
        "test_eval = fashion_model.evaluate(test_X, test_Y_one_hot, verbose=1)\r\n",
        "print('Test loss:', test_eval[0])\r\n",
        "print('Test accuracy:', test_eval[1])\r\n"
      ],
      "execution_count": 28,
      "outputs": [
        {
          "output_type": "stream",
          "text": [
            "313/313 [==============================] - 6s 18ms/step - loss: 0.2554 - accuracy: 0.9060\n",
            "Test loss: 0.25542140007019043\n",
            "Test accuracy: 0.906000018119812\n"
          ],
          "name": "stdout"
        }
      ]
    },
    {
      "cell_type": "code",
      "metadata": {
        "colab": {
          "base_uri": "https://localhost:8080/",
          "height": 545
        },
        "id": "OJBzYphtUZMO",
        "outputId": "de4343d7-e2d6-48c8-baa9-260e1736f4b4"
      },
      "source": [
        "accuracy = fashion_train_dropout.history['accuracy']\r\n",
        "val_accuracy = fashion_train_dropout.history['val_accuracy']\r\n",
        "loss = fashion_train_dropout.history['loss']\r\n",
        "val_loss = fashion_train_dropout.history['val_loss']\r\n",
        "epochs = range(len(accuracy))\r\n",
        "plt.plot(epochs, accuracy, 'bo', label='Training accuracy')\r\n",
        "plt.plot(epochs, val_accuracy, 'b', label='Validation accuracy')\r\n",
        "plt.title('Training and validation accuracy')\r\n",
        "plt.legend()\r\n",
        "plt.figure()\r\n",
        "plt.plot(epochs, loss, 'bo', label='Training loss')\r\n",
        "plt.plot(epochs, val_loss, 'b', label='Validation loss')\r\n",
        "plt.title('Training and validation loss')\r\n",
        "plt.legend()\r\n",
        "plt.show()"
      ],
      "execution_count": 30,
      "outputs": [
        {
          "output_type": "display_data",
          "data": {
            "image/png": "[encoded data removed]",
            "text/plain": [
              "<Figure size 432x288 with 1 Axes>"
            ]
          },
          "metadata": {
            "tags": [],
            "needs_background": "light"
          }
        },
        {
          "output_type": "display_data",
          "data": {
            "image/png": "[encoded data removed]",
            "text/plain": [
              "<Figure size 432x288 with 1 Axes>"
            ]
          },
          "metadata": {
            "tags": [],
            "needs_background": "light"
          }
        }
      ]
    },
    {
      "cell_type": "code",
      "metadata": {
        "id": "4g1T0xm4UbyC"
      },
      "source": [
        "predicted_classes = fashion_model.predict(test_X)\r\n"
      ],
      "execution_count": 31,
      "outputs": []
    },
    {
      "cell_type": "code",
      "metadata": {
        "id": "E0YWKW_OUkNG"
      },
      "source": [
        "predicted_classes = np.argmax(np.round(predicted_classes),axis=1)"
      ],
      "execution_count": 32,
      "outputs": []
    },
    {
      "cell_type": "code",
      "metadata": {
        "colab": {
          "base_uri": "https://localhost:8080/"
        },
        "id": "FUDQbTYsUlC6",
        "outputId": "0c22b1c2-0a4b-4f9d-953d-8829a00b6d4c"
      },
      "source": [
        "\r\n",
        "predicted_classes.shape, test_Y.shape"
      ],
      "execution_count": 33,
      "outputs": [
        {
          "output_type": "execute_result",
          "data": {
            "text/plain": [
              "((10000,), (10000,))"
            ]
          },
          "metadata": {
            "tags": []
          },
          "execution_count": 33
        }
      ]
    },
    {
      "cell_type": "code",
      "metadata": {
        "colab": {
          "base_uri": "https://localhost:8080/",
          "height": 314
        },
        "id": "kv4fA79CUm9p",
        "outputId": "9efe36aa-66c7-4042-f8d5-73768866f671"
      },
      "source": [
        "correct = np.where(predicted_classes==test_Y)[0]\r\n",
        "print(\"Found %d correct labels\" % len(correct))\r\n",
        "for i, correct in enumerate(correct[:9]):\r\n",
        "    plt.subplot(3,3,i+1)\r\n",
        "    plt.imshow(test_X[correct].reshape(28,28), cmap='gray', interpolation='none')\r\n",
        "    plt.title(\"Predicted {}, Class {}\".format(predicted_classes[correct], test_Y[correct]))\r\n",
        "    plt.tight_layout()"
      ],
      "execution_count": 35,
      "outputs": [
        {
          "output_type": "stream",
          "text": [
            "Found 8976 correct labels\n"
          ],
          "name": "stdout"
        },
        {
          "output_type": "display_data",
          "data": {
            "image/png": "[encoded data removed]",
            "text/plain": [
              "<Figure size 432x288 with 9 Axes>"
            ]
          },
          "metadata": {
            "tags": [],
            "needs_background": "light"
          }
        }
      ]
    },
    {
      "cell_type": "code",
      "metadata": {
        "colab": {
          "base_uri": "https://localhost:8080/",
          "height": 314
        },
        "id": "tc1B06a9Uorl",
        "outputId": "46edaded-5e63-4693-c0d1-0f430e8fa976"
      },
      "source": [
        "incorrect = np.where(predicted_classes!=test_Y)[0]\r\n",
        "print(\"Found %d incorrect labels\" % len(incorrect))\r\n",
        "for i, incorrect in enumerate(incorrect[:9]):\r\n",
        "    plt.subplot(3,3,i+1)\r\n",
        "    plt.imshow(test_X[incorrect].reshape(28,28), cmap='gray', interpolation='none')\r\n",
        "    plt.title(\"Predicted {}, Class {}\".format(predicted_classes[incorrect], test_Y[incorrect]))\r\n",
        "    plt.tight_layout()"
      ],
      "execution_count": 37,
      "outputs": [
        {
          "output_type": "stream",
          "text": [
            "Found 1024 incorrect labels\n"
          ],
          "name": "stdout"
        },
        {
          "output_type": "display_data",
          "data": {
            "image/png": "[encoded data removed]",
            "text/plain": [
              "<Figure size 432x288 with 9 Axes>"
            ]
          },
          "metadata": {
            "tags": [],
            "needs_background": "light"
          }
        }
      ]
    },
    {
      "cell_type": "code",
      "metadata": {
        "colab": {
          "base_uri": "https://localhost:8080/"
        },
        "id": "tHySZw2gUqqn",
        "outputId": "b4a52f1d-8846-4a92-e312-9ad1f70c6dca"
      },
      "source": [
        "from sklearn.metrics import classification_report\r\n",
        "target_names = [\"Class {}\".format(i) for i in range(num_classes)]\r\n",
        "print(classification_report(test_Y, predicted_classes, target_names=target_names))"
      ],
      "execution_count": 38,
      "outputs": [
        {
          "output_type": "stream",
          "text": [
            "              precision    recall  f1-score   support\n",
            "\n",
            "     Class 0       0.70      0.89      0.78      1000\n",
            "     Class 1       0.99      0.98      0.98      1000\n",
            "     Class 2       0.89      0.82      0.86      1000\n",
            "     Class 3       0.94      0.86      0.90      1000\n",
            "     Class 4       0.85      0.84      0.84      1000\n",
            "     Class 5       0.99      0.98      0.98      1000\n",
            "     Class 6       0.77      0.69      0.72      1000\n",
            "     Class 7       0.96      0.96      0.96      1000\n",
            "     Class 8       0.99      0.98      0.98      1000\n",
            "     Class 9       0.96      0.97      0.96      1000\n",
            "\n",
            "    accuracy                           0.90     10000\n",
            "   macro avg       0.90      0.90      0.90     10000\n",
            "weighted avg       0.90      0.90      0.90     10000\n",
            "\n"
          ],
          "name": "stdout"
        }
      ]
    }
  ]
}